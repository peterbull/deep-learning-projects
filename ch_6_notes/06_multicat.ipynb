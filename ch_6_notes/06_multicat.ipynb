{
 "cells": [
  {
   "cell_type": "code",
   "execution_count": 1,
   "metadata": {},
   "outputs": [],
   "source": [
    "from fastbook import *"
   ]
  },
  {
   "cell_type": "code",
   "execution_count": 2,
   "metadata": {},
   "outputs": [],
   "source": [
    "from fastai.vision.all import *\n",
    "path = untar_data(URLs.PASCAL_2007)"
   ]
  },
  {
   "cell_type": "code",
   "execution_count": 3,
   "metadata": {},
   "outputs": [
    {
     "data": {
      "text/html": [
       "<div>\n",
       "<style scoped>\n",
       "    .dataframe tbody tr th:only-of-type {\n",
       "        vertical-align: middle;\n",
       "    }\n",
       "\n",
       "    .dataframe tbody tr th {\n",
       "        vertical-align: top;\n",
       "    }\n",
       "\n",
       "    .dataframe thead th {\n",
       "        text-align: right;\n",
       "    }\n",
       "</style>\n",
       "<table border=\"1\" class=\"dataframe\">\n",
       "  <thead>\n",
       "    <tr style=\"text-align: right;\">\n",
       "      <th></th>\n",
       "      <th>fname</th>\n",
       "      <th>labels</th>\n",
       "      <th>is_valid</th>\n",
       "    </tr>\n",
       "  </thead>\n",
       "  <tbody>\n",
       "    <tr>\n",
       "      <th>0</th>\n",
       "      <td>000005.jpg</td>\n",
       "      <td>chair</td>\n",
       "      <td>True</td>\n",
       "    </tr>\n",
       "    <tr>\n",
       "      <th>1</th>\n",
       "      <td>000007.jpg</td>\n",
       "      <td>car</td>\n",
       "      <td>True</td>\n",
       "    </tr>\n",
       "    <tr>\n",
       "      <th>2</th>\n",
       "      <td>000009.jpg</td>\n",
       "      <td>horse person</td>\n",
       "      <td>True</td>\n",
       "    </tr>\n",
       "    <tr>\n",
       "      <th>3</th>\n",
       "      <td>000012.jpg</td>\n",
       "      <td>car</td>\n",
       "      <td>False</td>\n",
       "    </tr>\n",
       "    <tr>\n",
       "      <th>4</th>\n",
       "      <td>000016.jpg</td>\n",
       "      <td>bicycle</td>\n",
       "      <td>True</td>\n",
       "    </tr>\n",
       "  </tbody>\n",
       "</table>\n",
       "</div>"
      ],
      "text/plain": [
       "        fname        labels  is_valid\n",
       "0  000005.jpg         chair      True\n",
       "1  000007.jpg           car      True\n",
       "2  000009.jpg  horse person      True\n",
       "3  000012.jpg           car     False\n",
       "4  000016.jpg       bicycle      True"
      ]
     },
     "execution_count": 3,
     "metadata": {},
     "output_type": "execute_result"
    }
   ],
   "source": [
    "df = pd.read_csv(path/'train.csv')\n",
    "df.head()"
   ]
  },
  {
   "cell_type": "code",
   "execution_count": 4,
   "metadata": {},
   "outputs": [
    {
     "data": {
      "text/html": [
       "<div>\n",
       "<style scoped>\n",
       "    .dataframe tbody tr th:only-of-type {\n",
       "        vertical-align: middle;\n",
       "    }\n",
       "\n",
       "    .dataframe tbody tr th {\n",
       "        vertical-align: top;\n",
       "    }\n",
       "\n",
       "    .dataframe thead th {\n",
       "        text-align: right;\n",
       "    }\n",
       "</style>\n",
       "<table border=\"1\" class=\"dataframe\">\n",
       "  <thead>\n",
       "    <tr style=\"text-align: right;\">\n",
       "      <th></th>\n",
       "      <th>fname</th>\n",
       "      <th>labels</th>\n",
       "      <th>is_valid</th>\n",
       "    </tr>\n",
       "  </thead>\n",
       "  <tbody>\n",
       "    <tr>\n",
       "      <th>count</th>\n",
       "      <td>5011</td>\n",
       "      <td>5011</td>\n",
       "      <td>5011</td>\n",
       "    </tr>\n",
       "    <tr>\n",
       "      <th>unique</th>\n",
       "      <td>5011</td>\n",
       "      <td>473</td>\n",
       "      <td>2</td>\n",
       "    </tr>\n",
       "    <tr>\n",
       "      <th>top</th>\n",
       "      <td>000005.jpg</td>\n",
       "      <td>person</td>\n",
       "      <td>True</td>\n",
       "    </tr>\n",
       "    <tr>\n",
       "      <th>freq</th>\n",
       "      <td>1</td>\n",
       "      <td>408</td>\n",
       "      <td>2510</td>\n",
       "    </tr>\n",
       "  </tbody>\n",
       "</table>\n",
       "</div>"
      ],
      "text/plain": [
       "             fname  labels is_valid\n",
       "count         5011    5011     5011\n",
       "unique        5011     473        2\n",
       "top     000005.jpg  person     True\n",
       "freq             1     408     2510"
      ]
     },
     "execution_count": 4,
     "metadata": {},
     "output_type": "execute_result"
    }
   ],
   "source": [
    "df.describe()"
   ]
  },
  {
   "cell_type": "code",
   "execution_count": 5,
   "metadata": {},
   "outputs": [
    {
     "data": {
      "text/plain": [
       "0       000005.jpg\n",
       "1       000007.jpg\n",
       "2       000009.jpg\n",
       "3       000012.jpg\n",
       "4       000016.jpg\n",
       "           ...    \n",
       "5006    009954.jpg\n",
       "5007    009955.jpg\n",
       "5008    009958.jpg\n",
       "5009    009959.jpg\n",
       "5010    009961.jpg\n",
       "Name: fname, Length: 5011, dtype: object"
      ]
     },
     "execution_count": 5,
     "metadata": {},
     "output_type": "execute_result"
    }
   ],
   "source": [
    "df.iloc[:,0]"
   ]
  },
  {
   "cell_type": "code",
   "execution_count": 6,
   "metadata": {},
   "outputs": [
    {
     "data": {
      "text/plain": [
       "fname       000005.jpg\n",
       "labels           chair\n",
       "is_valid          True\n",
       "Name: 0, dtype: object"
      ]
     },
     "execution_count": 6,
     "metadata": {},
     "output_type": "execute_result"
    }
   ],
   "source": [
    "df.iloc[0,:]"
   ]
  },
  {
   "cell_type": "code",
   "execution_count": 7,
   "metadata": {},
   "outputs": [
    {
     "data": {
      "text/plain": [
       "fname       000005.jpg\n",
       "labels           chair\n",
       "is_valid          True\n",
       "Name: 0, dtype: object"
      ]
     },
     "execution_count": 7,
     "metadata": {},
     "output_type": "execute_result"
    }
   ],
   "source": [
    "df.iloc[0]"
   ]
  },
  {
   "cell_type": "code",
   "execution_count": 8,
   "metadata": {},
   "outputs": [
    {
     "data": {
      "text/plain": [
       "0       000005.jpg\n",
       "1       000007.jpg\n",
       "2       000009.jpg\n",
       "3       000012.jpg\n",
       "4       000016.jpg\n",
       "           ...    \n",
       "5006    009954.jpg\n",
       "5007    009955.jpg\n",
       "5008    009958.jpg\n",
       "5009    009959.jpg\n",
       "5010    009961.jpg\n",
       "Name: fname, Length: 5011, dtype: object"
      ]
     },
     "execution_count": 8,
     "metadata": {},
     "output_type": "execute_result"
    }
   ],
   "source": [
    "df['fname']"
   ]
  },
  {
   "cell_type": "code",
   "execution_count": 9,
   "metadata": {},
   "outputs": [],
   "source": [
    "tmp_df = pd.DataFrame({'a':[1,2], 'b':[3,4]})"
   ]
  },
  {
   "cell_type": "code",
   "execution_count": 10,
   "metadata": {},
   "outputs": [
    {
     "data": {
      "text/html": [
       "<div>\n",
       "<style scoped>\n",
       "    .dataframe tbody tr th:only-of-type {\n",
       "        vertical-align: middle;\n",
       "    }\n",
       "\n",
       "    .dataframe tbody tr th {\n",
       "        vertical-align: top;\n",
       "    }\n",
       "\n",
       "    .dataframe thead th {\n",
       "        text-align: right;\n",
       "    }\n",
       "</style>\n",
       "<table border=\"1\" class=\"dataframe\">\n",
       "  <thead>\n",
       "    <tr style=\"text-align: right;\">\n",
       "      <th></th>\n",
       "      <th>a</th>\n",
       "      <th>b</th>\n",
       "    </tr>\n",
       "  </thead>\n",
       "  <tbody>\n",
       "    <tr>\n",
       "      <th>0</th>\n",
       "      <td>1</td>\n",
       "      <td>3</td>\n",
       "    </tr>\n",
       "    <tr>\n",
       "      <th>1</th>\n",
       "      <td>2</td>\n",
       "      <td>4</td>\n",
       "    </tr>\n",
       "  </tbody>\n",
       "</table>\n",
       "</div>"
      ],
      "text/plain": [
       "   a  b\n",
       "0  1  3\n",
       "1  2  4"
      ]
     },
     "execution_count": 10,
     "metadata": {},
     "output_type": "execute_result"
    }
   ],
   "source": [
    "tmp_df"
   ]
  },
  {
   "cell_type": "code",
   "execution_count": 11,
   "metadata": {},
   "outputs": [
    {
     "data": {
      "text/html": [
       "<div>\n",
       "<style scoped>\n",
       "    .dataframe tbody tr th:only-of-type {\n",
       "        vertical-align: middle;\n",
       "    }\n",
       "\n",
       "    .dataframe tbody tr th {\n",
       "        vertical-align: top;\n",
       "    }\n",
       "\n",
       "    .dataframe thead th {\n",
       "        text-align: right;\n",
       "    }\n",
       "</style>\n",
       "<table border=\"1\" class=\"dataframe\">\n",
       "  <thead>\n",
       "    <tr style=\"text-align: right;\">\n",
       "      <th></th>\n",
       "      <th>a</th>\n",
       "      <th>b</th>\n",
       "      <th>c</th>\n",
       "    </tr>\n",
       "  </thead>\n",
       "  <tbody>\n",
       "    <tr>\n",
       "      <th>0</th>\n",
       "      <td>1</td>\n",
       "      <td>3</td>\n",
       "      <td>4</td>\n",
       "    </tr>\n",
       "    <tr>\n",
       "      <th>1</th>\n",
       "      <td>2</td>\n",
       "      <td>4</td>\n",
       "      <td>6</td>\n",
       "    </tr>\n",
       "  </tbody>\n",
       "</table>\n",
       "</div>"
      ],
      "text/plain": [
       "   a  b  c\n",
       "0  1  3  4\n",
       "1  2  4  6"
      ]
     },
     "execution_count": 11,
     "metadata": {},
     "output_type": "execute_result"
    }
   ],
   "source": [
    "tmp_df['c'] = tmp_df['a']+tmp_df['b']\n",
    "tmp_df"
   ]
  },
  {
   "cell_type": "code",
   "execution_count": 12,
   "metadata": {},
   "outputs": [],
   "source": [
    "dblock = DataBlock()"
   ]
  },
  {
   "cell_type": "code",
   "execution_count": 13,
   "metadata": {},
   "outputs": [],
   "source": [
    "dsets = dblock.datasets(df)"
   ]
  },
  {
   "cell_type": "code",
   "execution_count": 14,
   "metadata": {},
   "outputs": [
    {
     "data": {
      "text/plain": [
       "(4009, 1002)"
      ]
     },
     "execution_count": 14,
     "metadata": {},
     "output_type": "execute_result"
    }
   ],
   "source": [
    "len(dsets.train), len(dsets.valid)"
   ]
  },
  {
   "cell_type": "code",
   "execution_count": 15,
   "metadata": {},
   "outputs": [
    {
     "data": {
      "text/html": [
       "<div>\n",
       "<style scoped>\n",
       "    .dataframe tbody tr th:only-of-type {\n",
       "        vertical-align: middle;\n",
       "    }\n",
       "\n",
       "    .dataframe tbody tr th {\n",
       "        vertical-align: top;\n",
       "    }\n",
       "\n",
       "    .dataframe thead th {\n",
       "        text-align: right;\n",
       "    }\n",
       "</style>\n",
       "<table border=\"1\" class=\"dataframe\">\n",
       "  <thead>\n",
       "    <tr style=\"text-align: right;\">\n",
       "      <th></th>\n",
       "      <th>fname</th>\n",
       "      <th>labels</th>\n",
       "      <th>is_valid</th>\n",
       "    </tr>\n",
       "  </thead>\n",
       "  <tbody>\n",
       "    <tr>\n",
       "      <th>0</th>\n",
       "      <td>000005.jpg</td>\n",
       "      <td>chair</td>\n",
       "      <td>True</td>\n",
       "    </tr>\n",
       "    <tr>\n",
       "      <th>1</th>\n",
       "      <td>000007.jpg</td>\n",
       "      <td>car</td>\n",
       "      <td>True</td>\n",
       "    </tr>\n",
       "    <tr>\n",
       "      <th>2</th>\n",
       "      <td>000009.jpg</td>\n",
       "      <td>horse person</td>\n",
       "      <td>True</td>\n",
       "    </tr>\n",
       "    <tr>\n",
       "      <th>3</th>\n",
       "      <td>000012.jpg</td>\n",
       "      <td>car</td>\n",
       "      <td>False</td>\n",
       "    </tr>\n",
       "    <tr>\n",
       "      <th>4</th>\n",
       "      <td>000016.jpg</td>\n",
       "      <td>bicycle</td>\n",
       "      <td>True</td>\n",
       "    </tr>\n",
       "    <tr>\n",
       "      <th>...</th>\n",
       "      <td>...</td>\n",
       "      <td>...</td>\n",
       "      <td>...</td>\n",
       "    </tr>\n",
       "    <tr>\n",
       "      <th>5006</th>\n",
       "      <td>009954.jpg</td>\n",
       "      <td>horse person</td>\n",
       "      <td>True</td>\n",
       "    </tr>\n",
       "    <tr>\n",
       "      <th>5007</th>\n",
       "      <td>009955.jpg</td>\n",
       "      <td>boat</td>\n",
       "      <td>True</td>\n",
       "    </tr>\n",
       "    <tr>\n",
       "      <th>5008</th>\n",
       "      <td>009958.jpg</td>\n",
       "      <td>person bicycle</td>\n",
       "      <td>True</td>\n",
       "    </tr>\n",
       "    <tr>\n",
       "      <th>5009</th>\n",
       "      <td>009959.jpg</td>\n",
       "      <td>car</td>\n",
       "      <td>False</td>\n",
       "    </tr>\n",
       "    <tr>\n",
       "      <th>5010</th>\n",
       "      <td>009961.jpg</td>\n",
       "      <td>dog</td>\n",
       "      <td>False</td>\n",
       "    </tr>\n",
       "  </tbody>\n",
       "</table>\n",
       "<p>5011 rows × 3 columns</p>\n",
       "</div>"
      ],
      "text/plain": [
       "           fname          labels  is_valid\n",
       "0     000005.jpg           chair      True\n",
       "1     000007.jpg             car      True\n",
       "2     000009.jpg    horse person      True\n",
       "3     000012.jpg             car     False\n",
       "4     000016.jpg         bicycle      True\n",
       "...          ...             ...       ...\n",
       "5006  009954.jpg    horse person      True\n",
       "5007  009955.jpg            boat      True\n",
       "5008  009958.jpg  person bicycle      True\n",
       "5009  009959.jpg             car     False\n",
       "5010  009961.jpg             dog     False\n",
       "\n",
       "[5011 rows x 3 columns]"
      ]
     },
     "execution_count": 15,
     "metadata": {},
     "output_type": "execute_result"
    }
   ],
   "source": [
    "dsets.items"
   ]
  },
  {
   "cell_type": "code",
   "execution_count": 16,
   "metadata": {},
   "outputs": [
    {
     "data": {
      "text/plain": [
       "(fname       008663.jpg\n",
       " labels      car person\n",
       " is_valid         False\n",
       " Name: 4346, dtype: object,\n",
       " fname       008663.jpg\n",
       " labels      car person\n",
       " is_valid         False\n",
       " Name: 4346, dtype: object)"
      ]
     },
     "execution_count": 16,
     "metadata": {},
     "output_type": "execute_result"
    }
   ],
   "source": [
    "x,y = dsets.train[0]\n",
    "x,y"
   ]
  },
  {
   "cell_type": "code",
   "execution_count": 17,
   "metadata": {},
   "outputs": [
    {
     "data": {
      "text/plain": [
       "'008663.jpg'"
      ]
     },
     "execution_count": 17,
     "metadata": {},
     "output_type": "execute_result"
    }
   ],
   "source": [
    "x['fname']"
   ]
  },
  {
   "cell_type": "code",
   "execution_count": 18,
   "metadata": {},
   "outputs": [
    {
     "data": {
      "text/plain": [
       "('005620.jpg', 'aeroplane')"
      ]
     },
     "execution_count": 18,
     "metadata": {},
     "output_type": "execute_result"
    }
   ],
   "source": [
    "dblock = DataBlock(get_x= lambda r: r['fname'], get_y= lambda r: r['labels'])\n",
    "dsets = dblock.datasets(df)\n",
    "dsets.train[0]"
   ]
  },
  {
   "cell_type": "code",
   "execution_count": 19,
   "metadata": {},
   "outputs": [
    {
     "data": {
      "text/plain": [
       "('000005.jpg', 'chair')"
      ]
     },
     "execution_count": 19,
     "metadata": {},
     "output_type": "execute_result"
    }
   ],
   "source": [
    "def get_x(r): return r['fname']\n",
    "def get_y(r): return r['labels']\n",
    "dblock = DataBlock(get_x=get_x, get_y=get_y)\n",
    "dsets = dblock.datasets(df)\n",
    "dsets[0]"
   ]
  },
  {
   "attachments": {},
   "cell_type": "markdown",
   "metadata": {},
   "source": [
    "\n",
    "We can see that the independent variable will need to be converted into a complete path, so that we can open it as an image, and the dependent variable will need to be split on the space character (which is the default for Python’s split function) so that it becomes a list:"
   ]
  },
  {
   "cell_type": "code",
   "execution_count": 20,
   "metadata": {},
   "outputs": [
    {
     "data": {
      "text/plain": [
       "(Path('/home/petewin/.fastai/data/pascal_2007/train/000009.jpg'),\n",
       " ['horse', 'person'])"
      ]
     },
     "execution_count": 20,
     "metadata": {},
     "output_type": "execute_result"
    }
   ],
   "source": [
    "def get_x(r): return path/'train'/r['fname']\n",
    "def get_y(r): return r['labels'].split(' ')\n",
    "dblock = DataBlock(get_x=get_x, get_y=get_y)\n",
    "dsets = dblock.datasets(df)\n",
    "dsets[2]"
   ]
  },
  {
   "cell_type": "code",
   "execution_count": 21,
   "metadata": {},
   "outputs": [
    {
     "data": {
      "text/plain": [
       "(PILImage mode=RGB size=500x375,\n",
       " TensorMultiCategory([0., 0., 0., 0., 0., 0., 0., 0., 0., 0., 0., 1., 0., 0., 0., 0., 0., 0., 0., 0.]))"
      ]
     },
     "execution_count": 21,
     "metadata": {},
     "output_type": "execute_result"
    }
   ],
   "source": [
    "dblock = DataBlock(blocks=(ImageBlock, MultiCategoryBlock),\n",
    "                   get_x=get_x, get_y=get_y)\n",
    "dsets = dblock.datasets(df)\n",
    "dsets.train[0]"
   ]
  },
  {
   "cell_type": "code",
   "execution_count": 22,
   "metadata": {},
   "outputs": [
    {
     "data": {
      "text/plain": [
       "TensorMultiCategory([0., 0., 0., 0., 0., 0., 0., 0., 0., 0., 0., 1., 0., 0., 0., 0., 0., 0., 0., 0.])"
      ]
     },
     "execution_count": 22,
     "metadata": {},
     "output_type": "execute_result"
    }
   ],
   "source": [
    "dsets.train[0][1]"
   ]
  },
  {
   "cell_type": "code",
   "execution_count": 23,
   "metadata": {},
   "outputs": [
    {
     "data": {
      "text/plain": [
       "(#1) ['dog']"
      ]
     },
     "execution_count": 23,
     "metadata": {},
     "output_type": "execute_result"
    }
   ],
   "source": [
    "idxs = torch.where(dsets.train[0][1]==1.)[0]\n",
    "dsets.train.vocab[idxs]"
   ]
  },
  {
   "cell_type": "code",
   "execution_count": 24,
   "metadata": {},
   "outputs": [
    {
     "data": {
      "text/html": [
       "<div>\n",
       "<style scoped>\n",
       "    .dataframe tbody tr th:only-of-type {\n",
       "        vertical-align: middle;\n",
       "    }\n",
       "\n",
       "    .dataframe tbody tr th {\n",
       "        vertical-align: top;\n",
       "    }\n",
       "\n",
       "    .dataframe thead th {\n",
       "        text-align: right;\n",
       "    }\n",
       "</style>\n",
       "<table border=\"1\" class=\"dataframe\">\n",
       "  <thead>\n",
       "    <tr style=\"text-align: right;\">\n",
       "      <th></th>\n",
       "      <th>fname</th>\n",
       "      <th>labels</th>\n",
       "      <th>is_valid</th>\n",
       "    </tr>\n",
       "  </thead>\n",
       "  <tbody>\n",
       "    <tr>\n",
       "      <th>0</th>\n",
       "      <td>000005.jpg</td>\n",
       "      <td>chair</td>\n",
       "      <td>True</td>\n",
       "    </tr>\n",
       "    <tr>\n",
       "      <th>1</th>\n",
       "      <td>000007.jpg</td>\n",
       "      <td>car</td>\n",
       "      <td>True</td>\n",
       "    </tr>\n",
       "    <tr>\n",
       "      <th>2</th>\n",
       "      <td>000009.jpg</td>\n",
       "      <td>horse person</td>\n",
       "      <td>True</td>\n",
       "    </tr>\n",
       "    <tr>\n",
       "      <th>3</th>\n",
       "      <td>000012.jpg</td>\n",
       "      <td>car</td>\n",
       "      <td>False</td>\n",
       "    </tr>\n",
       "    <tr>\n",
       "      <th>4</th>\n",
       "      <td>000016.jpg</td>\n",
       "      <td>bicycle</td>\n",
       "      <td>True</td>\n",
       "    </tr>\n",
       "  </tbody>\n",
       "</table>\n",
       "</div>"
      ],
      "text/plain": [
       "        fname        labels  is_valid\n",
       "0  000005.jpg         chair      True\n",
       "1  000007.jpg           car      True\n",
       "2  000009.jpg  horse person      True\n",
       "3  000012.jpg           car     False\n",
       "4  000016.jpg       bicycle      True"
      ]
     },
     "execution_count": 24,
     "metadata": {},
     "output_type": "execute_result"
    }
   ],
   "source": [
    "df.head()"
   ]
  },
  {
   "cell_type": "code",
   "execution_count": 25,
   "metadata": {},
   "outputs": [
    {
     "data": {
      "text/plain": [
       "[0,\n",
       " 1,\n",
       " 2,\n",
       " 4,\n",
       " 6,\n",
       " 7,\n",
       " 8,\n",
       " 10,\n",
       " 12,\n",
       " 18,\n",
       " 19,\n",
       " 22,\n",
       " 25,\n",
       " 26,\n",
       " 27,\n",
       " 28,\n",
       " 30,\n",
       " 32,\n",
       " 34,\n",
       " 38,\n",
       " 42,\n",
       " 43,\n",
       " 44,\n",
       " 45,\n",
       " 46,\n",
       " 48,\n",
       " 49,\n",
       " 50,\n",
       " 52,\n",
       " 53,\n",
       " 54,\n",
       " 55,\n",
       " 56,\n",
       " 58,\n",
       " 59,\n",
       " 61,\n",
       " 62,\n",
       " 63,\n",
       " 69,\n",
       " 70,\n",
       " 71,\n",
       " 73,\n",
       " 76,\n",
       " 77,\n",
       " 83,\n",
       " 84,\n",
       " 85,\n",
       " 89,\n",
       " 90,\n",
       " 91,\n",
       " 94,\n",
       " 100,\n",
       " 102,\n",
       " 104,\n",
       " 105,\n",
       " 106,\n",
       " 107,\n",
       " 108,\n",
       " 111,\n",
       " 113,\n",
       " 116,\n",
       " 117,\n",
       " 118,\n",
       " 120,\n",
       " 121,\n",
       " 123,\n",
       " 124,\n",
       " 125,\n",
       " 126,\n",
       " 128,\n",
       " 130,\n",
       " 134,\n",
       " 135,\n",
       " 136,\n",
       " 137,\n",
       " 138,\n",
       " 142,\n",
       " 144,\n",
       " 147,\n",
       " 148,\n",
       " 149,\n",
       " 150,\n",
       " 151,\n",
       " 154,\n",
       " 158,\n",
       " 160,\n",
       " 161,\n",
       " 162,\n",
       " 164,\n",
       " 165,\n",
       " 167,\n",
       " 169,\n",
       " 171,\n",
       " 172,\n",
       " 173,\n",
       " 177,\n",
       " 178,\n",
       " 181,\n",
       " 185,\n",
       " 186,\n",
       " 188,\n",
       " 189,\n",
       " 195,\n",
       " 197,\n",
       " 201,\n",
       " 204,\n",
       " 205,\n",
       " 206,\n",
       " 207,\n",
       " 208,\n",
       " 209,\n",
       " 212,\n",
       " 213,\n",
       " 215,\n",
       " 216,\n",
       " 218,\n",
       " 221,\n",
       " 222,\n",
       " 223,\n",
       " 224,\n",
       " 226,\n",
       " 233,\n",
       " 234,\n",
       " 235,\n",
       " 237,\n",
       " 239,\n",
       " 240,\n",
       " 241,\n",
       " 243,\n",
       " 244,\n",
       " 245,\n",
       " 246,\n",
       " 249,\n",
       " 250,\n",
       " 251,\n",
       " 252,\n",
       " 256,\n",
       " 258,\n",
       " 263,\n",
       " 264,\n",
       " 267,\n",
       " 269,\n",
       " 271,\n",
       " 278,\n",
       " 279,\n",
       " 282,\n",
       " 283,\n",
       " 284,\n",
       " 286,\n",
       " 289,\n",
       " 292,\n",
       " 293,\n",
       " 294,\n",
       " 296,\n",
       " 298,\n",
       " 300,\n",
       " 301,\n",
       " 305,\n",
       " 306,\n",
       " 310,\n",
       " 311,\n",
       " 312,\n",
       " 314,\n",
       " 316,\n",
       " 318,\n",
       " 319,\n",
       " 320,\n",
       " 321,\n",
       " 324,\n",
       " 325,\n",
       " 326,\n",
       " 328,\n",
       " 329,\n",
       " 331,\n",
       " 334,\n",
       " 335,\n",
       " 339,\n",
       " 340,\n",
       " 341,\n",
       " 345,\n",
       " 346,\n",
       " 347,\n",
       " 348,\n",
       " 349,\n",
       " 351,\n",
       " 353,\n",
       " 356,\n",
       " 359,\n",
       " 360,\n",
       " 361,\n",
       " 362,\n",
       " 363,\n",
       " 366,\n",
       " 367,\n",
       " 368,\n",
       " 370,\n",
       " 375,\n",
       " 376,\n",
       " 378,\n",
       " 379,\n",
       " 380,\n",
       " 381,\n",
       " 382,\n",
       " 383,\n",
       " 384,\n",
       " 386,\n",
       " 388,\n",
       " 389,\n",
       " 390,\n",
       " 391,\n",
       " 394,\n",
       " 395,\n",
       " 398,\n",
       " 399,\n",
       " 400,\n",
       " 405,\n",
       " 410,\n",
       " 411,\n",
       " 412,\n",
       " 413,\n",
       " 414,\n",
       " 416,\n",
       " 417,\n",
       " 421,\n",
       " 422,\n",
       " 423,\n",
       " 426,\n",
       " 427,\n",
       " 430,\n",
       " 432,\n",
       " 433,\n",
       " 434,\n",
       " 435,\n",
       " 436,\n",
       " 437,\n",
       " 438,\n",
       " 439,\n",
       " 444,\n",
       " 445,\n",
       " 450,\n",
       " 454,\n",
       " 457,\n",
       " 458,\n",
       " 460,\n",
       " 461,\n",
       " 462,\n",
       " 463,\n",
       " 465,\n",
       " 466,\n",
       " 467,\n",
       " 469,\n",
       " 471,\n",
       " 472,\n",
       " 473,\n",
       " 474,\n",
       " 484,\n",
       " 485,\n",
       " 486,\n",
       " 489,\n",
       " 499,\n",
       " 501,\n",
       " 504,\n",
       " 507,\n",
       " 508,\n",
       " 510,\n",
       " 511,\n",
       " 513,\n",
       " 514,\n",
       " 516,\n",
       " 518,\n",
       " 519,\n",
       " 520,\n",
       " 523,\n",
       " 524,\n",
       " 526,\n",
       " 528,\n",
       " 530,\n",
       " 532,\n",
       " 537,\n",
       " 538,\n",
       " 539,\n",
       " 540,\n",
       " 541,\n",
       " 542,\n",
       " 544,\n",
       " 545,\n",
       " 547,\n",
       " 548,\n",
       " 549,\n",
       " 553,\n",
       " 554,\n",
       " 555,\n",
       " 559,\n",
       " 560,\n",
       " 562,\n",
       " 563,\n",
       " 564,\n",
       " 565,\n",
       " 567,\n",
       " 568,\n",
       " 571,\n",
       " 574,\n",
       " 575,\n",
       " 576,\n",
       " 577,\n",
       " 579,\n",
       " 583,\n",
       " 584,\n",
       " 586,\n",
       " 587,\n",
       " 588,\n",
       " 589,\n",
       " 591,\n",
       " 593,\n",
       " 594,\n",
       " 595,\n",
       " 596,\n",
       " 599,\n",
       " 602,\n",
       " 605,\n",
       " 606,\n",
       " 607,\n",
       " 608,\n",
       " 612,\n",
       " 613,\n",
       " 615,\n",
       " 619,\n",
       " 620,\n",
       " 622,\n",
       " 623,\n",
       " 625,\n",
       " 626,\n",
       " 628,\n",
       " 629,\n",
       " 633,\n",
       " 635,\n",
       " 636,\n",
       " 638,\n",
       " 639,\n",
       " 640,\n",
       " 642,\n",
       " 643,\n",
       " 644,\n",
       " 645,\n",
       " 646,\n",
       " 648,\n",
       " 652,\n",
       " 653,\n",
       " 657,\n",
       " 659,\n",
       " 663,\n",
       " 667,\n",
       " 668,\n",
       " 669,\n",
       " 673,\n",
       " 674,\n",
       " 675,\n",
       " 676,\n",
       " 677,\n",
       " 680,\n",
       " 681,\n",
       " 683,\n",
       " 686,\n",
       " 687,\n",
       " 692,\n",
       " 693,\n",
       " 700,\n",
       " 707,\n",
       " 708,\n",
       " 711,\n",
       " 712,\n",
       " 714,\n",
       " 715,\n",
       " 716,\n",
       " 722,\n",
       " 723,\n",
       " 724,\n",
       " 725,\n",
       " 726,\n",
       " 727,\n",
       " 730,\n",
       " 731,\n",
       " 734,\n",
       " 736,\n",
       " 740,\n",
       " 742,\n",
       " 744,\n",
       " 749,\n",
       " 750,\n",
       " 752,\n",
       " 756,\n",
       " 757,\n",
       " 762,\n",
       " 764,\n",
       " 765,\n",
       " 767,\n",
       " 768,\n",
       " 769,\n",
       " 770,\n",
       " 772,\n",
       " 773,\n",
       " 778,\n",
       " 780,\n",
       " 781,\n",
       " 783,\n",
       " 786,\n",
       " 788,\n",
       " 792,\n",
       " 794,\n",
       " 795,\n",
       " 798,\n",
       " 802,\n",
       " 803,\n",
       " 804,\n",
       " 807,\n",
       " 809,\n",
       " 812,\n",
       " 813,\n",
       " 814,\n",
       " 816,\n",
       " 820,\n",
       " 826,\n",
       " 828,\n",
       " 829,\n",
       " 831,\n",
       " 834,\n",
       " 835,\n",
       " 837,\n",
       " 839,\n",
       " 840,\n",
       " 848,\n",
       " 851,\n",
       " 852,\n",
       " 853,\n",
       " 854,\n",
       " 856,\n",
       " 863,\n",
       " 864,\n",
       " 865,\n",
       " 869,\n",
       " 870,\n",
       " 877,\n",
       " 878,\n",
       " 879,\n",
       " 881,\n",
       " 883,\n",
       " 884,\n",
       " 885,\n",
       " 888,\n",
       " 889,\n",
       " 890,\n",
       " 891,\n",
       " 893,\n",
       " 895,\n",
       " 898,\n",
       " 899,\n",
       " 902,\n",
       " 904,\n",
       " 906,\n",
       " 909,\n",
       " 912,\n",
       " 915,\n",
       " 916,\n",
       " 919,\n",
       " 921,\n",
       " 923,\n",
       " 926,\n",
       " 927,\n",
       " 928,\n",
       " 929,\n",
       " 931,\n",
       " 932,\n",
       " 933,\n",
       " 938,\n",
       " 939,\n",
       " 944,\n",
       " 945,\n",
       " 947,\n",
       " 948,\n",
       " 950,\n",
       " 953,\n",
       " 954,\n",
       " 955,\n",
       " 956,\n",
       " 957,\n",
       " 960,\n",
       " 962,\n",
       " 964,\n",
       " 968,\n",
       " 970,\n",
       " 972,\n",
       " 973,\n",
       " 975,\n",
       " 976,\n",
       " 981,\n",
       " 986,\n",
       " 991,\n",
       " 994,\n",
       " 996,\n",
       " 997,\n",
       " 998,\n",
       " 999,\n",
       " 1002,\n",
       " 1004,\n",
       " 1009,\n",
       " 1013,\n",
       " 1016,\n",
       " 1018,\n",
       " 1019,\n",
       " 1020,\n",
       " 1023,\n",
       " 1024,\n",
       " 1025,\n",
       " 1026,\n",
       " 1027,\n",
       " 1028,\n",
       " 1029,\n",
       " 1030,\n",
       " 1033,\n",
       " 1034,\n",
       " 1035,\n",
       " 1036,\n",
       " 1039,\n",
       " 1040,\n",
       " 1041,\n",
       " 1045,\n",
       " 1046,\n",
       " 1048,\n",
       " 1051,\n",
       " 1052,\n",
       " 1054,\n",
       " 1055,\n",
       " 1056,\n",
       " 1057,\n",
       " 1059,\n",
       " 1064,\n",
       " 1065,\n",
       " 1067,\n",
       " 1069,\n",
       " 1071,\n",
       " 1076,\n",
       " 1078,\n",
       " 1079,\n",
       " 1082,\n",
       " 1090,\n",
       " 1091,\n",
       " 1093,\n",
       " 1095,\n",
       " 1096,\n",
       " 1098,\n",
       " 1100,\n",
       " 1103,\n",
       " 1104,\n",
       " 1105,\n",
       " 1110,\n",
       " 1112,\n",
       " 1114,\n",
       " 1118,\n",
       " 1119,\n",
       " 1121,\n",
       " 1122,\n",
       " 1124,\n",
       " 1125,\n",
       " 1126,\n",
       " 1127,\n",
       " 1128,\n",
       " 1129,\n",
       " 1130,\n",
       " 1132,\n",
       " 1135,\n",
       " 1137,\n",
       " 1139,\n",
       " 1140,\n",
       " 1143,\n",
       " 1144,\n",
       " 1145,\n",
       " 1148,\n",
       " 1156,\n",
       " 1157,\n",
       " 1158,\n",
       " 1159,\n",
       " 1160,\n",
       " 1161,\n",
       " 1164,\n",
       " 1165,\n",
       " 1167,\n",
       " 1168,\n",
       " 1170,\n",
       " 1172,\n",
       " 1176,\n",
       " 1178,\n",
       " 1179,\n",
       " 1180,\n",
       " 1182,\n",
       " 1183,\n",
       " 1184,\n",
       " 1186,\n",
       " 1187,\n",
       " 1188,\n",
       " 1189,\n",
       " 1190,\n",
       " 1191,\n",
       " 1193,\n",
       " 1194,\n",
       " 1195,\n",
       " 1197,\n",
       " 1200,\n",
       " 1202,\n",
       " 1206,\n",
       " 1207,\n",
       " 1211,\n",
       " 1212,\n",
       " 1214,\n",
       " 1216,\n",
       " 1218,\n",
       " 1221,\n",
       " 1224,\n",
       " 1225,\n",
       " 1226,\n",
       " 1227,\n",
       " 1229,\n",
       " 1230,\n",
       " 1232,\n",
       " 1236,\n",
       " 1239,\n",
       " 1240,\n",
       " 1242,\n",
       " 1247,\n",
       " 1248,\n",
       " 1249,\n",
       " 1252,\n",
       " 1256,\n",
       " 1257,\n",
       " 1258,\n",
       " 1260,\n",
       " 1264,\n",
       " 1265,\n",
       " 1266,\n",
       " 1267,\n",
       " 1268,\n",
       " 1271,\n",
       " 1273,\n",
       " 1274,\n",
       " 1277,\n",
       " 1279,\n",
       " 1284,\n",
       " 1285,\n",
       " 1287,\n",
       " 1288,\n",
       " 1289,\n",
       " 1293,\n",
       " 1295,\n",
       " 1296,\n",
       " 1297,\n",
       " 1298,\n",
       " 1300,\n",
       " 1303,\n",
       " 1305,\n",
       " 1307,\n",
       " 1308,\n",
       " 1311,\n",
       " 1312,\n",
       " 1313,\n",
       " 1314,\n",
       " 1317,\n",
       " 1318,\n",
       " 1321,\n",
       " 1322,\n",
       " 1323,\n",
       " 1324,\n",
       " 1326,\n",
       " 1329,\n",
       " 1331,\n",
       " 1332,\n",
       " 1333,\n",
       " 1337,\n",
       " 1338,\n",
       " 1340,\n",
       " 1341,\n",
       " 1342,\n",
       " 1343,\n",
       " 1348,\n",
       " 1349,\n",
       " 1351,\n",
       " 1352,\n",
       " 1353,\n",
       " 1355,\n",
       " 1358,\n",
       " 1359,\n",
       " 1362,\n",
       " 1364,\n",
       " 1365,\n",
       " 1366,\n",
       " 1368,\n",
       " 1369,\n",
       " 1371,\n",
       " 1372,\n",
       " 1376,\n",
       " 1379,\n",
       " 1381,\n",
       " 1385,\n",
       " 1386,\n",
       " 1390,\n",
       " 1391,\n",
       " 1393,\n",
       " 1394,\n",
       " 1399,\n",
       " 1400,\n",
       " 1401,\n",
       " 1403,\n",
       " 1406,\n",
       " 1407,\n",
       " 1409,\n",
       " 1412,\n",
       " 1413,\n",
       " 1414,\n",
       " 1419,\n",
       " 1420,\n",
       " 1422,\n",
       " 1423,\n",
       " 1424,\n",
       " 1426,\n",
       " 1429,\n",
       " 1431,\n",
       " 1434,\n",
       " 1442,\n",
       " 1443,\n",
       " 1444,\n",
       " 1446,\n",
       " 1447,\n",
       " 1448,\n",
       " 1449,\n",
       " 1450,\n",
       " 1451,\n",
       " 1453,\n",
       " 1455,\n",
       " 1456,\n",
       " 1457,\n",
       " 1459,\n",
       " 1460,\n",
       " 1461,\n",
       " 1463,\n",
       " 1465,\n",
       " 1466,\n",
       " 1468,\n",
       " 1470,\n",
       " 1472,\n",
       " 1473,\n",
       " 1474,\n",
       " 1475,\n",
       " 1476,\n",
       " 1477,\n",
       " 1478,\n",
       " 1479,\n",
       " 1481,\n",
       " 1485,\n",
       " 1487,\n",
       " 1488,\n",
       " 1489,\n",
       " 1490,\n",
       " 1494,\n",
       " 1495,\n",
       " 1496,\n",
       " 1497,\n",
       " 1503,\n",
       " 1505,\n",
       " 1508,\n",
       " 1509,\n",
       " 1511,\n",
       " 1512,\n",
       " 1515,\n",
       " 1516,\n",
       " 1517,\n",
       " 1518,\n",
       " 1521,\n",
       " 1522,\n",
       " 1523,\n",
       " 1525,\n",
       " 1526,\n",
       " 1528,\n",
       " 1529,\n",
       " 1533,\n",
       " 1534,\n",
       " 1535,\n",
       " 1536,\n",
       " 1539,\n",
       " 1540,\n",
       " 1542,\n",
       " 1545,\n",
       " 1546,\n",
       " 1549,\n",
       " 1551,\n",
       " 1552,\n",
       " 1554,\n",
       " 1555,\n",
       " 1556,\n",
       " 1558,\n",
       " 1565,\n",
       " 1567,\n",
       " 1568,\n",
       " 1569,\n",
       " 1570,\n",
       " 1573,\n",
       " 1574,\n",
       " 1575,\n",
       " 1579,\n",
       " 1582,\n",
       " 1588,\n",
       " 1593,\n",
       " 1595,\n",
       " 1598,\n",
       " 1600,\n",
       " 1601,\n",
       " 1602,\n",
       " 1607,\n",
       " 1609,\n",
       " 1610,\n",
       " 1611,\n",
       " 1612,\n",
       " 1613,\n",
       " 1617,\n",
       " 1618,\n",
       " 1620,\n",
       " 1622,\n",
       " 1623,\n",
       " 1624,\n",
       " 1625,\n",
       " 1626,\n",
       " 1631,\n",
       " 1634,\n",
       " 1637,\n",
       " 1640,\n",
       " 1641,\n",
       " 1642,\n",
       " 1646,\n",
       " 1649,\n",
       " 1650,\n",
       " 1652,\n",
       " 1657,\n",
       " 1660,\n",
       " 1661,\n",
       " 1662,\n",
       " 1663,\n",
       " 1664,\n",
       " 1665,\n",
       " 1667,\n",
       " 1669,\n",
       " 1670,\n",
       " 1671,\n",
       " 1673,\n",
       " 1674,\n",
       " 1677,\n",
       " 1683,\n",
       " 1686,\n",
       " 1691,\n",
       " 1692,\n",
       " 1697,\n",
       " 1700,\n",
       " 1701,\n",
       " 1705,\n",
       " 1706,\n",
       " 1707,\n",
       " 1711,\n",
       " 1712,\n",
       " 1714,\n",
       " 1715,\n",
       " 1717,\n",
       " 1719,\n",
       " 1722,\n",
       " 1725,\n",
       " 1728,\n",
       " 1730,\n",
       " 1731,\n",
       " 1734,\n",
       " 1738,\n",
       " 1739,\n",
       " 1740,\n",
       " 1742,\n",
       " 1744,\n",
       " 1745,\n",
       " 1746,\n",
       " 1747,\n",
       " 1748,\n",
       " 1749,\n",
       " 1750,\n",
       " 1752,\n",
       " 1753,\n",
       " 1754,\n",
       " 1760,\n",
       " 1771,\n",
       " 1772,\n",
       " 1773,\n",
       " 1774,\n",
       " 1778,\n",
       " 1780,\n",
       " 1781,\n",
       " 1782,\n",
       " 1784,\n",
       " 1789,\n",
       " 1791,\n",
       " 1794,\n",
       " 1795,\n",
       " 1799,\n",
       " 1802,\n",
       " 1804,\n",
       " 1805,\n",
       " 1806,\n",
       " 1808,\n",
       " 1813,\n",
       " 1816,\n",
       " 1818,\n",
       " 1819,\n",
       " 1822,\n",
       " 1827,\n",
       " 1830,\n",
       " 1831,\n",
       " 1832,\n",
       " 1833,\n",
       " 1838,\n",
       " 1839,\n",
       " 1840,\n",
       " 1841,\n",
       " 1843,\n",
       " 1845,\n",
       " 1849,\n",
       " 1850,\n",
       " 1852,\n",
       " 1853,\n",
       " 1854,\n",
       " 1858,\n",
       " 1859,\n",
       " 1861,\n",
       " 1862,\n",
       " 1865,\n",
       " 1869,\n",
       " 1872,\n",
       " 1873,\n",
       " 1874,\n",
       " 1875,\n",
       " 1878,\n",
       " 1879,\n",
       " 1880,\n",
       " 1881,\n",
       " 1882,\n",
       " 1889,\n",
       " 1892,\n",
       " 1893,\n",
       " 1896,\n",
       " 1899,\n",
       " 1901,\n",
       " 1903,\n",
       " 1905,\n",
       " 1910,\n",
       " 1912,\n",
       " 1913,\n",
       " 1915,\n",
       " 1916,\n",
       " 1919,\n",
       " 1920,\n",
       " 1922,\n",
       " 1925,\n",
       " 1926,\n",
       " 1928,\n",
       " 1934,\n",
       " 1935,\n",
       " 1936,\n",
       " 1937,\n",
       " 1938,\n",
       " 1940,\n",
       " 1942,\n",
       " 1944,\n",
       " 1948,\n",
       " 1951,\n",
       " 1952,\n",
       " 1953,\n",
       " 1954,\n",
       " 1956,\n",
       " 1957,\n",
       " 1959,\n",
       " 1960,\n",
       " 1964,\n",
       " 1965,\n",
       " 1968,\n",
       " 1970,\n",
       " 1973,\n",
       " 1974,\n",
       " 1975,\n",
       " 1977,\n",
       " 1978,\n",
       " 1979,\n",
       " 1983,\n",
       " 1985,\n",
       " 1987,\n",
       " 1988,\n",
       " 1989,\n",
       " 1992,\n",
       " 1994,\n",
       " 1995,\n",
       " 1997,\n",
       " 1998,\n",
       " ...]"
      ]
     },
     "execution_count": 25,
     "metadata": {},
     "output_type": "execute_result"
    }
   ],
   "source": [
    "df.index[df['is_valid']].to_list()"
   ]
  },
  {
   "cell_type": "code",
   "execution_count": 26,
   "metadata": {},
   "outputs": [],
   "source": [
    "def splitter(df):\n",
    "    train = df.index[~df['is_valid']].tolist()\n",
    "    valid = df.index[df['is_valid']].tolist()\n",
    "    return train, valid"
   ]
  },
  {
   "cell_type": "code",
   "execution_count": 27,
   "metadata": {},
   "outputs": [
    {
     "data": {
      "text/plain": [
       "(PILImage mode=RGB size=500x333,\n",
       " TensorMultiCategory([0., 0., 0., 0., 0., 0., 1., 0., 0., 0., 0., 0., 0., 0., 0., 0., 0., 0., 0., 0.]))"
      ]
     },
     "execution_count": 27,
     "metadata": {},
     "output_type": "execute_result"
    }
   ],
   "source": [
    "dblock = DataBlock(blocks=(ImageBlock, MultiCategoryBlock),\n",
    "                    splitter=splitter,\n",
    "                    get_x=get_x,\n",
    "                    get_y=get_y)\n",
    "                    \n",
    "dsets = dblock.datasets(df)\n",
    "dsets.train[0]"
   ]
  },
  {
   "cell_type": "code",
   "execution_count": 28,
   "metadata": {},
   "outputs": [],
   "source": [
    "dblock = DataBlock(blocks=(ImageBlock, MultiCategoryBlock),\n",
    "                   splitter=splitter,\n",
    "                   get_x=get_x,\n",
    "                   get_y=get_y,\n",
    "                   item_tfms=RandomResizedCrop(128, min_scale=0.35))\n",
    "dls = dblock.dataloaders(df)"
   ]
  },
  {
   "cell_type": "code",
   "execution_count": 29,
   "metadata": {},
   "outputs": [
    {
     "data": {
      "image/png": "[encoded data removed]",
      "text/plain": [
       "<Figure size 900x300 with 3 Axes>"
      ]
     },
     "metadata": {},
     "output_type": "display_data"
    }
   ],
   "source": [
    "dls.show_batch(nrows=1, ncols=3)"
   ]
  },
  {
   "cell_type": "code",
   "execution_count": 30,
   "metadata": {},
   "outputs": [
    {
     "name": "stdout",
     "output_type": "stream",
     "text": [
      "Setting-up type transforms pipelines\n",
      "Collecting items from            fname          labels  is_valid\n",
      "0     000005.jpg           chair      True\n",
      "1     000007.jpg             car      True\n",
      "2     000009.jpg    horse person      True\n",
      "3     000012.jpg             car     False\n",
      "4     000016.jpg         bicycle      True\n",
      "...          ...             ...       ...\n",
      "5006  009954.jpg    horse person      True\n",
      "5007  009955.jpg            boat      True\n",
      "5008  009958.jpg  person bicycle      True\n",
      "5009  009959.jpg             car     False\n",
      "5010  009961.jpg             dog     False\n",
      "\n",
      "[5011 rows x 3 columns]\n",
      "Found 5011 items\n",
      "2 datasets of sizes 2501,2510\n",
      "Setting up Pipeline: get_x -> PILBase.create\n",
      "Setting up Pipeline: get_y -> MultiCategorize -- {'vocab': None, 'sort': True, 'add_na': False} -> OneHotEncode -- {'c': None}\n",
      "\n",
      "Building one sample\n",
      "  Pipeline: get_x -> PILBase.create\n",
      "    starting from\n",
      "      fname       000012.jpg\n",
      "labels             car\n",
      "is_valid         False\n",
      "Name: 3, dtype: object\n",
      "    applying get_x gives\n",
      "      /home/petewin/.fastai/data/pascal_2007/train/000012.jpg\n",
      "    applying PILBase.create gives\n",
      "      PILImage mode=RGB size=500x333\n",
      "  Pipeline: get_y -> MultiCategorize -- {'vocab': None, 'sort': True, 'add_na': False} -> OneHotEncode -- {'c': None}\n",
      "    starting from\n",
      "      fname       000012.jpg\n",
      "labels             car\n",
      "is_valid         False\n",
      "Name: 3, dtype: object\n",
      "    applying get_y gives\n",
      "      [car]\n",
      "    applying MultiCategorize -- {'vocab': None, 'sort': True, 'add_na': False} gives\n",
      "      TensorMultiCategory([6])\n",
      "    applying OneHotEncode -- {'c': None} gives\n",
      "      TensorMultiCategory([0., 0., 0., 0., 0., 0., 1., 0., 0., 0., 0., 0., 0., 0., 0., 0., 0., 0., 0., 0.])\n",
      "\n",
      "Final sample: (PILImage mode=RGB size=500x333, TensorMultiCategory([0., 0., 0., 0., 0., 0., 1., 0., 0., 0., 0., 0., 0., 0., 0., 0., 0., 0., 0., 0.]))\n",
      "\n",
      "\n",
      "Collecting items from            fname          labels  is_valid\n",
      "0     000005.jpg           chair      True\n",
      "1     000007.jpg             car      True\n",
      "2     000009.jpg    horse person      True\n",
      "3     000012.jpg             car     False\n",
      "4     000016.jpg         bicycle      True\n",
      "...          ...             ...       ...\n",
      "5006  009954.jpg    horse person      True\n",
      "5007  009955.jpg            boat      True\n",
      "5008  009958.jpg  person bicycle      True\n",
      "5009  009959.jpg             car     False\n",
      "5010  009961.jpg             dog     False\n",
      "\n",
      "[5011 rows x 3 columns]\n",
      "Found 5011 items\n",
      "2 datasets of sizes 2501,2510\n",
      "Setting up Pipeline: get_x -> PILBase.create\n",
      "Setting up Pipeline: get_y -> MultiCategorize -- {'vocab': None, 'sort': True, 'add_na': False} -> OneHotEncode -- {'c': None}\n",
      "Setting up after_item: Pipeline: RandomResizedCrop -- {'size': (128, 128), 'min_scale': 0.35, 'ratio': (0.75, 1.3333333333333333), 'resamples': (<Resampling.BILINEAR: 2>, <Resampling.NEAREST: 0>), 'val_xtra': 0.14, 'max_scale': 1.0, 'p': 1.0} -> ToTensor\n",
      "Setting up before_batch: Pipeline: \n",
      "Setting up after_batch: Pipeline: IntToFloatTensor -- {'div': 255.0, 'div_mask': 1}\n",
      "\n",
      "Building one batch\n",
      "Applying item_tfms to the first sample:\n",
      "  Pipeline: RandomResizedCrop -- {'size': (128, 128), 'min_scale': 0.35, 'ratio': (0.75, 1.3333333333333333), 'resamples': (<Resampling.BILINEAR: 2>, <Resampling.NEAREST: 0>), 'val_xtra': 0.14, 'max_scale': 1.0, 'p': 1.0} -> ToTensor\n",
      "    starting from\n",
      "      (PILImage mode=RGB size=500x333, TensorMultiCategory([0., 0., 0., 0., 0., 0., 1., 0., 0., 0., 0., 0., 0., 0., 0., 0., 0., 0., 0., 0.]))\n",
      "    applying RandomResizedCrop -- {'size': (128, 128), 'min_scale': 0.35, 'ratio': (0.75, 1.3333333333333333), 'resamples': (<Resampling.BILINEAR: 2>, <Resampling.NEAREST: 0>), 'val_xtra': 0.14, 'max_scale': 1.0, 'p': 1.0} gives\n",
      "      (PILImage mode=RGB size=128x128, TensorMultiCategory([0., 0., 0., 0., 0., 0., 1., 0., 0., 0., 0., 0., 0., 0., 0., 0., 0., 0., 0., 0.]))\n",
      "    applying ToTensor gives\n",
      "      (TensorImage of size 3x128x128, TensorMultiCategory([0., 0., 0., 0., 0., 0., 1., 0., 0., 0., 0., 0., 0., 0., 0., 0., 0., 0., 0., 0.]))\n",
      "\n",
      "Adding the next 3 samples\n",
      "\n",
      "No before_batch transform to apply\n",
      "\n",
      "Collating items in a batch\n",
      "\n",
      "Applying batch_tfms to the batch built\n",
      "  Pipeline: IntToFloatTensor -- {'div': 255.0, 'div_mask': 1}\n",
      "    starting from\n",
      "      (TensorImage of size 4x3x128x128, TensorMultiCategory of size 4x20)\n",
      "    applying IntToFloatTensor -- {'div': 255.0, 'div_mask': 1} gives\n",
      "      (TensorImage of size 4x3x128x128, TensorMultiCategory of size 4x20)\n"
     ]
    }
   ],
   "source": [
    "dblock.summary(df)"
   ]
  },
  {
   "attachments": {},
   "cell_type": "markdown",
   "metadata": {},
   "source": [
    "### Binary Cross-Entropy"
   ]
  },
  {
   "cell_type": "code",
   "execution_count": 31,
   "metadata": {},
   "outputs": [
    {
     "name": "stderr",
     "output_type": "stream",
     "text": [
      "/home/petewin/mambaforge/lib/python3.10/site-packages/torchvision/models/_utils.py:208: UserWarning: The parameter 'pretrained' is deprecated since 0.13 and may be removed in the future, please use 'weights' instead.\n",
      "  warnings.warn(\n",
      "/home/petewin/mambaforge/lib/python3.10/site-packages/torchvision/models/_utils.py:223: UserWarning: Arguments other than a weight enum or `None` for 'weights' are deprecated since 0.13 and may be removed in the future. The current behavior is equivalent to passing `weights=ResNet18_Weights.IMAGENET1K_V1`. You can also use `weights=ResNet18_Weights.DEFAULT` to get the most up-to-date weights.\n",
      "  warnings.warn(msg)\n"
     ]
    }
   ],
   "source": [
    "learn = vision_learner(dls, resnet18)"
   ]
  },
  {
   "cell_type": "code",
   "execution_count": 32,
   "metadata": {},
   "outputs": [
    {
     "data": {
      "text/plain": [
       "torch.Size([64, 20])"
      ]
     },
     "execution_count": 32,
     "metadata": {},
     "output_type": "execute_result"
    }
   ],
   "source": [
    "x,y = to_cpu(dls.train.one_batch())\n",
    "activs = learn.model(x)\n",
    "activs.shape"
   ]
  },
  {
   "cell_type": "code",
   "execution_count": 33,
   "metadata": {},
   "outputs": [
    {
     "data": {
      "text/plain": [
       "TensorBase([-0.6604,  3.7083, -1.5740, -0.6980,  0.5220, -0.9594, -1.8903, -0.1805, -0.1008,  1.8911,  1.3607,  1.3528,  0.8708,  4.3651,  0.6839,  1.0118,  0.4205,  2.2555, -1.4704, -0.6334],\n",
       "           grad_fn=<AliasBackward0>)"
      ]
     },
     "execution_count": 33,
     "metadata": {},
     "output_type": "execute_result"
    }
   ],
   "source": [
    "activs[0]"
   ]
  },
  {
   "cell_type": "code",
   "execution_count": 34,
   "metadata": {},
   "outputs": [],
   "source": [
    "def binary_cross_entropy(inputs, targets):\n",
    "    inputs = inputs.sigmoid()\n",
    "    return -torch.where(targets==1, inputs, 1-inputs).log().mean()"
   ]
  },
  {
   "cell_type": "code",
   "execution_count": 35,
   "metadata": {},
   "outputs": [
    {
     "data": {
      "text/plain": [
       "TensorMultiCategory(1.0531, grad_fn=<AliasBackward0>)"
      ]
     },
     "execution_count": 35,
     "metadata": {},
     "output_type": "execute_result"
    }
   ],
   "source": [
    "loss_func = nn.BCEWithLogitsLoss()\n",
    "loss = loss_func(activs, y)\n",
    "loss"
   ]
  },
  {
   "cell_type": "code",
   "execution_count": 36,
   "metadata": {},
   "outputs": [
    {
     "data": {
      "text/html": [
       "<table border=\"1\" class=\"dataframe\">\n",
       "  <thead>\n",
       "    <tr style=\"text-align: left;\">\n",
       "      <th>epoch</th>\n",
       "      <th>train_loss</th>\n",
       "      <th>valid_loss</th>\n",
       "      <th>accuracy_multi</th>\n",
       "      <th>time</th>\n",
       "    </tr>\n",
       "  </thead>\n",
       "  <tbody>\n",
       "    <tr>\n",
       "      <td>0</td>\n",
       "      <td>0.152877</td>\n",
       "      <td>0.128021</td>\n",
       "      <td>0.936494</td>\n",
       "      <td>00:06</td>\n",
       "    </tr>\n",
       "    <tr>\n",
       "      <td>1</td>\n",
       "      <td>0.137660</td>\n",
       "      <td>0.121440</td>\n",
       "      <td>0.939940</td>\n",
       "      <td>00:06</td>\n",
       "    </tr>\n",
       "    <tr>\n",
       "      <td>2</td>\n",
       "      <td>0.119602</td>\n",
       "      <td>0.118781</td>\n",
       "      <td>0.939462</td>\n",
       "      <td>00:06</td>\n",
       "    </tr>\n",
       "  </tbody>\n",
       "</table>"
      ],
      "text/plain": [
       "<IPython.core.display.HTML object>"
      ]
     },
     "metadata": {},
     "output_type": "display_data"
    }
   ],
   "source": [
    "learn = vision_learner(dls, resnet18, metrics=partial(accuracy_multi, thresh=0.2))\n",
    "learn.fine_tune(3, base_lr=3e-3, freeze_epochs=4)"
   ]
  },
  {
   "cell_type": "code",
   "execution_count": 37,
   "metadata": {},
   "outputs": [
    {
     "data": {
      "text/html": [],
      "text/plain": [
       "<IPython.core.display.HTML object>"
      ]
     },
     "metadata": {},
     "output_type": "display_data"
    },
    {
     "data": {
      "text/plain": [
       "(#2) [0.11878100037574768,0.90958172082901]"
      ]
     },
     "execution_count": 37,
     "metadata": {},
     "output_type": "execute_result"
    }
   ],
   "source": [
    "learn.metrics = partial(accuracy_multi, thresh=0.1)\n",
    "learn.validate()"
   ]
  },
  {
   "cell_type": "code",
   "execution_count": 38,
   "metadata": {},
   "outputs": [
    {
     "data": {
      "text/html": [],
      "text/plain": [
       "<IPython.core.display.HTML object>"
      ]
     },
     "metadata": {},
     "output_type": "display_data"
    },
    {
     "data": {
      "text/plain": [
       "(#2) [0.11878100037574768,0.9353587627410889]"
      ]
     },
     "execution_count": 38,
     "metadata": {},
     "output_type": "execute_result"
    }
   ],
   "source": [
    "learn.metrics = partial(accuracy_multi, thresh=0.99)\n",
    "learn.validate()"
   ]
  },
  {
   "cell_type": "code",
   "execution_count": 39,
   "metadata": {},
   "outputs": [
    {
     "data": {
      "text/html": [],
      "text/plain": [
       "<IPython.core.display.HTML object>"
      ]
     },
     "metadata": {},
     "output_type": "display_data"
    }
   ],
   "source": [
    "preds,targs = learn.get_preds()"
   ]
  },
  {
   "cell_type": "code",
   "execution_count": 40,
   "metadata": {},
   "outputs": [
    {
     "data": {
      "text/plain": [
       "TensorBase(0.9488)"
      ]
     },
     "execution_count": 40,
     "metadata": {},
     "output_type": "execute_result"
    }
   ],
   "source": [
    "accuracy_multi(preds, targs, thresh=0.9, sigmoid=False)"
   ]
  },
  {
   "cell_type": "code",
   "execution_count": 41,
   "metadata": {},
   "outputs": [
    {
     "data": {
      "text/plain": [
       "person                                                408\n",
       "car                                                   376\n",
       "bird                                                  293\n",
       "cat                                                   242\n",
       "dog                                                   234\n",
       "                                                     ... \n",
       "boat pottedplant chair diningtable person sofa dog      1\n",
       "bottle diningtable person chair                         1\n",
       "car bird                                                1\n",
       "car person dog bus                                      1\n",
       "sofa bottle person pottedplant                          1\n",
       "Name: labels, Length: 473, dtype: int64"
      ]
     },
     "execution_count": 41,
     "metadata": {},
     "output_type": "execute_result"
    }
   ],
   "source": [
    "df['labels'].value_counts()"
   ]
  },
  {
   "cell_type": "code",
   "execution_count": 42,
   "metadata": {},
   "outputs": [],
   "source": [
    "# df['label_test'] = df['labels'].str.split()\n",
    "# all_labels = [item for sublist in df['label_test'].to_list() for item in sublist]\n",
    "# len(set(all_labels))"
   ]
  },
  {
   "cell_type": "code",
   "execution_count": 43,
   "metadata": {},
   "outputs": [
    {
     "data": {
      "text/plain": [
       "(29,\n",
       " tensor([0.0500, 0.0821, 0.1143, 0.1464, 0.1786, 0.2107, 0.2429, 0.2750, 0.3071, 0.3393, 0.3714, 0.4036, 0.4357, 0.4679, 0.5000, 0.5321, 0.5643, 0.5964, 0.6286, 0.6607, 0.6929, 0.7250, 0.7571, 0.7893,\n",
       "         0.8214, 0.8536, 0.8857, 0.9179, 0.9500]))"
      ]
     },
     "execution_count": 43,
     "metadata": {},
     "output_type": "execute_result"
    }
   ],
   "source": [
    "xs = torch.linspace(0.05,0.95,29)\n",
    "len(xs), xs"
   ]
  },
  {
   "cell_type": "code",
   "execution_count": 45,
   "metadata": {},
   "outputs": [
    {
     "data": {
      "text/plain": [
       "[<matplotlib.lines.Line2D at 0x7fd6fb0d8070>]"
      ]
     },
     "execution_count": 45,
     "metadata": {},
     "output_type": "execute_result"
    },
    {
     "data": {
      "image/png": "[encoded data removed]",
      "text/plain": [
       "<Figure size 640x480 with 1 Axes>"
      ]
     },
     "metadata": {},
     "output_type": "display_data"
    }
   ],
   "source": [
    "xs = torch.linspace(0.05,0.95,29)\n",
    "accs = [accuracy_multi(preds, targs, thresh=i, sigmoid=False) for i in xs]\n",
    "plt.plot(xs, accs)"
   ]
  },
  {
   "cell_type": "code",
   "execution_count": 46,
   "metadata": {},
   "outputs": [
    {
     "data": {
      "text/html": [
       "\n",
       "    <div>\n",
       "      <progress value='452321280' class='' max='452316199' style='width:300px; height:20px; vertical-align: middle;'></progress>\n",
       "      100.00% [452321280/452316199 00:08&lt;00:00]\n",
       "    </div>\n",
       "    "
      ],
      "text/plain": [
       "<IPython.core.display.HTML object>"
      ]
     },
     "metadata": {},
     "output_type": "display_data"
    }
   ],
   "source": [
    "path = untar_data(URLs.BIWI_HEAD_POSE)"
   ]
  },
  {
   "cell_type": "code",
   "execution_count": 47,
   "metadata": {},
   "outputs": [],
   "source": [
    "Path.BASE_PATH = path"
   ]
  },
  {
   "cell_type": "code",
   "execution_count": 50,
   "metadata": {},
   "outputs": [
    {
     "data": {
      "text/plain": [
       "(#50) [Path('01'),Path('01.obj'),Path('02'),Path('02.obj'),Path('03'),Path('03.obj'),Path('04'),Path('04.obj'),Path('05'),Path('05.obj')...]"
      ]
     },
     "execution_count": 50,
     "metadata": {},
     "output_type": "execute_result"
    }
   ],
   "source": [
    "path.ls().sorted()"
   ]
  },
  {
   "cell_type": "code",
   "execution_count": null,
   "metadata": {},
   "outputs": [],
   "source": []
  }
 ],
 "metadata": {
  "kernelspec": {
   "display_name": "base",
   "language": "python",
   "name": "python3"
  },
  "language_info": {
   "codemirror_mode": {
    "name": "ipython",
    "version": 3
   },
   "file_extension": ".py",
   "mimetype": "text/x-python",
   "name": "python",
   "nbconvert_exporter": "python",
   "pygments_lexer": "ipython3",
   "version": "3.10.6"
  },
  "orig_nbformat": 4,
  "vscode": {
   "interpreter": {
    "hash": "f4702a165a03ade35e40e0221d250a3a44a346cfc16a49ce6d051d1595069b46"
   }
  }
 },
 "nbformat": 4,
 "nbformat_minor": 2
}
