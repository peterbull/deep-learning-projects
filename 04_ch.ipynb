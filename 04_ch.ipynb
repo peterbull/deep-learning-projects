{
 "cells": [
  {
   "cell_type": "code",
   "execution_count": 148,
   "metadata": {},
   "outputs": [],
   "source": [
    "import fastbook\n",
    "fastbook.setup_book()"
   ]
  },
  {
   "cell_type": "code",
   "execution_count": 149,
   "metadata": {},
   "outputs": [],
   "source": [
    "from fastai.vision.all import *\n",
    "from fastbook import *\n",
    "\n",
    "matplotlib.rc('image', cmap='Greys')"
   ]
  },
  {
   "attachments": {},
   "cell_type": "markdown",
   "metadata": {},
   "source": [
    "## Creating a \"3 or 7\" Image Classifier "
   ]
  },
  {
   "attachments": {},
   "cell_type": "markdown",
   "metadata": {},
   "source": [
    "Download a sample of MNIST that contains images of just these digits"
   ]
  },
  {
   "cell_type": "code",
   "execution_count": null,
   "metadata": {},
   "outputs": [],
   "source": []
  },
  {
   "attachments": {},
   "cell_type": "markdown",
   "metadata": {},
   "source": [
    "assign unzipped data to path.\n",
    "URLs provides methods that grab from a provided list of urls"
   ]
  },
  {
   "cell_type": "code",
   "execution_count": 150,
   "metadata": {},
   "outputs": [],
   "source": [
    "path = untar_data(URLs.MNIST_SAMPLE)"
   ]
  },
  {
   "attachments": {},
   "cell_type": "markdown",
   "metadata": {},
   "source": [
    "Path class inherits from \"Purepath\" and can make system calls. Returns a posix or windows path\n",
    "\n",
    "assign path to Path at BASE_PATH"
   ]
  },
  {
   "cell_type": "code",
   "execution_count": 151,
   "metadata": {},
   "outputs": [],
   "source": [
    "Path.BASE_PATH = path"
   ]
  },
  {
   "attachments": {},
   "cell_type": "markdown",
   "metadata": {},
   "source": [
    "seeing what's inside with bash commands provided by fastai methods"
   ]
  },
  {
   "cell_type": "code",
   "execution_count": 152,
   "metadata": {},
   "outputs": [
    {
     "data": {
      "text/plain": [
       "(#3) [Path('labels.csv'),Path('valid'),Path('train')]"
      ]
     },
     "execution_count": 152,
     "metadata": {},
     "output_type": "execute_result"
    }
   ],
   "source": [
    "path.ls()"
   ]
  },
  {
   "cell_type": "code",
   "execution_count": 153,
   "metadata": {},
   "outputs": [
    {
     "data": {
      "text/plain": [
       "(#2) [Path('train/7'),Path('train/3')]"
      ]
     },
     "execution_count": 153,
     "metadata": {},
     "output_type": "execute_result"
    }
   ],
   "source": [
    "(path/'train').ls()"
   ]
  },
  {
   "attachments": {},
   "cell_type": "markdown",
   "metadata": {},
   "source": [
    "two folders in path - 3's and 7's\n",
    "assign each, using sorted provided by fastai"
   ]
  },
  {
   "cell_type": "code",
   "execution_count": 154,
   "metadata": {},
   "outputs": [
    {
     "data": {
      "text/plain": [
       "(#6265) [Path('train/7/10002.png'),Path('train/7/1001.png'),Path('train/7/10014.png'),Path('train/7/10019.png'),Path('train/7/10039.png'),Path('train/7/10046.png'),Path('train/7/10050.png'),Path('train/7/10063.png'),Path('train/7/10077.png'),Path('train/7/10086.png')...]"
      ]
     },
     "execution_count": 154,
     "metadata": {},
     "output_type": "execute_result"
    }
   ],
   "source": [
    "threes = (path/'train/3').ls().sorted()\n",
    "sevens = (path/'train/7').ls().sorted()\n",
    "sevens"
   ]
  },
  {
   "attachments": {},
   "cell_type": "markdown",
   "metadata": {},
   "source": [
    "Show an image of a 7 from MNIST using image class from PIL"
   ]
  },
  {
   "cell_type": "code",
   "execution_count": 155,
   "metadata": {},
   "outputs": [
    {
     "data": {
      "image/png": "[encoded data removed]",
      "text/plain": [
       "<PIL.PngImagePlugin.PngImageFile image mode=L size=28x28>"
      ]
     },
     "execution_count": 155,
     "metadata": {},
     "output_type": "execute_result"
    }
   ],
   "source": [
    "im7_path = sevens[3]\n",
    "im7 = Image.open(im7_path)\n",
    "im7"
   ]
  },
  {
   "attachments": {},
   "cell_type": "markdown",
   "metadata": {},
   "source": [
    "view the above image represented as a number\n",
    "convert to numpy array and request rows from index 4 to index 10\n",
    "and request columns from index 4 to index 10"
   ]
  },
  {
   "cell_type": "code",
   "execution_count": 156,
   "metadata": {},
   "outputs": [
    {
     "data": {
      "text/plain": [
       "array([[  0,   0,   0,   0,   0,   0],\n",
       "       [  0,   0,   0,   0,   0,   0],\n",
       "       [  0,   0,   0,   0,   0,   0],\n",
       "       [  0,   0,   0,   0,   0,   0],\n",
       "       [  0,   0,   0,   0,   0,  19],\n",
       "       [  0,   0,   0,   0,  13, 144]], dtype=uint8)"
      ]
     },
     "execution_count": 156,
     "metadata": {},
     "output_type": "execute_result"
    }
   ],
   "source": [
    "array(im7)[4:10,4:10]"
   ]
  },
  {
   "attachments": {},
   "cell_type": "markdown",
   "metadata": {},
   "source": [
    "Now the same for a pytorch tensor"
   ]
  },
  {
   "cell_type": "code",
   "execution_count": 157,
   "metadata": {},
   "outputs": [
    {
     "data": {
      "text/plain": [
       "tensor([[  0,   0,   0,   0,   0,   0],\n",
       "        [  0,   0,   0,   0,   0,   0],\n",
       "        [  0,   0,   0,   0,   0,   0],\n",
       "        [  0,   0,   0,   0,   0,   0],\n",
       "        [  0,   0,   0,   0,   0,  19],\n",
       "        [  0,   0,   0,   0,  13, 144]], dtype=torch.uint8)"
      ]
     },
     "execution_count": 157,
     "metadata": {},
     "output_type": "execute_result"
    }
   ],
   "source": [
    "tensor(im7)[4:10,4:10]"
   ]
  },
  {
   "attachments": {},
   "cell_type": "markdown",
   "metadata": {},
   "source": [
    "create a tensor object\n",
    "slice and assign to dataframe\n",
    "set font size and color"
   ]
  },
  {
   "cell_type": "code",
   "execution_count": 158,
   "metadata": {},
   "outputs": [
    {
     "data": {
      "text/html": [
       "<style type=\"text/css\">\n",
       "#T_9c154_row0_col0, #T_9c154_row0_col1, #T_9c154_row0_col2, #T_9c154_row0_col3, #T_9c154_row0_col4, #T_9c154_row0_col5, #T_9c154_row0_col6, #T_9c154_row0_col7, #T_9c154_row0_col8, #T_9c154_row0_col9, #T_9c154_row0_col10, #T_9c154_row0_col11, #T_9c154_row0_col12, #T_9c154_row0_col13, #T_9c154_row0_col14, #T_9c154_row0_col15, #T_9c154_row0_col16, #T_9c154_row0_col17, #T_9c154_row1_col0, #T_9c154_row1_col1, #T_9c154_row1_col2, #T_9c154_row1_col3, #T_9c154_row1_col4, #T_9c154_row1_col5, #T_9c154_row1_col6, #T_9c154_row1_col7, #T_9c154_row1_col8, #T_9c154_row1_col9, #T_9c154_row1_col10, #T_9c154_row1_col11, #T_9c154_row1_col12, #T_9c154_row1_col13, #T_9c154_row1_col14, #T_9c154_row1_col15, #T_9c154_row1_col16, #T_9c154_row1_col17, #T_9c154_row2_col0, #T_9c154_row2_col1, #T_9c154_row2_col2, #T_9c154_row2_col3, #T_9c154_row2_col4, #T_9c154_row2_col5, #T_9c154_row2_col6, #T_9c154_row2_col7, #T_9c154_row2_col14, #T_9c154_row2_col15, #T_9c154_row2_col16, #T_9c154_row2_col17, #T_9c154_row3_col0, #T_9c154_row3_col1, #T_9c154_row3_col2, #T_9c154_row3_col3, #T_9c154_row3_col4, #T_9c154_row3_col5, #T_9c154_row3_col6, #T_9c154_row3_col16, #T_9c154_row3_col17, #T_9c154_row4_col0, #T_9c154_row4_col1, #T_9c154_row4_col2, #T_9c154_row4_col3, #T_9c154_row4_col4, #T_9c154_row4_col17, #T_9c154_row5_col0, #T_9c154_row5_col1, #T_9c154_row5_col2, #T_9c154_row5_col3, #T_9c154_row5_col12, #T_9c154_row5_col17, #T_9c154_row6_col0, #T_9c154_row6_col1, #T_9c154_row6_col2, #T_9c154_row6_col3, #T_9c154_row6_col10, #T_9c154_row6_col11, #T_9c154_row6_col12, #T_9c154_row6_col17, #T_9c154_row7_col0, #T_9c154_row7_col1, #T_9c154_row7_col2, #T_9c154_row7_col9, #T_9c154_row7_col10, #T_9c154_row7_col11, #T_9c154_row7_col12, #T_9c154_row7_col17, #T_9c154_row8_col0, #T_9c154_row8_col1, #T_9c154_row8_col2, #T_9c154_row8_col8, #T_9c154_row8_col9, #T_9c154_row8_col10, #T_9c154_row8_col11, #T_9c154_row8_col12, #T_9c154_row8_col17, #T_9c154_row9_col0, #T_9c154_row9_col1, #T_9c154_row9_col2, #T_9c154_row9_col7, #T_9c154_row9_col8, #T_9c154_row9_col9, #T_9c154_row9_col10, #T_9c154_row9_col11, #T_9c154_row9_col16, #T_9c154_row9_col17, #T_9c154_row10_col0, #T_9c154_row10_col1, #T_9c154_row10_col2, #T_9c154_row10_col3, #T_9c154_row10_col4, #T_9c154_row10_col5, #T_9c154_row10_col6, #T_9c154_row10_col7, #T_9c154_row10_col8, #T_9c154_row10_col9, #T_9c154_row10_col10, #T_9c154_row10_col11, #T_9c154_row10_col16, #T_9c154_row10_col17 {\n",
       "  font-size: 6pt;\n",
       "  background-color: #ffffff;\n",
       "  color: #000000;\n",
       "}\n",
       "#T_9c154_row2_col8, #T_9c154_row9_col3 {\n",
       "  font-size: 6pt;\n",
       "  background-color: #f1f1f1;\n",
       "  color: #000000;\n",
       "}\n",
       "#T_9c154_row2_col9 {\n",
       "  font-size: 6pt;\n",
       "  background-color: #b2b2b2;\n",
       "  color: #000000;\n",
       "}\n",
       "#T_9c154_row2_col10 {\n",
       "  font-size: 6pt;\n",
       "  background-color: #858585;\n",
       "  color: #f1f1f1;\n",
       "}\n",
       "#T_9c154_row2_col11 {\n",
       "  font-size: 6pt;\n",
       "  background-color: #0d0d0d;\n",
       "  color: #f1f1f1;\n",
       "}\n",
       "#T_9c154_row2_col12 {\n",
       "  font-size: 6pt;\n",
       "  background-color: #4e4e4e;\n",
       "  color: #f1f1f1;\n",
       "}\n",
       "#T_9c154_row2_col13 {\n",
       "  font-size: 6pt;\n",
       "  background-color: #dcdcdc;\n",
       "  color: #000000;\n",
       "}\n",
       "#T_9c154_row3_col7 {\n",
       "  font-size: 6pt;\n",
       "  background-color: #b5b5b5;\n",
       "  color: #000000;\n",
       "}\n",
       "#T_9c154_row3_col8, #T_9c154_row3_col9, #T_9c154_row3_col10, #T_9c154_row3_col11, #T_9c154_row3_col12, #T_9c154_row4_col8, #T_9c154_row4_col9, #T_9c154_row4_col10, #T_9c154_row4_col14, #T_9c154_row5_col8, #T_9c154_row6_col5, #T_9c154_row6_col6, #T_9c154_row6_col7, #T_9c154_row6_col15, #T_9c154_row6_col16, #T_9c154_row7_col4, #T_9c154_row7_col14, #T_9c154_row8_col3, #T_9c154_row8_col4, #T_9c154_row8_col14, #T_9c154_row9_col14, #T_9c154_row10_col13 {\n",
       "  font-size: 6pt;\n",
       "  background-color: #000000;\n",
       "  color: #f1f1f1;\n",
       "}\n",
       "#T_9c154_row3_col13 {\n",
       "  font-size: 6pt;\n",
       "  background-color: #161616;\n",
       "  color: #f1f1f1;\n",
       "}\n",
       "#T_9c154_row3_col14 {\n",
       "  font-size: 6pt;\n",
       "  background-color: #909090;\n",
       "  color: #f1f1f1;\n",
       "}\n",
       "#T_9c154_row3_col15 {\n",
       "  font-size: 6pt;\n",
       "  background-color: #f0f0f0;\n",
       "  color: #000000;\n",
       "}\n",
       "#T_9c154_row4_col5 {\n",
       "  font-size: 6pt;\n",
       "  background-color: #f6f6f6;\n",
       "  color: #000000;\n",
       "}\n",
       "#T_9c154_row4_col6 {\n",
       "  font-size: 6pt;\n",
       "  background-color: #9a9a9a;\n",
       "  color: #f1f1f1;\n",
       "}\n",
       "#T_9c154_row4_col7 {\n",
       "  font-size: 6pt;\n",
       "  background-color: #080808;\n",
       "  color: #f1f1f1;\n",
       "}\n",
       "#T_9c154_row4_col11 {\n",
       "  font-size: 6pt;\n",
       "  background-color: #5f5f5f;\n",
       "  color: #f1f1f1;\n",
       "}\n",
       "#T_9c154_row4_col12 {\n",
       "  font-size: 6pt;\n",
       "  background-color: #9f9f9f;\n",
       "  color: #f1f1f1;\n",
       "}\n",
       "#T_9c154_row4_col13 {\n",
       "  font-size: 6pt;\n",
       "  background-color: #222222;\n",
       "  color: #f1f1f1;\n",
       "}\n",
       "#T_9c154_row4_col15, #T_9c154_row5_col9 {\n",
       "  font-size: 6pt;\n",
       "  background-color: #1d1d1d;\n",
       "  color: #f1f1f1;\n",
       "}\n",
       "#T_9c154_row4_col16 {\n",
       "  font-size: 6pt;\n",
       "  background-color: #c6c6c6;\n",
       "  color: #000000;\n",
       "}\n",
       "#T_9c154_row5_col4, #T_9c154_row9_col12 {\n",
       "  font-size: 6pt;\n",
       "  background-color: #f9f9f9;\n",
       "  color: #000000;\n",
       "}\n",
       "#T_9c154_row5_col5 {\n",
       "  font-size: 6pt;\n",
       "  background-color: #838383;\n",
       "  color: #f1f1f1;\n",
       "}\n",
       "#T_9c154_row5_col6, #T_9c154_row5_col7, #T_9c154_row5_col15, #T_9c154_row7_col5, #T_9c154_row7_col6, #T_9c154_row7_col15, #T_9c154_row8_col5, #T_9c154_row8_col15 {\n",
       "  font-size: 6pt;\n",
       "  background-color: #010101;\n",
       "  color: #f1f1f1;\n",
       "}\n",
       "#T_9c154_row5_col10 {\n",
       "  font-size: 6pt;\n",
       "  background-color: #b3b3b3;\n",
       "  color: #000000;\n",
       "}\n",
       "#T_9c154_row5_col11 {\n",
       "  font-size: 6pt;\n",
       "  background-color: #fefefe;\n",
       "  color: #000000;\n",
       "}\n",
       "#T_9c154_row5_col13 {\n",
       "  font-size: 6pt;\n",
       "  background-color: #e7e7e7;\n",
       "  color: #000000;\n",
       "}\n",
       "#T_9c154_row5_col14 {\n",
       "  font-size: 6pt;\n",
       "  background-color: #1c1c1c;\n",
       "  color: #f1f1f1;\n",
       "}\n",
       "#T_9c154_row5_col16, #T_9c154_row7_col16 {\n",
       "  font-size: 6pt;\n",
       "  background-color: #020202;\n",
       "  color: #f1f1f1;\n",
       "}\n",
       "#T_9c154_row6_col4, #T_9c154_row10_col12 {\n",
       "  font-size: 6pt;\n",
       "  background-color: #787878;\n",
       "  color: #f1f1f1;\n",
       "}\n",
       "#T_9c154_row6_col8 {\n",
       "  font-size: 6pt;\n",
       "  background-color: #101010;\n",
       "  color: #f1f1f1;\n",
       "}\n",
       "#T_9c154_row6_col9 {\n",
       "  font-size: 6pt;\n",
       "  background-color: #cecece;\n",
       "  color: #000000;\n",
       "}\n",
       "#T_9c154_row6_col13, #T_9c154_row9_col6 {\n",
       "  font-size: 6pt;\n",
       "  background-color: #fcfcfc;\n",
       "  color: #000000;\n",
       "}\n",
       "#T_9c154_row6_col14 {\n",
       "  font-size: 6pt;\n",
       "  background-color: #3c3c3c;\n",
       "  color: #f1f1f1;\n",
       "}\n",
       "#T_9c154_row7_col3 {\n",
       "  font-size: 6pt;\n",
       "  background-color: #666666;\n",
       "  color: #f1f1f1;\n",
       "}\n",
       "#T_9c154_row7_col7 {\n",
       "  font-size: 6pt;\n",
       "  background-color: #1e1e1e;\n",
       "  color: #f1f1f1;\n",
       "}\n",
       "#T_9c154_row7_col8 {\n",
       "  font-size: 6pt;\n",
       "  background-color: #c3c3c3;\n",
       "  color: #000000;\n",
       "}\n",
       "#T_9c154_row7_col13 {\n",
       "  font-size: 6pt;\n",
       "  background-color: #dedede;\n",
       "  color: #000000;\n",
       "}\n",
       "#T_9c154_row8_col6 {\n",
       "  font-size: 6pt;\n",
       "  background-color: #555555;\n",
       "  color: #f1f1f1;\n",
       "}\n",
       "#T_9c154_row8_col7 {\n",
       "  font-size: 6pt;\n",
       "  background-color: #e8e8e8;\n",
       "  color: #000000;\n",
       "}\n",
       "#T_9c154_row8_col13 {\n",
       "  font-size: 6pt;\n",
       "  background-color: #bdbdbd;\n",
       "  color: #000000;\n",
       "}\n",
       "#T_9c154_row8_col16 {\n",
       "  font-size: 6pt;\n",
       "  background-color: #dfdfdf;\n",
       "  color: #000000;\n",
       "}\n",
       "#T_9c154_row9_col4 {\n",
       "  font-size: 6pt;\n",
       "  background-color: #878787;\n",
       "  color: #f1f1f1;\n",
       "}\n",
       "#T_9c154_row9_col5 {\n",
       "  font-size: 6pt;\n",
       "  background-color: #a4a4a4;\n",
       "  color: #f1f1f1;\n",
       "}\n",
       "#T_9c154_row9_col13 {\n",
       "  font-size: 6pt;\n",
       "  background-color: #3a3a3a;\n",
       "  color: #f1f1f1;\n",
       "}\n",
       "#T_9c154_row9_col15 {\n",
       "  font-size: 6pt;\n",
       "  background-color: #b4b4b4;\n",
       "  color: #000000;\n",
       "}\n",
       "#T_9c154_row10_col14 {\n",
       "  font-size: 6pt;\n",
       "  background-color: #090909;\n",
       "  color: #f1f1f1;\n",
       "}\n",
       "#T_9c154_row10_col15 {\n",
       "  font-size: 6pt;\n",
       "  background-color: #f3f3f3;\n",
       "  color: #000000;\n",
       "}\n",
       "</style>\n",
       "<table id=\"T_9c154\">\n",
       "  <thead>\n",
       "    <tr>\n",
       "      <th class=\"blank level0\" >&nbsp;</th>\n",
       "      <th id=\"T_9c154_level0_col0\" class=\"col_heading level0 col0\" >0</th>\n",
       "      <th id=\"T_9c154_level0_col1\" class=\"col_heading level0 col1\" >1</th>\n",
       "      <th id=\"T_9c154_level0_col2\" class=\"col_heading level0 col2\" >2</th>\n",
       "      <th id=\"T_9c154_level0_col3\" class=\"col_heading level0 col3\" >3</th>\n",
       "      <th id=\"T_9c154_level0_col4\" class=\"col_heading level0 col4\" >4</th>\n",
       "      <th id=\"T_9c154_level0_col5\" class=\"col_heading level0 col5\" >5</th>\n",
       "      <th id=\"T_9c154_level0_col6\" class=\"col_heading level0 col6\" >6</th>\n",
       "      <th id=\"T_9c154_level0_col7\" class=\"col_heading level0 col7\" >7</th>\n",
       "      <th id=\"T_9c154_level0_col8\" class=\"col_heading level0 col8\" >8</th>\n",
       "      <th id=\"T_9c154_level0_col9\" class=\"col_heading level0 col9\" >9</th>\n",
       "      <th id=\"T_9c154_level0_col10\" class=\"col_heading level0 col10\" >10</th>\n",
       "      <th id=\"T_9c154_level0_col11\" class=\"col_heading level0 col11\" >11</th>\n",
       "      <th id=\"T_9c154_level0_col12\" class=\"col_heading level0 col12\" >12</th>\n",
       "      <th id=\"T_9c154_level0_col13\" class=\"col_heading level0 col13\" >13</th>\n",
       "      <th id=\"T_9c154_level0_col14\" class=\"col_heading level0 col14\" >14</th>\n",
       "      <th id=\"T_9c154_level0_col15\" class=\"col_heading level0 col15\" >15</th>\n",
       "      <th id=\"T_9c154_level0_col16\" class=\"col_heading level0 col16\" >16</th>\n",
       "      <th id=\"T_9c154_level0_col17\" class=\"col_heading level0 col17\" >17</th>\n",
       "    </tr>\n",
       "  </thead>\n",
       "  <tbody>\n",
       "    <tr>\n",
       "      <th id=\"T_9c154_level0_row0\" class=\"row_heading level0 row0\" >0</th>\n",
       "      <td id=\"T_9c154_row0_col0\" class=\"data row0 col0\" >0</td>\n",
       "      <td id=\"T_9c154_row0_col1\" class=\"data row0 col1\" >0</td>\n",
       "      <td id=\"T_9c154_row0_col2\" class=\"data row0 col2\" >0</td>\n",
       "      <td id=\"T_9c154_row0_col3\" class=\"data row0 col3\" >0</td>\n",
       "      <td id=\"T_9c154_row0_col4\" class=\"data row0 col4\" >0</td>\n",
       "      <td id=\"T_9c154_row0_col5\" class=\"data row0 col5\" >0</td>\n",
       "      <td id=\"T_9c154_row0_col6\" class=\"data row0 col6\" >0</td>\n",
       "      <td id=\"T_9c154_row0_col7\" class=\"data row0 col7\" >0</td>\n",
       "      <td id=\"T_9c154_row0_col8\" class=\"data row0 col8\" >0</td>\n",
       "      <td id=\"T_9c154_row0_col9\" class=\"data row0 col9\" >0</td>\n",
       "      <td id=\"T_9c154_row0_col10\" class=\"data row0 col10\" >0</td>\n",
       "      <td id=\"T_9c154_row0_col11\" class=\"data row0 col11\" >0</td>\n",
       "      <td id=\"T_9c154_row0_col12\" class=\"data row0 col12\" >0</td>\n",
       "      <td id=\"T_9c154_row0_col13\" class=\"data row0 col13\" >0</td>\n",
       "      <td id=\"T_9c154_row0_col14\" class=\"data row0 col14\" >0</td>\n",
       "      <td id=\"T_9c154_row0_col15\" class=\"data row0 col15\" >0</td>\n",
       "      <td id=\"T_9c154_row0_col16\" class=\"data row0 col16\" >0</td>\n",
       "      <td id=\"T_9c154_row0_col17\" class=\"data row0 col17\" >0</td>\n",
       "    </tr>\n",
       "    <tr>\n",
       "      <th id=\"T_9c154_level0_row1\" class=\"row_heading level0 row1\" >1</th>\n",
       "      <td id=\"T_9c154_row1_col0\" class=\"data row1 col0\" >0</td>\n",
       "      <td id=\"T_9c154_row1_col1\" class=\"data row1 col1\" >0</td>\n",
       "      <td id=\"T_9c154_row1_col2\" class=\"data row1 col2\" >0</td>\n",
       "      <td id=\"T_9c154_row1_col3\" class=\"data row1 col3\" >0</td>\n",
       "      <td id=\"T_9c154_row1_col4\" class=\"data row1 col4\" >0</td>\n",
       "      <td id=\"T_9c154_row1_col5\" class=\"data row1 col5\" >0</td>\n",
       "      <td id=\"T_9c154_row1_col6\" class=\"data row1 col6\" >0</td>\n",
       "      <td id=\"T_9c154_row1_col7\" class=\"data row1 col7\" >0</td>\n",
       "      <td id=\"T_9c154_row1_col8\" class=\"data row1 col8\" >0</td>\n",
       "      <td id=\"T_9c154_row1_col9\" class=\"data row1 col9\" >0</td>\n",
       "      <td id=\"T_9c154_row1_col10\" class=\"data row1 col10\" >0</td>\n",
       "      <td id=\"T_9c154_row1_col11\" class=\"data row1 col11\" >0</td>\n",
       "      <td id=\"T_9c154_row1_col12\" class=\"data row1 col12\" >0</td>\n",
       "      <td id=\"T_9c154_row1_col13\" class=\"data row1 col13\" >0</td>\n",
       "      <td id=\"T_9c154_row1_col14\" class=\"data row1 col14\" >0</td>\n",
       "      <td id=\"T_9c154_row1_col15\" class=\"data row1 col15\" >0</td>\n",
       "      <td id=\"T_9c154_row1_col16\" class=\"data row1 col16\" >0</td>\n",
       "      <td id=\"T_9c154_row1_col17\" class=\"data row1 col17\" >0</td>\n",
       "    </tr>\n",
       "    <tr>\n",
       "      <th id=\"T_9c154_level0_row2\" class=\"row_heading level0 row2\" >2</th>\n",
       "      <td id=\"T_9c154_row2_col0\" class=\"data row2 col0\" >0</td>\n",
       "      <td id=\"T_9c154_row2_col1\" class=\"data row2 col1\" >0</td>\n",
       "      <td id=\"T_9c154_row2_col2\" class=\"data row2 col2\" >0</td>\n",
       "      <td id=\"T_9c154_row2_col3\" class=\"data row2 col3\" >0</td>\n",
       "      <td id=\"T_9c154_row2_col4\" class=\"data row2 col4\" >0</td>\n",
       "      <td id=\"T_9c154_row2_col5\" class=\"data row2 col5\" >0</td>\n",
       "      <td id=\"T_9c154_row2_col6\" class=\"data row2 col6\" >0</td>\n",
       "      <td id=\"T_9c154_row2_col7\" class=\"data row2 col7\" >0</td>\n",
       "      <td id=\"T_9c154_row2_col8\" class=\"data row2 col8\" >29</td>\n",
       "      <td id=\"T_9c154_row2_col9\" class=\"data row2 col9\" >104</td>\n",
       "      <td id=\"T_9c154_row2_col10\" class=\"data row2 col10\" >141</td>\n",
       "      <td id=\"T_9c154_row2_col11\" class=\"data row2 col11\" >241</td>\n",
       "      <td id=\"T_9c154_row2_col12\" class=\"data row2 col12\" >192</td>\n",
       "      <td id=\"T_9c154_row2_col13\" class=\"data row2 col13\" >60</td>\n",
       "      <td id=\"T_9c154_row2_col14\" class=\"data row2 col14\" >0</td>\n",
       "      <td id=\"T_9c154_row2_col15\" class=\"data row2 col15\" >0</td>\n",
       "      <td id=\"T_9c154_row2_col16\" class=\"data row2 col16\" >0</td>\n",
       "      <td id=\"T_9c154_row2_col17\" class=\"data row2 col17\" >0</td>\n",
       "    </tr>\n",
       "    <tr>\n",
       "      <th id=\"T_9c154_level0_row3\" class=\"row_heading level0 row3\" >3</th>\n",
       "      <td id=\"T_9c154_row3_col0\" class=\"data row3 col0\" >0</td>\n",
       "      <td id=\"T_9c154_row3_col1\" class=\"data row3 col1\" >0</td>\n",
       "      <td id=\"T_9c154_row3_col2\" class=\"data row3 col2\" >0</td>\n",
       "      <td id=\"T_9c154_row3_col3\" class=\"data row3 col3\" >0</td>\n",
       "      <td id=\"T_9c154_row3_col4\" class=\"data row3 col4\" >0</td>\n",
       "      <td id=\"T_9c154_row3_col5\" class=\"data row3 col5\" >0</td>\n",
       "      <td id=\"T_9c154_row3_col6\" class=\"data row3 col6\" >0</td>\n",
       "      <td id=\"T_9c154_row3_col7\" class=\"data row3 col7\" >101</td>\n",
       "      <td id=\"T_9c154_row3_col8\" class=\"data row3 col8\" >253</td>\n",
       "      <td id=\"T_9c154_row3_col9\" class=\"data row3 col9\" >252</td>\n",
       "      <td id=\"T_9c154_row3_col10\" class=\"data row3 col10\" >252</td>\n",
       "      <td id=\"T_9c154_row3_col11\" class=\"data row3 col11\" >252</td>\n",
       "      <td id=\"T_9c154_row3_col12\" class=\"data row3 col12\" >253</td>\n",
       "      <td id=\"T_9c154_row3_col13\" class=\"data row3 col13\" >234</td>\n",
       "      <td id=\"T_9c154_row3_col14\" class=\"data row3 col14\" >131</td>\n",
       "      <td id=\"T_9c154_row3_col15\" class=\"data row3 col15\" >32</td>\n",
       "      <td id=\"T_9c154_row3_col16\" class=\"data row3 col16\" >0</td>\n",
       "      <td id=\"T_9c154_row3_col17\" class=\"data row3 col17\" >0</td>\n",
       "    </tr>\n",
       "    <tr>\n",
       "      <th id=\"T_9c154_level0_row4\" class=\"row_heading level0 row4\" >4</th>\n",
       "      <td id=\"T_9c154_row4_col0\" class=\"data row4 col0\" >0</td>\n",
       "      <td id=\"T_9c154_row4_col1\" class=\"data row4 col1\" >0</td>\n",
       "      <td id=\"T_9c154_row4_col2\" class=\"data row4 col2\" >0</td>\n",
       "      <td id=\"T_9c154_row4_col3\" class=\"data row4 col3\" >0</td>\n",
       "      <td id=\"T_9c154_row4_col4\" class=\"data row4 col4\" >0</td>\n",
       "      <td id=\"T_9c154_row4_col5\" class=\"data row4 col5\" >19</td>\n",
       "      <td id=\"T_9c154_row4_col6\" class=\"data row4 col6\" >123</td>\n",
       "      <td id=\"T_9c154_row4_col7\" class=\"data row4 col7\" >246</td>\n",
       "      <td id=\"T_9c154_row4_col8\" class=\"data row4 col8\" >253</td>\n",
       "      <td id=\"T_9c154_row4_col9\" class=\"data row4 col9\" >252</td>\n",
       "      <td id=\"T_9c154_row4_col10\" class=\"data row4 col10\" >252</td>\n",
       "      <td id=\"T_9c154_row4_col11\" class=\"data row4 col11\" >177</td>\n",
       "      <td id=\"T_9c154_row4_col12\" class=\"data row4 col12\" >119</td>\n",
       "      <td id=\"T_9c154_row4_col13\" class=\"data row4 col13\" >224</td>\n",
       "      <td id=\"T_9c154_row4_col14\" class=\"data row4 col14\" >252</td>\n",
       "      <td id=\"T_9c154_row4_col15\" class=\"data row4 col15\" >228</td>\n",
       "      <td id=\"T_9c154_row4_col16\" class=\"data row4 col16\" >38</td>\n",
       "      <td id=\"T_9c154_row4_col17\" class=\"data row4 col17\" >0</td>\n",
       "    </tr>\n",
       "    <tr>\n",
       "      <th id=\"T_9c154_level0_row5\" class=\"row_heading level0 row5\" >5</th>\n",
       "      <td id=\"T_9c154_row5_col0\" class=\"data row5 col0\" >0</td>\n",
       "      <td id=\"T_9c154_row5_col1\" class=\"data row5 col1\" >0</td>\n",
       "      <td id=\"T_9c154_row5_col2\" class=\"data row5 col2\" >0</td>\n",
       "      <td id=\"T_9c154_row5_col3\" class=\"data row5 col3\" >0</td>\n",
       "      <td id=\"T_9c154_row5_col4\" class=\"data row5 col4\" >13</td>\n",
       "      <td id=\"T_9c154_row5_col5\" class=\"data row5 col5\" >144</td>\n",
       "      <td id=\"T_9c154_row5_col6\" class=\"data row5 col6\" >252</td>\n",
       "      <td id=\"T_9c154_row5_col7\" class=\"data row5 col7\" >252</td>\n",
       "      <td id=\"T_9c154_row5_col8\" class=\"data row5 col8\" >253</td>\n",
       "      <td id=\"T_9c154_row5_col9\" class=\"data row5 col9\" >227</td>\n",
       "      <td id=\"T_9c154_row5_col10\" class=\"data row5 col10\" >103</td>\n",
       "      <td id=\"T_9c154_row5_col11\" class=\"data row5 col11\" >3</td>\n",
       "      <td id=\"T_9c154_row5_col12\" class=\"data row5 col12\" >0</td>\n",
       "      <td id=\"T_9c154_row5_col13\" class=\"data row5 col13\" >44</td>\n",
       "      <td id=\"T_9c154_row5_col14\" class=\"data row5 col14\" >228</td>\n",
       "      <td id=\"T_9c154_row5_col15\" class=\"data row5 col15\" >252</td>\n",
       "      <td id=\"T_9c154_row5_col16\" class=\"data row5 col16\" >113</td>\n",
       "      <td id=\"T_9c154_row5_col17\" class=\"data row5 col17\" >0</td>\n",
       "    </tr>\n",
       "    <tr>\n",
       "      <th id=\"T_9c154_level0_row6\" class=\"row_heading level0 row6\" >6</th>\n",
       "      <td id=\"T_9c154_row6_col0\" class=\"data row6 col0\" >0</td>\n",
       "      <td id=\"T_9c154_row6_col1\" class=\"data row6 col1\" >0</td>\n",
       "      <td id=\"T_9c154_row6_col2\" class=\"data row6 col2\" >0</td>\n",
       "      <td id=\"T_9c154_row6_col3\" class=\"data row6 col3\" >0</td>\n",
       "      <td id=\"T_9c154_row6_col4\" class=\"data row6 col4\" >154</td>\n",
       "      <td id=\"T_9c154_row6_col5\" class=\"data row6 col5\" >253</td>\n",
       "      <td id=\"T_9c154_row6_col6\" class=\"data row6 col6\" >253</td>\n",
       "      <td id=\"T_9c154_row6_col7\" class=\"data row6 col7\" >253</td>\n",
       "      <td id=\"T_9c154_row6_col8\" class=\"data row6 col8\" >239</td>\n",
       "      <td id=\"T_9c154_row6_col9\" class=\"data row6 col9\" >75</td>\n",
       "      <td id=\"T_9c154_row6_col10\" class=\"data row6 col10\" >0</td>\n",
       "      <td id=\"T_9c154_row6_col11\" class=\"data row6 col11\" >0</td>\n",
       "      <td id=\"T_9c154_row6_col12\" class=\"data row6 col12\" >0</td>\n",
       "      <td id=\"T_9c154_row6_col13\" class=\"data row6 col13\" >7</td>\n",
       "      <td id=\"T_9c154_row6_col14\" class=\"data row6 col14\" >204</td>\n",
       "      <td id=\"T_9c154_row6_col15\" class=\"data row6 col15\" >253</td>\n",
       "      <td id=\"T_9c154_row6_col16\" class=\"data row6 col16\" >114</td>\n",
       "      <td id=\"T_9c154_row6_col17\" class=\"data row6 col17\" >0</td>\n",
       "    </tr>\n",
       "    <tr>\n",
       "      <th id=\"T_9c154_level0_row7\" class=\"row_heading level0 row7\" >7</th>\n",
       "      <td id=\"T_9c154_row7_col0\" class=\"data row7 col0\" >0</td>\n",
       "      <td id=\"T_9c154_row7_col1\" class=\"data row7 col1\" >0</td>\n",
       "      <td id=\"T_9c154_row7_col2\" class=\"data row7 col2\" >0</td>\n",
       "      <td id=\"T_9c154_row7_col3\" class=\"data row7 col3\" >76</td>\n",
       "      <td id=\"T_9c154_row7_col4\" class=\"data row7 col4\" >253</td>\n",
       "      <td id=\"T_9c154_row7_col5\" class=\"data row7 col5\" >252</td>\n",
       "      <td id=\"T_9c154_row7_col6\" class=\"data row7 col6\" >252</td>\n",
       "      <td id=\"T_9c154_row7_col7\" class=\"data row7 col7\" >227</td>\n",
       "      <td id=\"T_9c154_row7_col8\" class=\"data row7 col8\" >88</td>\n",
       "      <td id=\"T_9c154_row7_col9\" class=\"data row7 col9\" >0</td>\n",
       "      <td id=\"T_9c154_row7_col10\" class=\"data row7 col10\" >0</td>\n",
       "      <td id=\"T_9c154_row7_col11\" class=\"data row7 col11\" >0</td>\n",
       "      <td id=\"T_9c154_row7_col12\" class=\"data row7 col12\" >0</td>\n",
       "      <td id=\"T_9c154_row7_col13\" class=\"data row7 col13\" >57</td>\n",
       "      <td id=\"T_9c154_row7_col14\" class=\"data row7 col14\" >252</td>\n",
       "      <td id=\"T_9c154_row7_col15\" class=\"data row7 col15\" >252</td>\n",
       "      <td id=\"T_9c154_row7_col16\" class=\"data row7 col16\" >113</td>\n",
       "      <td id=\"T_9c154_row7_col17\" class=\"data row7 col17\" >0</td>\n",
       "    </tr>\n",
       "    <tr>\n",
       "      <th id=\"T_9c154_level0_row8\" class=\"row_heading level0 row8\" >8</th>\n",
       "      <td id=\"T_9c154_row8_col0\" class=\"data row8 col0\" >0</td>\n",
       "      <td id=\"T_9c154_row8_col1\" class=\"data row8 col1\" >0</td>\n",
       "      <td id=\"T_9c154_row8_col2\" class=\"data row8 col2\" >0</td>\n",
       "      <td id=\"T_9c154_row8_col3\" class=\"data row8 col3\" >113</td>\n",
       "      <td id=\"T_9c154_row8_col4\" class=\"data row8 col4\" >253</td>\n",
       "      <td id=\"T_9c154_row8_col5\" class=\"data row8 col5\" >252</td>\n",
       "      <td id=\"T_9c154_row8_col6\" class=\"data row8 col6\" >186</td>\n",
       "      <td id=\"T_9c154_row8_col7\" class=\"data row8 col7\" >43</td>\n",
       "      <td id=\"T_9c154_row8_col8\" class=\"data row8 col8\" >0</td>\n",
       "      <td id=\"T_9c154_row8_col9\" class=\"data row8 col9\" >0</td>\n",
       "      <td id=\"T_9c154_row8_col10\" class=\"data row8 col10\" >0</td>\n",
       "      <td id=\"T_9c154_row8_col11\" class=\"data row8 col11\" >0</td>\n",
       "      <td id=\"T_9c154_row8_col12\" class=\"data row8 col12\" >0</td>\n",
       "      <td id=\"T_9c154_row8_col13\" class=\"data row8 col13\" >95</td>\n",
       "      <td id=\"T_9c154_row8_col14\" class=\"data row8 col14\" >252</td>\n",
       "      <td id=\"T_9c154_row8_col15\" class=\"data row8 col15\" >252</td>\n",
       "      <td id=\"T_9c154_row8_col16\" class=\"data row8 col16\" >25</td>\n",
       "      <td id=\"T_9c154_row8_col17\" class=\"data row8 col17\" >0</td>\n",
       "    </tr>\n",
       "    <tr>\n",
       "      <th id=\"T_9c154_level0_row9\" class=\"row_heading level0 row9\" >9</th>\n",
       "      <td id=\"T_9c154_row9_col0\" class=\"data row9 col0\" >0</td>\n",
       "      <td id=\"T_9c154_row9_col1\" class=\"data row9 col1\" >0</td>\n",
       "      <td id=\"T_9c154_row9_col2\" class=\"data row9 col2\" >0</td>\n",
       "      <td id=\"T_9c154_row9_col3\" class=\"data row9 col3\" >13</td>\n",
       "      <td id=\"T_9c154_row9_col4\" class=\"data row9 col4\" >140</td>\n",
       "      <td id=\"T_9c154_row9_col5\" class=\"data row9 col5\" >115</td>\n",
       "      <td id=\"T_9c154_row9_col6\" class=\"data row9 col6\" >6</td>\n",
       "      <td id=\"T_9c154_row9_col7\" class=\"data row9 col7\" >0</td>\n",
       "      <td id=\"T_9c154_row9_col8\" class=\"data row9 col8\" >0</td>\n",
       "      <td id=\"T_9c154_row9_col9\" class=\"data row9 col9\" >0</td>\n",
       "      <td id=\"T_9c154_row9_col10\" class=\"data row9 col10\" >0</td>\n",
       "      <td id=\"T_9c154_row9_col11\" class=\"data row9 col11\" >0</td>\n",
       "      <td id=\"T_9c154_row9_col12\" class=\"data row9 col12\" >13</td>\n",
       "      <td id=\"T_9c154_row9_col13\" class=\"data row9 col13\" >206</td>\n",
       "      <td id=\"T_9c154_row9_col14\" class=\"data row9 col14\" >252</td>\n",
       "      <td id=\"T_9c154_row9_col15\" class=\"data row9 col15\" >102</td>\n",
       "      <td id=\"T_9c154_row9_col16\" class=\"data row9 col16\" >0</td>\n",
       "      <td id=\"T_9c154_row9_col17\" class=\"data row9 col17\" >0</td>\n",
       "    </tr>\n",
       "    <tr>\n",
       "      <th id=\"T_9c154_level0_row10\" class=\"row_heading level0 row10\" >10</th>\n",
       "      <td id=\"T_9c154_row10_col0\" class=\"data row10 col0\" >0</td>\n",
       "      <td id=\"T_9c154_row10_col1\" class=\"data row10 col1\" >0</td>\n",
       "      <td id=\"T_9c154_row10_col2\" class=\"data row10 col2\" >0</td>\n",
       "      <td id=\"T_9c154_row10_col3\" class=\"data row10 col3\" >0</td>\n",
       "      <td id=\"T_9c154_row10_col4\" class=\"data row10 col4\" >0</td>\n",
       "      <td id=\"T_9c154_row10_col5\" class=\"data row10 col5\" >0</td>\n",
       "      <td id=\"T_9c154_row10_col6\" class=\"data row10 col6\" >0</td>\n",
       "      <td id=\"T_9c154_row10_col7\" class=\"data row10 col7\" >0</td>\n",
       "      <td id=\"T_9c154_row10_col8\" class=\"data row10 col8\" >0</td>\n",
       "      <td id=\"T_9c154_row10_col9\" class=\"data row10 col9\" >0</td>\n",
       "      <td id=\"T_9c154_row10_col10\" class=\"data row10 col10\" >0</td>\n",
       "      <td id=\"T_9c154_row10_col11\" class=\"data row10 col11\" >0</td>\n",
       "      <td id=\"T_9c154_row10_col12\" class=\"data row10 col12\" >154</td>\n",
       "      <td id=\"T_9c154_row10_col13\" class=\"data row10 col13\" >253</td>\n",
       "      <td id=\"T_9c154_row10_col14\" class=\"data row10 col14\" >244</td>\n",
       "      <td id=\"T_9c154_row10_col15\" class=\"data row10 col15\" >25</td>\n",
       "      <td id=\"T_9c154_row10_col16\" class=\"data row10 col16\" >0</td>\n",
       "      <td id=\"T_9c154_row10_col17\" class=\"data row10 col17\" >0</td>\n",
       "    </tr>\n",
       "  </tbody>\n",
       "</table>\n"
      ],
      "text/plain": [
       "<pandas.io.formats.style.Styler at 0x7fc3db6410f0>"
      ]
     },
     "execution_count": 158,
     "metadata": {},
     "output_type": "execute_result"
    }
   ],
   "source": [
    "im7_t = tensor(im7)\n",
    "df = pd.DataFrame(im7_t[4:15,4:22])\n",
    "df.style.set_properties(**{'font-size':'6pt'}).background_gradient('Greys')"
   ]
  },
  {
   "attachments": {},
   "cell_type": "markdown",
   "metadata": {},
   "source": [
    "Create list of single image tensors, check length"
   ]
  },
  {
   "cell_type": "code",
   "execution_count": 159,
   "metadata": {},
   "outputs": [
    {
     "data": {
      "text/plain": [
       "(6131, 6265)"
      ]
     },
     "execution_count": 159,
     "metadata": {},
     "output_type": "execute_result"
    }
   ],
   "source": [
    "seven_tensors = [tensor(Image.open(o)) for o in sevens]\n",
    "three_tensors = [tensor(Image.open(o)) for o in threes]\n",
    "len(three_tensors),len(seven_tensors)"
   ]
  },
  {
   "attachments": {},
   "cell_type": "markdown",
   "metadata": {},
   "source": [
    "Check an image to make sure it looks correct"
   ]
  },
  {
   "cell_type": "code",
   "execution_count": 160,
   "metadata": {},
   "outputs": [
    {
     "data": {
      "text/plain": [
       "<AxesSubplot: >"
      ]
     },
     "execution_count": 160,
     "metadata": {},
     "output_type": "execute_result"
    },
    {
     "data": {
      "image/png": "[encoded data removed]",
      "text/plain": [
       "<Figure size 100x100 with 1 Axes>"
      ]
     },
     "metadata": {},
     "output_type": "display_data"
    }
   ],
   "source": [
    "show_image(three_tensors[1])"
   ]
  },
  {
   "attachments": {},
   "cell_type": "markdown",
   "metadata": {},
   "source": [
    "Compute the average over all the images of the intensity at each pixel"
   ]
  },
  {
   "attachments": {},
   "cell_type": "markdown",
   "metadata": {},
   "source": [
    "To do this we have to combine or **stack** all the image in the list\n",
    "and create a *single 3 dimensional* tensor\n",
    "\n",
    "Common description of a 3 dimensional tensor is a *rank-3 tensor*\n",
    "\n",
    "This is a pretty common occurance, and pytorch has a function called\n",
    "*stack* to do this."
   ]
  },
  {
   "attachments": {},
   "cell_type": "markdown",
   "metadata": {},
   "source": [
    "Some operations like taking a mean require us to *cast* our integer types to float types.\n",
    "\n",
    "In pytorch there is a method *.float()* that can be called to do this\n",
    "\n",
    "Pixel values are expected to be between 0 and 1 so we can divide by 255 to get this value"
   ]
  },
  {
   "cell_type": "code",
   "execution_count": 161,
   "metadata": {},
   "outputs": [
    {
     "data": {
      "text/plain": [
       "torch.Size([6131, 28, 28])"
      ]
     },
     "execution_count": 161,
     "metadata": {},
     "output_type": "execute_result"
    }
   ],
   "source": [
    "stacked_sevens = torch.stack(seven_tensors).float()/255\n",
    "stacked_threes = torch.stack(three_tensors).float()/255\n",
    "stacked_threes.shape"
   ]
  },
  {
   "attachments": {},
   "cell_type": "markdown",
   "metadata": {},
   "source": [
    "*** "
   ]
  },
  {
   "attachments": {},
   "cell_type": "markdown",
   "metadata": {},
   "source": [
    "#### QUICK EXPERIMENT - Tensor Dimensions\n",
    "- Start with 2D List converted to tensor"
   ]
  },
  {
   "attachments": {},
   "cell_type": "markdown",
   "metadata": {},
   "source": [
    "*** "
   ]
  },
  {
   "cell_type": "code",
   "execution_count": 162,
   "metadata": {},
   "outputs": [
    {
     "name": "stdout",
     "output_type": "stream",
     "text": [
      "[[1, 2, 3, 4], [5, 6, 7, 8], [9, 8, 7, 6]]\n",
      "tensor([[1, 2, 3, 4],\n",
      "        [5, 6, 7, 8],\n",
      "        [9, 8, 7, 6]])\n"
     ]
    }
   ],
   "source": [
    "test_list = [[1, 2, 3, 4],\n",
    "             [5, 6, 7, 8],\n",
    "             [9, 8, 7, 6]]\n",
    "test_tensor = tensor(test_list)\n",
    "print(test_list)\n",
    "print(test_tensor)"
   ]
  },
  {
   "attachments": {},
   "cell_type": "markdown",
   "metadata": {},
   "source": [
    "create other tensors by multiplying by existing tensors. Multiplying by a number doesn't really work as it changes the dimensions"
   ]
  },
  {
   "cell_type": "code",
   "execution_count": 163,
   "metadata": {},
   "outputs": [
    {
     "name": "stdout",
     "output_type": "stream",
     "text": [
      "tensor([[1, 2, 3, 4],\n",
      "        [5, 6, 7, 8],\n",
      "        [9, 8, 7, 6]])\n",
      "tensor([[ 1,  4,  9, 16],\n",
      "        [25, 36, 49, 64],\n",
      "        [81, 64, 49, 36]])\n",
      "tensor([[  1,   8,  27,  64],\n",
      "        [125, 216, 343, 512],\n",
      "        [729, 512, 343, 216]])\n",
      "tensor([[   1,   16,   81,  256],\n",
      "        [ 625, 1296, 2401, 4096],\n",
      "        [6561, 4096, 2401, 1296]])\n",
      "tensor([[    1,    32,   243,  1024],\n",
      "        [ 3125,  7776, 16807, 32768],\n",
      "        [59049, 32768, 16807,  7776]])\n"
     ]
    }
   ],
   "source": [
    "print(test_tensor)\n",
    "test_tensor_2 = test_tensor * test_tensor\n",
    "print(test_tensor_2)\n",
    "test_tensor_3 = test_tensor * test_tensor_2\n",
    "print(test_tensor_3)\n",
    "test_tensor_4 = test_tensor * test_tensor_3\n",
    "print(test_tensor_4)\n",
    "test_tensor_5 = test_tensor * test_tensor_4\n",
    "print(test_tensor_5)\n"
   ]
  },
  {
   "attachments": {},
   "cell_type": "markdown",
   "metadata": {},
   "source": [
    "Get the shape of the tensors\n",
    "- *Update* - Notebooks will only output the latest call on shape"
   ]
  },
  {
   "cell_type": "code",
   "execution_count": 164,
   "metadata": {},
   "outputs": [
    {
     "data": {
      "text/plain": [
       "torch.Size([3, 4])"
      ]
     },
     "execution_count": 164,
     "metadata": {},
     "output_type": "execute_result"
    }
   ],
   "source": [
    "test_tensor.shape\n",
    "test_tensor_2.shape"
   ]
  },
  {
   "attachments": {},
   "cell_type": "markdown",
   "metadata": {},
   "source": [
    "Attempt to assing shape to variable so that it can be printed later\n",
    "- *Update* - This works"
   ]
  },
  {
   "cell_type": "code",
   "execution_count": 165,
   "metadata": {},
   "outputs": [
    {
     "name": "stdout",
     "output_type": "stream",
     "text": [
      "torch.Size([3, 4])\n",
      "torch.Size([3, 4])\n"
     ]
    }
   ],
   "source": [
    "shape_1 = test_tensor.shape\n",
    "print(shape_1)\n",
    "shape_2 = test_tensor_2.shape\n",
    "print(shape_2)"
   ]
  },
  {
   "attachments": {},
   "cell_type": "markdown",
   "metadata": {},
   "source": [
    "Stack the tensors\n",
    "- *Update* Tensors need to be in a tuple or a list to stack"
   ]
  },
  {
   "cell_type": "code",
   "execution_count": 166,
   "metadata": {},
   "outputs": [
    {
     "name": "stdout",
     "output_type": "stream",
     "text": [
      "tensor([[[    1,     2,     3,     4],\n",
      "         [    5,     6,     7,     8],\n",
      "         [    9,     8,     7,     6]],\n",
      "\n",
      "        [[    1,     4,     9,    16],\n",
      "         [   25,    36,    49,    64],\n",
      "         [   81,    64,    49,    36]],\n",
      "\n",
      "        [[    1,     8,    27,    64],\n",
      "         [  125,   216,   343,   512],\n",
      "         [  729,   512,   343,   216]],\n",
      "\n",
      "        [[    1,    16,    81,   256],\n",
      "         [  625,  1296,  2401,  4096],\n",
      "         [ 6561,  4096,  2401,  1296]],\n",
      "\n",
      "        [[    1,    32,   243,  1024],\n",
      "         [ 3125,  7776, 16807, 32768],\n",
      "         [59049, 32768, 16807,  7776]]])\n"
     ]
    }
   ],
   "source": [
    "test_tensor_list = [test_tensor, test_tensor_2, test_tensor_3, test_tensor_4, test_tensor_5]\n",
    "stacked_test_tensors = torch.stack(test_tensor_list)\n",
    "print(stacked_test_tensors)"
   ]
  },
  {
   "attachments": {},
   "cell_type": "markdown",
   "metadata": {},
   "source": [
    "Get stacked tensor shape\n",
    "- *Update* - Can be thought of for right now as indexing Z,X,Y"
   ]
  },
  {
   "cell_type": "code",
   "execution_count": 167,
   "metadata": {},
   "outputs": [
    {
     "name": "stdout",
     "output_type": "stream",
     "text": [
      "torch.Size([5, 3, 4])\n",
      "3\n"
     ]
    }
   ],
   "source": [
    "print(stacked_test_tensors.shape)\n",
    "print(len(stacked_test_tensors.shape))"
   ]
  },
  {
   "attachments": {},
   "cell_type": "markdown",
   "metadata": {},
   "source": [
    "Get all items in stack at row 0, axis 1\n"
   ]
  },
  {
   "cell_type": "code",
   "execution_count": 168,
   "metadata": {},
   "outputs": [
    {
     "name": "stdout",
     "output_type": "stream",
     "text": [
      "tensor([ 2,  4,  8, 16, 32])\n"
     ]
    }
   ],
   "source": [
    "row_index = 0\n",
    "axis_index = 1\n",
    "selected_row = stacked_test_tensors[:,row_index,axis_index]\n",
    "print(selected_row)"
   ]
  },
  {
   "attachments": {},
   "cell_type": "markdown",
   "metadata": {},
   "source": [
    "*** "
   ]
  },
  {
   "attachments": {},
   "cell_type": "markdown",
   "metadata": {},
   "source": [
    "#### RESUME"
   ]
  },
  {
   "attachments": {},
   "cell_type": "markdown",
   "metadata": {},
   "source": [
    "*** "
   ]
  },
  {
   "attachments": {},
   "cell_type": "markdown",
   "metadata": {},
   "source": [
    "*shape* is the most important attribute of a tensor. It tells you\n",
    "the length of each axis. The above is saying there are 6131 images, each of size 28x28 pixels\n",
    "\n",
    "nothing about the tensor specificallys says first is images, second is height in pixels, third is height in pixels. This is all up to us and how we construct it\n",
    "\n",
    "The *length* of the tensor shape is it's *rank*"
   ]
  },
  {
   "cell_type": "code",
   "execution_count": 169,
   "metadata": {},
   "outputs": [
    {
     "data": {
      "text/plain": [
       "3"
      ]
     },
     "execution_count": 169,
     "metadata": {},
     "output_type": "execute_result"
    }
   ],
   "source": [
    "len(stacked_sevens.shape)"
   ]
  },
  {
   "attachments": {},
   "cell_type": "markdown",
   "metadata": {},
   "source": [
    "**Important Terms to Memorize** <br>\n",
    "*Rank* - the number of axes or dimensions of a tensor<br>\n",
    "*Shape* - the size of each axis of a tensor<br>\n",
    "\n",
    "Dimension is used in a confusing way sometimes\n",
    "A \"3D\" physical position can be described with vectors, but to pytorch,\n",
    "the number of dimensions is == 1.\n",
    "\n",
    "This is because even though it's 3 items long, it's still only one axis\n",
    "Ex. \"3 Dimensional\"\n",
    "Sometimes dimension is used for *size of axis* [1,2,3]\n",
    "Sometimes it's used for *rank*  [1,2,3]\n",
    "                                [1,2,3]\n",
    "                                [1,2,3]\n",
    "\n",
    "Describing in terms of **rank, axis, and length** are unambiguous"
   ]
  },
  {
   "attachments": {},
   "cell_type": "markdown",
   "metadata": {},
   "source": [
    "A tensor's rank can be obtained with `ndim`"
   ]
  },
  {
   "cell_type": "code",
   "execution_count": 170,
   "metadata": {},
   "outputs": [
    {
     "data": {
      "text/plain": [
       "3"
      ]
     },
     "execution_count": 170,
     "metadata": {},
     "output_type": "execute_result"
    }
   ],
   "source": [
    "stacked_threes.ndim"
   ]
  },
  {
   "attachments": {},
   "cell_type": "markdown",
   "metadata": {},
   "source": [
    "Compute what *ideal* 3 looks like - \n",
    "- Calculate the mean of all image tensors\n",
    "    - Take the mean along dimension 0 of this stacked, rank-3 tensor\n",
    "    - So for every pixel position, compute the average of that pixel over all images\n",
    "    - Result is one value for every pixel position, == One Image"
   ]
  },
  {
   "attachments": {},
   "cell_type": "markdown",
   "metadata": {},
   "source": [
    "![title](../img/tensor_dims.jpeg)"
   ]
  },
  {
   "cell_type": "code",
   "execution_count": 171,
   "metadata": {},
   "outputs": [
    {
     "data": {
      "image/png": "[encoded data removed]",
      "text/plain": [
       "<Figure size 100x100 with 1 Axes>"
      ]
     },
     "metadata": {},
     "output_type": "display_data"
    }
   ],
   "source": [
    "mean3 = stacked_threes.mean(0)\n",
    "show_image(mean3);"
   ]
  },
  {
   "cell_type": "code",
   "execution_count": 172,
   "metadata": {},
   "outputs": [
    {
     "data": {
      "image/png": "[encoded data removed]",
      "text/plain": [
       "<Figure size 100x100 with 1 Axes>"
      ]
     },
     "metadata": {},
     "output_type": "display_data"
    }
   ],
   "source": [
    "mean7 = stacked_sevens.mean(0)\n",
    "show_image(mean7);"
   ]
  },
  {
   "cell_type": "code",
   "execution_count": 173,
   "metadata": {},
   "outputs": [
    {
     "data": {
      "image/png": "[encoded data removed]",
      "text/plain": [
       "<Figure size 100x100 with 1 Axes>"
      ]
     },
     "metadata": {},
     "output_type": "display_data"
    }
   ],
   "source": [
    "a_3 = stacked_threes[1]\n",
    "show_image(a_3);"
   ]
  },
  {
   "attachments": {},
   "cell_type": "markdown",
   "metadata": {},
   "source": [
    "2 Ways<br>\n",
    "Take the mean of the *absolute value* of differences\n",
    "- Called the *mean absolute difference* or *L1 norm*<br>\n",
    "Take the mean of the *square* of differences(which also makes positive)\n",
    "and then take the square root(to undo squaring)\n",
    "- Called the *root mean squared error* (RMSE) or *L2 Norm*"
   ]
  },
  {
   "attachments": {},
   "cell_type": "markdown",
   "metadata": {},
   "source": [
    "Try out both methods:"
   ]
  },
  {
   "cell_type": "code",
   "execution_count": 174,
   "metadata": {},
   "outputs": [
    {
     "data": {
      "text/plain": [
       "(tensor(0.1114), tensor(0.2021))"
      ]
     },
     "execution_count": 174,
     "metadata": {},
     "output_type": "execute_result"
    }
   ],
   "source": [
    "dist_3_abs = (a_3 - mean3).abs().mean()\n",
    "dist_3_sqr = ((a_3 - mean3)**2).mean().sqrt()\n",
    "dist_3_abs, dist_3_sqr"
   ]
  },
  {
   "cell_type": "code",
   "execution_count": 175,
   "metadata": {},
   "outputs": [
    {
     "data": {
      "text/plain": [
       "(tensor(0.1586), tensor(0.3021))"
      ]
     },
     "execution_count": 175,
     "metadata": {},
     "output_type": "execute_result"
    }
   ],
   "source": [
    "dist_7_abs = (a_3 - mean7).abs().mean()\n",
    "dist_7_sqr = ((a_3 - mean7)**2).mean().sqrt()\n",
    "dist_7_abs, dist_7_sqr"
   ]
  },
  {
   "attachments": {},
   "cell_type": "markdown",
   "metadata": {},
   "source": [
    "*** "
   ]
  },
  {
   "attachments": {},
   "cell_type": "markdown",
   "metadata": {},
   "source": [
    "Guessing Sidebar<br>\n",
    "What do each of the above mean?\n",
    "We have 2 types of differences, with the differences for both methods showing about a ~50% increase in difference when the example 3 image is measured against the 7 vs. itself.\n",
    "\n",
    "How are we going to apply these numbers? We have a tensor returned for each of the 4 operations(2 that are \"Ideal 3\" vs \"Test 3\", and 2 that are \"Ideal 7\" vs \"Test 3\")\n",
    "\n",
    "There is a difference, but are we just going to iterate over every pixel and test the difference?\n",
    "\n",
    "If so how do we aggregate results, if at all?"
   ]
  },
  {
   "attachments": {},
   "cell_type": "markdown",
   "metadata": {},
   "source": [
    "*** "
   ]
  },
  {
   "attachments": {},
   "cell_type": "markdown",
   "metadata": {},
   "source": [
    "#### Resume"
   ]
  },
  {
   "attachments": {},
   "cell_type": "markdown",
   "metadata": {},
   "source": [
    "Both methods show a shorter distance from our example 3 to ideal 3 than example 7 to ideal 3 \n",
    "\n",
    "So we can infer that our model will give the correct prediction"
   ]
  },
  {
   "attachments": {},
   "cell_type": "markdown",
   "metadata": {},
   "source": [
    "Pytorch provides both of these as *loss functions*\n",
    "They're in `torch.nn.functional`, which is recommended to import as \"F\"\n",
    "\n",
    "(Same as Pandas - import as \"PD\")\n",
    "\n",
    "Fastai already does this so it's available with F as the default name"
   ]
  },
  {
   "attachments": {},
   "cell_type": "markdown",
   "metadata": {},
   "source": [
    "Worth noting that we have to call the float method on a_3 here, and for `mse_loss` we have to add the square root\n",
    "as the mean squared error is just that - it's not the \"mean squared error squareroot\" - so, makes sense"
   ]
  },
  {
   "attachments": {},
   "cell_type": "markdown",
   "metadata": {},
   "source": [
    "Both of these take an input and a target, with the input being the item to be compared, and the target being the mean\n",
    "So need to remember that the target is what the input will be running against"
   ]
  },
  {
   "cell_type": "code",
   "execution_count": 176,
   "metadata": {},
   "outputs": [
    {
     "data": {
      "text/plain": [
       "(tensor(0.1586), tensor(0.3021))"
      ]
     },
     "execution_count": 176,
     "metadata": {},
     "output_type": "execute_result"
    }
   ],
   "source": [
    "F.l1_loss(a_3.float(),mean7), F.mse_loss(a_3.float(),mean7).sqrt()"
   ]
  },
  {
   "attachments": {},
   "cell_type": "markdown",
   "metadata": {},
   "source": [
    "Note: Difference between the L1 norm and MSE is that the MSE will penalize larger mistakes more harshly, as well as being more lenient on small mistakes - I'm going to sidebar to get a visual on this"
   ]
  },
  {
   "cell_type": "markdown",
   "metadata": {},
   "source": [
    "*** "
   ]
  },
  {
   "attachments": {},
   "cell_type": "markdown",
   "metadata": {},
   "source": [
    "#### QUICK EXPERIMENT <br>\n",
    "My dumbass trying to refamiliarize myself with basic math\n"
   ]
  },
  {
   "attachments": {},
   "cell_type": "markdown",
   "metadata": {},
   "source": [
    "Let's run through this real quick my stacked_test_tensors<br>\n",
    "So here's the state at the beginning"
   ]
  },
  {
   "cell_type": "code",
   "execution_count": 177,
   "metadata": {},
   "outputs": [
    {
     "name": "stdout",
     "output_type": "stream",
     "text": [
      "tensor([[[    1,     2,     3,     4],\n",
      "         [    5,     6,     7,     8],\n",
      "         [    9,     8,     7,     6]],\n",
      "\n",
      "        [[    1,     4,     9,    16],\n",
      "         [   25,    36,    49,    64],\n",
      "         [   81,    64,    49,    36]],\n",
      "\n",
      "        [[    1,     8,    27,    64],\n",
      "         [  125,   216,   343,   512],\n",
      "         [  729,   512,   343,   216]],\n",
      "\n",
      "        [[    1,    16,    81,   256],\n",
      "         [  625,  1296,  2401,  4096],\n",
      "         [ 6561,  4096,  2401,  1296]],\n",
      "\n",
      "        [[    1,    32,   243,  1024],\n",
      "         [ 3125,  7776, 16807, 32768],\n",
      "         [59049, 32768, 16807,  7776]]])\n"
     ]
    }
   ],
   "source": [
    "print(stacked_test_tensors)"
   ]
  },
  {
   "attachments": {},
   "cell_type": "markdown",
   "metadata": {},
   "source": [
    "Let's create another ndim tensor so that there's something to compare all this against"
   ]
  },
  {
   "cell_type": "code",
   "execution_count": 178,
   "metadata": {},
   "outputs": [
    {
     "name": "stdout",
     "output_type": "stream",
     "text": [
      "tensor([[[     4,      8,     12,     16],\n",
      "         [    20,     24,     28,     32],\n",
      "         [    36,     32,     28,     24]],\n",
      "\n",
      "        [[     4,     16,     36,     64],\n",
      "         [   100,    144,    196,    256],\n",
      "         [   324,    256,    196,    144]],\n",
      "\n",
      "        [[     4,     32,    108,    256],\n",
      "         [   500,    864,   1372,   2048],\n",
      "         [  2916,   2048,   1372,    864]],\n",
      "\n",
      "        [[     4,     64,    324,   1024],\n",
      "         [  2500,   5184,   9604,  16384],\n",
      "         [ 26244,  16384,   9604,   5184]],\n",
      "\n",
      "        [[     4,    128,    972,   4096],\n",
      "         [ 12500,  31104,  67228, 131072],\n",
      "         [236196, 131072,  67228,  31104]]])\n"
     ]
    }
   ],
   "source": [
    "stacked_test_tensors_2 = stacked_test_tensors * 4\n",
    "print(stacked_test_tensors_2)"
   ]
  },
  {
   "attachments": {},
   "cell_type": "markdown",
   "metadata": {},
   "source": [
    "**L1** Alright lets see how different this gets - First the absolute value of the difference"
   ]
  },
  {
   "cell_type": "code",
   "execution_count": 179,
   "metadata": {},
   "outputs": [
    {
     "name": "stdout",
     "output_type": "stream",
     "text": [
      "tensor([[[     3,      6,      9,     12],\n",
      "         [    15,     18,     21,     24],\n",
      "         [    27,     24,     21,     18]],\n",
      "\n",
      "        [[     3,     12,     27,     48],\n",
      "         [    75,    108,    147,    192],\n",
      "         [   243,    192,    147,    108]],\n",
      "\n",
      "        [[     3,     24,     81,    192],\n",
      "         [   375,    648,   1029,   1536],\n",
      "         [  2187,   1536,   1029,    648]],\n",
      "\n",
      "        [[     3,     48,    243,    768],\n",
      "         [  1875,   3888,   7203,  12288],\n",
      "         [ 19683,  12288,   7203,   3888]],\n",
      "\n",
      "        [[     3,     96,    729,   3072],\n",
      "         [  9375,  23328,  50421,  98304],\n",
      "         [177147,  98304,  50421,  23328]]])\n"
     ]
    }
   ],
   "source": [
    "stacked_test_diff = stacked_test_tensors_2 - stacked_test_tensors\n",
    "print(stacked_test_diff.abs())"
   ]
  },
  {
   "attachments": {},
   "cell_type": "markdown",
   "metadata": {},
   "source": [
    "**MSE** Now the mean square error"
   ]
  },
  {
   "cell_type": "code",
   "execution_count": 180,
   "metadata": {},
   "outputs": [
    {
     "name": "stdout",
     "output_type": "stream",
     "text": [
      "tensor([[[3.0000e+00, 6.0000e+00, 9.0000e+00, 1.2000e+01],\n",
      "         [1.5000e+01, 1.8000e+01, 2.1000e+01, 2.4000e+01],\n",
      "         [2.7000e+01, 2.4000e+01, 2.1000e+01, 1.8000e+01]],\n",
      "\n",
      "        [[3.0000e+00, 1.2000e+01, 2.7000e+01, 4.8000e+01],\n",
      "         [7.5000e+01, 1.0800e+02, 1.4700e+02, 1.9200e+02],\n",
      "         [2.4300e+02, 1.9200e+02, 1.4700e+02, 1.0800e+02]],\n",
      "\n",
      "        [[3.0000e+00, 2.4000e+01, 8.1000e+01, 1.9200e+02],\n",
      "         [3.7500e+02, 6.4800e+02, 1.0290e+03, 1.5360e+03],\n",
      "         [2.1870e+03, 1.5360e+03, 1.0290e+03, 6.4800e+02]],\n",
      "\n",
      "        [[3.0000e+00, 4.8000e+01, 2.4300e+02, 7.6800e+02],\n",
      "         [1.8750e+03, 3.8880e+03, 7.2030e+03, 1.2288e+04],\n",
      "         [1.9683e+04, 1.2288e+04, 7.2030e+03, 3.8880e+03]],\n",
      "\n",
      "        [[3.0000e+00, 9.6000e+01, 7.2900e+02, 3.0720e+03],\n",
      "         [9.3750e+03, 2.3328e+04, 5.0421e+04, 9.8304e+04],\n",
      "         [1.7715e+05, 9.8304e+04, 5.0421e+04, 2.3328e+04]]])\n",
      "hello\n"
     ]
    }
   ],
   "source": [
    "stacked_test_squared = ((stacked_test_tensors_2 - stacked_test_tensors)**2).sqrt()\n",
    "print(torch.round(stacked_test_squared, decimals=1))\n",
    "print('hello')"
   ]
  },
  {
   "attachments": {},
   "cell_type": "markdown",
   "metadata": {},
   "source": [
    "Alright not quite the output I was looking for, but I got the gist"
   ]
  },
  {
   "attachments": {},
   "cell_type": "markdown",
   "metadata": {},
   "source": [
    "*** "
   ]
  },
  {
   "attachments": {},
   "cell_type": "markdown",
   "metadata": {},
   "source": [
    "#### RESUME"
   ]
  },
  {
   "attachments": {},
   "cell_type": "markdown",
   "metadata": {},
   "source": [
    "*** "
   ]
  },
  {
   "attachments": {},
   "cell_type": "markdown",
   "metadata": {},
   "source": [
    "NumPy and PyTorch are similar in that they can both be much faster than most python because their data structures are written in optimized C. \n",
    "\n",
    "PyTorch has to use a single numeric type for all it's components\n",
    "\n",
    "It's tensors also can't be jagged(innermost arrays being different sizes)\n",
    "\n",
    "This is because of how the GPU takes matrix operations\n",
    "\n",
    "PyTorch can also automatically calculate derivatives of operations - which is required for deep learning\n",
    "\n"
   ]
  },
  {
   "cell_type": "markdown",
   "metadata": {},
   "source": [
    "#### Tensor Basics"
   ]
  },
  {
   "attachments": {},
   "cell_type": "markdown",
   "metadata": {},
   "source": [
    "To create an array/tensor, pass a list or list of lists to `array()` or `tensor()`"
   ]
  },
  {
   "cell_type": "code",
   "execution_count": 181,
   "metadata": {},
   "outputs": [],
   "source": [
    "data = [[2,4,6],[5,6,7]]\n",
    "arr = array(data)\n",
    "tns = tensor(data)"
   ]
  },
  {
   "cell_type": "code",
   "execution_count": 182,
   "metadata": {},
   "outputs": [
    {
     "data": {
      "text/plain": [
       "array([[2, 4, 6],\n",
       "       [5, 6, 7]])"
      ]
     },
     "execution_count": 182,
     "metadata": {},
     "output_type": "execute_result"
    }
   ],
   "source": [
    "#numpy\n",
    "arr"
   ]
  },
  {
   "cell_type": "code",
   "execution_count": 183,
   "metadata": {},
   "outputs": [
    {
     "data": {
      "text/plain": [
       "tensor([[2, 4, 6],\n",
       "        [5, 6, 7]])"
      ]
     },
     "execution_count": 183,
     "metadata": {},
     "output_type": "execute_result"
    }
   ],
   "source": [
    "#pytorch\n",
    "tns"
   ]
  },
  {
   "attachments": {},
   "cell_type": "markdown",
   "metadata": {},
   "source": [
    "select row"
   ]
  },
  {
   "cell_type": "code",
   "execution_count": 184,
   "metadata": {},
   "outputs": [
    {
     "data": {
      "text/plain": [
       "tensor([5, 6, 7])"
      ]
     },
     "execution_count": 184,
     "metadata": {},
     "output_type": "execute_result"
    }
   ],
   "source": [
    "tns[1,:]"
   ]
  },
  {
   "cell_type": "code",
   "execution_count": 185,
   "metadata": {},
   "outputs": [
    {
     "data": {
      "text/plain": [
       "tensor([5, 6, 7])"
      ]
     },
     "execution_count": 185,
     "metadata": {},
     "output_type": "execute_result"
    }
   ],
   "source": [
    "#same\n",
    "tns[1]"
   ]
  },
  {
   "cell_type": "code",
   "execution_count": 186,
   "metadata": {},
   "outputs": [
    {
     "data": {
      "text/plain": [
       "tensor([4, 6])"
      ]
     },
     "execution_count": 186,
     "metadata": {},
     "output_type": "execute_result"
    }
   ],
   "source": [
    "tns[:,1]"
   ]
  },
  {
   "cell_type": "code",
   "execution_count": 187,
   "metadata": {},
   "outputs": [
    {
     "data": {
      "text/plain": [
       "tensor([6, 7])"
      ]
     },
     "execution_count": 187,
     "metadata": {},
     "output_type": "execute_result"
    }
   ],
   "source": [
    "tns[1,1:3]"
   ]
  },
  {
   "cell_type": "code",
   "execution_count": 188,
   "metadata": {},
   "outputs": [
    {
     "data": {
      "text/plain": [
       "tensor([[3, 5, 7],\n",
       "        [6, 7, 8]])"
      ]
     },
     "execution_count": 188,
     "metadata": {},
     "output_type": "execute_result"
    }
   ],
   "source": [
    "tns+1"
   ]
  },
  {
   "cell_type": "code",
   "execution_count": 189,
   "metadata": {},
   "outputs": [
    {
     "data": {
      "text/plain": [
       "'torch.LongTensor'"
      ]
     },
     "execution_count": 189,
     "metadata": {},
     "output_type": "execute_result"
    }
   ],
   "source": [
    "tns.type()"
   ]
  },
  {
   "cell_type": "code",
   "execution_count": 190,
   "metadata": {},
   "outputs": [
    {
     "data": {
      "text/plain": [
       "tensor([[ 3.0000,  6.0000,  9.0000],\n",
       "        [ 7.5000,  9.0000, 10.5000]])"
      ]
     },
     "execution_count": 190,
     "metadata": {},
     "output_type": "execute_result"
    }
   ],
   "source": [
    "tns*1.5"
   ]
  },
  {
   "attachments": {},
   "cell_type": "markdown",
   "metadata": {},
   "source": [
    "*** "
   ]
  },
  {
   "attachments": {},
   "cell_type": "markdown",
   "metadata": {},
   "source": [
    "## Computing Metrics Using Broadcasting"
   ]
  },
  {
   "attachments": {},
   "cell_type": "markdown",
   "metadata": {},
   "source": [
    "*** "
   ]
  },
  {
   "attachments": {},
   "cell_type": "markdown",
   "metadata": {},
   "source": [
    "In practice use *accuracy* as the metric for classification models"
   ]
  },
  {
   "attachments": {},
   "cell_type": "markdown",
   "metadata": {},
   "source": [
    "Calculate *accuracy* metric over a *validation set* to prevent overfitting\n",
    "\n",
    "Not a huge risk here, but going to use a validation set to follow normal practices and to be ready for second try"
   ]
  },
  {
   "attachments": {},
   "cell_type": "markdown",
   "metadata": {},
   "source": [
    "**Below**<br>\n",
    "- iterate over and open all images in the validation set directories\n",
    "- stack tensors\n",
    "- convert to float between 0 and 1 and reassign\n",
    "- output shape of resulting tensors"
   ]
  },
  {
   "cell_type": "code",
   "execution_count": 191,
   "metadata": {},
   "outputs": [
    {
     "data": {
      "text/plain": [
       "(torch.Size([1010, 28, 28]), torch.Size([1028, 28, 28]))"
      ]
     },
     "execution_count": 191,
     "metadata": {},
     "output_type": "execute_result"
    }
   ],
   "source": [
    "valid_3_tens = torch.stack([tensor(Image.open(o))\n",
    "                            for o in (path/'valid'/'3').ls()])\n",
    "valid_3_tens = valid_3_tens.float()/255\n",
    "\n",
    "valid_7_tens = torch.stack([tensor(Image.open(o))\n",
    "                            for o in (path/'valid'/'7').ls()])\n",
    "valid_7_tens = valid_7_tens.float()/255\n",
    "\n",
    "valid_3_tens.shape, valid_7_tens.shape"
   ]
  },
  {
   "attachments": {},
   "cell_type": "markdown",
   "metadata": {},
   "source": [
    "You should be checking shapes as you go"
   ]
  },
  {
   "attachments": {},
   "cell_type": "markdown",
   "metadata": {},
   "source": [
    "We want to create a function called `is_3` that will decide if an image is a 3 or a 7.\n",
    "\n",
    "It will decide which of the two ideal digits the image is closer to\n",
    "\n",
    "We need to define distance and calculate it"
   ]
  },
  {
   "attachments": {},
   "cell_type": "markdown",
   "metadata": {},
   "source": [
    "Calc mean abs error below\n",
    "- define function that takes 2 parameters\n",
    "- return average of absolute values of parameter difference\n",
    "- pass `a_3` sample image and `mean3` ideal image to function"
   ]
  },
  {
   "cell_type": "code",
   "execution_count": 192,
   "metadata": {},
   "outputs": [
    {
     "data": {
      "text/plain": [
       "tensor(0.1114)"
      ]
     },
     "execution_count": 192,
     "metadata": {},
     "output_type": "execute_result"
    }
   ],
   "source": [
    "def mnist_distance(a,b): return (a-b).abs().mean((-1,-2))\n",
    "mnist_distance(a_3, mean3)"
   ]
  },
  {
   "attachments": {},
   "cell_type": "markdown",
   "metadata": {},
   "source": [
    "Both are single image tensors with a shape of `[28x28]`"
   ]
  },
  {
   "attachments": {},
   "cell_type": "markdown",
   "metadata": {},
   "source": [
    "To calculate overall accuracy, we need to extrapolate to calculate the distance for *every* image in the validation set\n",
    "\n",
    "A loop could be used to go through every single-image tensor that are stacked in the validation set `valid_3_tens`, which is 1010 images, but that's not as efficient "
   ]
  },
  {
   "attachments": {},
   "cell_type": "markdown",
   "metadata": {},
   "source": [
    "When we take the distance function used for comparing single images but pass it our whole validation(`valid_3_tens`) set tensor stack:"
   ]
  },
  {
   "cell_type": "code",
   "execution_count": 193,
   "metadata": {},
   "outputs": [
    {
     "data": {
      "text/plain": [
       "(tensor([0.1488, 0.1145, 0.1158,  ..., 0.1129, 0.1419, 0.1669]),\n",
       " torch.Size([1010]))"
      ]
     },
     "execution_count": 193,
     "metadata": {},
     "output_type": "execute_result"
    }
   ],
   "source": [
    "valid_3_dist = mnist_distance(valid_3_tens, mean3)\n",
    "valid_3_dist, valid_3_dist.shape"
   ]
  },
  {
   "attachments": {},
   "cell_type": "markdown",
   "metadata": {},
   "source": [
    "Even though the shapes don't match, it returns the distance of every single image as a vector(rank-1 tensor)"
   ]
  },
  {
   "attachments": {},
   "cell_type": "markdown",
   "metadata": {},
   "source": [
    "How does it do this?\n",
    "- When pytorch tries to perform a simple subtraction between two tensors of different ranks, it uses **broadcasting**\n",
    "- That is, it automatically expands the tensor with the smaller rank to have the same size as the one with the larger rank\n",
    "- This makes tensor code much easier to write"
   ]
  },
  {
   "attachments": {},
   "cell_type": "markdown",
   "metadata": {},
   "source": [
    "After broadcasting, pytorch applies usual logic to tensors of the same rank"
   ]
  },
  {
   "cell_type": "code",
   "execution_count": 194,
   "metadata": {},
   "outputs": [
    {
     "data": {
      "text/plain": [
       "tensor([4, 5, 8])"
      ]
     },
     "execution_count": 194,
     "metadata": {},
     "output_type": "execute_result"
    }
   ],
   "source": [
    "tensor([3,4,7]) + tensor(1)"
   ]
  },
  {
   "cell_type": "code",
   "execution_count": 195,
   "metadata": {},
   "outputs": [
    {
     "data": {
      "text/plain": [
       "tensor([4, 5, 8])"
      ]
     },
     "execution_count": 195,
     "metadata": {},
     "output_type": "execute_result"
    }
   ],
   "source": [
    "tensor([3,4,7]) + tensor([1])"
   ]
  },
  {
   "attachments": {},
   "cell_type": "markdown",
   "metadata": {},
   "source": [
    "So pytorch treats `mean3`, a rank-2 tensor of a single image as 1010 copies of itself, then subtracts each from the validation set"
   ]
  },
  {
   "attachments": {},
   "cell_type": "markdown",
   "metadata": {},
   "source": [
    "*** \n"
   ]
  },
  {
   "attachments": {},
   "cell_type": "markdown",
   "metadata": {},
   "source": [
    "#### QUESTION<br>\n",
    "What shape would we expect the above `mean3` tensor to have?\n",
    "- Well, what shape is `mean3`?\n"
   ]
  },
  {
   "cell_type": "code",
   "execution_count": 196,
   "metadata": {},
   "outputs": [
    {
     "data": {
      "text/plain": [
       "torch.Size([28, 28])"
      ]
     },
     "execution_count": 196,
     "metadata": {},
     "output_type": "execute_result"
    }
   ],
   "source": [
    "mean3.shape"
   ]
  },
  {
   "attachments": {},
   "cell_type": "markdown",
   "metadata": {},
   "source": [
    "It would have to be the same shape as the target to work. What is the target?"
   ]
  },
  {
   "cell_type": "code",
   "execution_count": 197,
   "metadata": {},
   "outputs": [
    {
     "data": {
      "text/plain": [
       "torch.Size([1010, 28, 28])"
      ]
     },
     "execution_count": 197,
     "metadata": {},
     "output_type": "execute_result"
    }
   ],
   "source": [
    "valid_3_tens.shape"
   ]
  },
  {
   "attachments": {},
   "cell_type": "markdown",
   "metadata": {},
   "source": [
    "Ok so guessing they're the same at [1010, 28, 28]"
   ]
  },
  {
   "attachments": {},
   "cell_type": "markdown",
   "metadata": {},
   "source": [
    "Correct!"
   ]
  },
  {
   "cell_type": "markdown",
   "metadata": {},
   "source": [
    "***"
   ]
  },
  {
   "cell_type": "code",
   "execution_count": 198,
   "metadata": {},
   "outputs": [
    {
     "data": {
      "text/plain": [
       "torch.Size([1010, 28, 28])"
      ]
     },
     "execution_count": 198,
     "metadata": {},
     "output_type": "execute_result"
    }
   ],
   "source": [
    "(valid_3_tens-mean3).shape"
   ]
  },
  {
   "attachments": {},
   "cell_type": "markdown",
   "metadata": {},
   "source": [
    "Worth noting - \n",
    "- Pytorch doesn't actually copy `mean3` 1010 times, it pretends it were a tensor of that shape but doesn't allocate extra memory\n",
    "- Does the whole calculation in C on the GPU, thousands to millions of times faster than pure python(upper is GPU)\n"
   ]
  },
  {
   "attachments": {},
   "cell_type": "markdown",
   "metadata": {},
   "source": [
    "This is true for **ALL BROADCASTING AND ELEMENTWISE OPERATIONS AND FUNCTIONS DONE IN PYTORCH** \n",
    "#### IT'S THE MOST IMPORTANT TECHNIQUE FOR YOU TO KNOW TO CREATE EFFICIENT PYTORCH CODE"
   ]
  },
  {
   "attachments": {},
   "cell_type": "markdown",
   "metadata": {},
   "source": [
    "Our function is applying `abs()` elementwise - that is to each element in the tensor stack\n",
    "\n",
    "So it returns 1010 matrices of abs values"
   ]
  },
  {
   "attachments": {},
   "cell_type": "markdown",
   "metadata": {},
   "source": [
    "The `mean((-1,-2))` - -1,-2 represents a range of axes\n",
    "- -1 being the last element\n",
    "- -2 refers to the second to last\n",
    "- So in this case we're getting the last two axes of the tensor\n"
   ]
  },
  {
   "attachments": {},
   "cell_type": "markdown",
   "metadata": {},
   "source": [
    "Why?"
   ]
  },
  {
   "cell_type": "code",
   "execution_count": 199,
   "metadata": {},
   "outputs": [
    {
     "data": {
      "text/plain": [
       "torch.Size([1010, 28, 28])"
      ]
     },
     "execution_count": 199,
     "metadata": {},
     "output_type": "execute_result"
    }
   ],
   "source": [
    "valid_3_tens.shape"
   ]
  },
  {
   "attachments": {},
   "cell_type": "markdown",
   "metadata": {},
   "source": [
    "If we look at the shape above, the last element and second to last elements are the ones we want, the \"x & y\" of this basically\n",
    "\n",
    "If we averaged the number of pics - it probably wouldn't work out so well\n",
    "\n",
    "After taking the mean we're leftover with just [1010] as our final size \n",
    "\n",
    "For every image we averaged the intensity of all the pixels in that image"
   ]
  },
  {
   "attachments": {},
   "cell_type": "markdown",
   "metadata": {},
   "source": [
    "We're going to use our function below to\n",
    "- pass a variable(x)\n",
    "- check that the distance between (x and mean3) is less than (x and mean 7)\n",
    "- so returning a boolean based on whether that condition passes for each x"
   ]
  },
  {
   "cell_type": "code",
   "execution_count": 200,
   "metadata": {},
   "outputs": [],
   "source": [
    "def is_3(x): return mnist_distance(x, mean3) < mnist_distance(x, mean7)"
   ]
  },
  {
   "attachments": {},
   "cell_type": "markdown",
   "metadata": {},
   "source": [
    "Testing on example case"
   ]
  },
  {
   "cell_type": "code",
   "execution_count": 201,
   "metadata": {},
   "outputs": [
    {
     "name": "stdout",
     "output_type": "stream",
     "text": [
      "tensor(True)\n"
     ]
    }
   ],
   "source": [
    "print(is_3(a_3))"
   ]
  },
  {
   "attachments": {},
   "cell_type": "markdown",
   "metadata": {},
   "source": [
    "Interesting - it returns `True` in a tensor"
   ]
  },
  {
   "cell_type": "code",
   "execution_count": 202,
   "metadata": {},
   "outputs": [
    {
     "data": {
      "text/plain": [
       "(tensor(True), tensor(1.))"
      ]
     },
     "execution_count": 202,
     "metadata": {},
     "output_type": "execute_result"
    }
   ],
   "source": [
    "is_3(a_3), is_3(a_3).float()"
   ]
  },
  {
   "attachments": {},
   "cell_type": "markdown",
   "metadata": {},
   "source": [
    "Ah ok, there we go, True and False as binary 1 and 0    "
   ]
  },
  {
   "attachments": {},
   "cell_type": "markdown",
   "metadata": {},
   "source": [
    "Now to test it on the validation set"
   ]
  },
  {
   "cell_type": "code",
   "execution_count": 203,
   "metadata": {},
   "outputs": [
    {
     "data": {
      "text/plain": [
       "tensor([True, True, True,  ..., True, True, True])"
      ]
     },
     "execution_count": 203,
     "metadata": {},
     "output_type": "execute_result"
    }
   ],
   "source": [
    "is_3(valid_3_tens)"
   ]
  },
  {
   "attachments": {},
   "cell_type": "markdown",
   "metadata": {},
   "source": [
    "Now calculate the accuracy for each of the 3s and 7s by taking the average of that function for all 3s and inverse it for all 7s"
   ]
  },
  {
   "cell_type": "code",
   "execution_count": 204,
   "metadata": {},
   "outputs": [
    {
     "data": {
      "text/plain": [
       "(tensor(0.9168), tensor(0.9854), tensor(0.9511))"
      ]
     },
     "execution_count": 204,
     "metadata": {},
     "output_type": "execute_result"
    }
   ],
   "source": [
    "accuracy_3s = is_3(valid_3_tens).float().mean()\n",
    "accuracy_7s = 1-is_3(valid_7_tens).float().mean()\n",
    "\n",
    "accuracy_3s, accuracy_7s, (accuracy_3s+accuracy_7s)/2"
   ]
  },
  {
   "cell_type": "markdown",
   "metadata": {},
   "source": [
    "Great - above 90% accuracy "
   ]
  },
  {
   "attachments": {},
   "cell_type": "markdown",
   "metadata": {},
   "source": [
    "*** "
   ]
  },
  {
   "attachments": {},
   "cell_type": "markdown",
   "metadata": {},
   "source": [
    "## Stochastic Gradient Descent (SGD)"
   ]
  },
  {
   "attachments": {},
   "cell_type": "markdown",
   "metadata": {},
   "source": [
    "We have to make our model learn from it's experience - Represent it the way that Arthur Samuel described it. \n",
    "\n",
    "Instead of trying to find a similarity between an image and an \"ideal image\" we could\n",
    "- look at each pixel\n",
    "- come up with a set of weights for each one\n",
    "- highest weights associated with pixels most likely to be black for a particular category\n",
    "\n",
    "ex. Low right pixels would be low for a 7, higher for an 8\n",
    "\n",
    "This can be represented as a function and set of weight values for each possible category \n",
    "\n",
    "ex. Probability of being number 8 below:"
   ]
  },
  {
   "attachments": {},
   "cell_type": "markdown",
   "metadata": {},
   "source": [
    "- create a function that takes 2 parameters, x - image as vector, w - vector\n",
    "- multiply the image tensor by the vector tensor\n",
    "- sum of all items in tensors"
   ]
  },
  {
   "cell_type": "code",
   "execution_count": 205,
   "metadata": {},
   "outputs": [
    {
     "data": {
      "text/plain": [
       "tensor(434)"
      ]
     },
     "execution_count": 205,
     "metadata": {},
     "output_type": "execute_result"
    }
   ],
   "source": [
    "(test_tensor*test_tensor).sum()"
   ]
  },
  {
   "cell_type": "code",
   "execution_count": 206,
   "metadata": {},
   "outputs": [],
   "source": [
    "def pr_eight(x,w): return (x*w).sum()"
   ]
  },
  {
   "attachments": {},
   "cell_type": "markdown",
   "metadata": {},
   "source": [
    "Need to find a way to auto-update weights and make better until they're as good as we can make them"
   ]
  },
  {
   "attachments": {},
   "cell_type": "markdown",
   "metadata": {},
   "source": [
    "Want to find specific values for vector `w` that causes the result of our function to be high for numbers that are actual 8s, and low for those not.\n",
    "\n",
    "Finding best vector `w` is best way to find best function for finding 8s - currently limited by not using a deep neural network - will add later"
   ]
  },
  {
   "attachments": {},
   "cell_type": "markdown",
   "metadata": {},
   "source": [
    "Steps to take:\n",
    "1. Initialize the weights\n",
    "2. For each image, use weights to *predict* if it appears 3 or 7\n",
    "3. Based on predictions, calculate how good model is (*loss*)\n",
    "4. Calc. *gradient* - which measures for each weight how changing that weight would change the loss\n",
    "5. *Step*, aka change, all the weights based on that calculation\n",
    "6. goto 2\n",
    "7. Iterate until we decide to stop training - due to model performance or time constraints\n",
    "\n"
   ]
  },
  {
   "attachments": {},
   "cell_type": "markdown",
   "metadata": {},
   "source": [
    "These seven steps are key to training all deep learning models"
   ]
  },
  {
   "cell_type": "code",
   "execution_count": 207,
   "metadata": {},
   "outputs": [
    {
     "data": {
      "image/svg+xml": "<?xml version=\"1.0\" encoding=\"UTF-8\" standalone=\"no\"?>\n<!DOCTYPE svg PUBLIC \"-//W3C//DTD SVG 1.1//EN\"\n \"http://www.w3.org/Graphics/SVG/1.1/DTD/svg11.dtd\">\n<!-- Generated by graphviz version 7.0.6 (20230107.1202)\n -->\n<!-- Title: G Pages: 1 -->\n<svg width=\"661pt\" height=\"78pt\"\n viewBox=\"0.00 0.00 660.87 78.00\" xmlns=\"http://www.w3.org/2000/svg\" xmlns:xlink=\"http://www.w3.org/1999/xlink\">\n<g id=\"graph0\" class=\"graph\" transform=\"scale(1 1) rotate(0) translate(4 74)\">\n<title>G</title>\n<polygon fill=\"white\" stroke=\"none\" points=\"-4,4 -4,-74 656.87,-74 656.87,4 -4,4\"/>\n<!-- init -->\n<g id=\"node1\" class=\"node\">\n<title>init</title>\n<ellipse fill=\"none\" stroke=\"black\" cx=\"27\" cy=\"-18\" rx=\"27\" ry=\"18\"/>\n<text text-anchor=\"middle\" x=\"27\" y=\"-14.3\" font-family=\"Times,serif\" font-size=\"14.00\">init</text>\n</g>\n<!-- predict -->\n<g id=\"node2\" class=\"node\">\n<title>predict</title>\n<ellipse fill=\"none\" stroke=\"black\" cx=\"135.2\" cy=\"-18\" rx=\"44.39\" ry=\"18\"/>\n<text text-anchor=\"middle\" x=\"135.2\" y=\"-14.3\" font-family=\"Times,serif\" font-size=\"14.00\">predict</text>\n</g>\n<!-- init&#45;&gt;predict -->\n<g id=\"edge1\" class=\"edge\">\n<title>init&#45;&gt;predict</title>\n<path fill=\"none\" stroke=\"black\" d=\"M54.25,-18C61.85,-18 70.45,-18 79.12,-18\"/>\n<polygon fill=\"black\" stroke=\"black\" points=\"78.96,-21.5 88.96,-18 78.96,-14.5 78.96,-21.5\"/>\n</g>\n<!-- loss -->\n<g id=\"node3\" class=\"node\">\n<title>loss</title>\n<ellipse fill=\"none\" stroke=\"black\" cx=\"244.99\" cy=\"-52\" rx=\"28.7\" ry=\"18\"/>\n<text text-anchor=\"middle\" x=\"244.99\" y=\"-48.3\" font-family=\"Times,serif\" font-size=\"14.00\">loss</text>\n</g>\n<!-- predict&#45;&gt;loss -->\n<g id=\"edge2\" class=\"edge\">\n<title>predict&#45;&gt;loss</title>\n<path fill=\"none\" stroke=\"black\" d=\"M171.19,-29.04C182.93,-32.74 196.04,-36.88 207.87,-40.61\"/>\n<polygon fill=\"black\" stroke=\"black\" points=\"206.69,-43.9 217.28,-43.58 208.8,-37.23 206.69,-43.9\"/>\n</g>\n<!-- gradient -->\n<g id=\"node4\" class=\"node\">\n<title>gradient</title>\n<ellipse fill=\"none\" stroke=\"black\" cx=\"406.63\" cy=\"-52\" rx=\"50.09\" ry=\"18\"/>\n<text text-anchor=\"middle\" x=\"406.63\" y=\"-48.3\" font-family=\"Times,serif\" font-size=\"14.00\">gradient</text>\n</g>\n<!-- loss&#45;&gt;gradient -->\n<g id=\"edge3\" class=\"edge\">\n<title>loss&#45;&gt;gradient</title>\n<path fill=\"none\" stroke=\"black\" d=\"M274.16,-52C293.71,-52 320.51,-52 344.81,-52\"/>\n<polygon fill=\"black\" stroke=\"black\" points=\"344.61,-55.5 354.61,-52 344.61,-48.5 344.61,-55.5\"/>\n</g>\n<!-- step -->\n<g id=\"node5\" class=\"node\">\n<title>step</title>\n<ellipse fill=\"none\" stroke=\"black\" cx=\"524.23\" cy=\"-18\" rx=\"30.59\" ry=\"18\"/>\n<text text-anchor=\"middle\" x=\"524.23\" y=\"-14.3\" font-family=\"Times,serif\" font-size=\"14.00\">step</text>\n</g>\n<!-- gradient&#45;&gt;step -->\n<g id=\"edge4\" class=\"edge\">\n<title>gradient&#45;&gt;step</title>\n<path fill=\"none\" stroke=\"black\" d=\"M446.12,-40.68C458.69,-36.98 472.64,-32.88 485.18,-29.19\"/>\n<polygon fill=\"black\" stroke=\"black\" points=\"486.16,-32.55 494.77,-26.37 484.18,-25.84 486.16,-32.55\"/>\n</g>\n<!-- step&#45;&gt;predict -->\n<g id=\"edge6\" class=\"edge\">\n<title>step&#45;&gt;predict</title>\n<path fill=\"none\" stroke=\"black\" d=\"M493.24,-18C428.38,-18 274.25,-18 191.3,-18\"/>\n<polygon fill=\"black\" stroke=\"black\" points=\"191.35,-14.5 181.35,-18 191.35,-21.5 191.35,-14.5\"/>\n<text text-anchor=\"middle\" x=\"315.09\" y=\"-21.8\" font-family=\"Times,serif\" font-size=\"14.00\">repeat</text>\n</g>\n<!-- stop -->\n<g id=\"node6\" class=\"node\">\n<title>stop</title>\n<ellipse fill=\"none\" stroke=\"black\" cx=\"622.32\" cy=\"-18\" rx=\"30.59\" ry=\"18\"/>\n<text text-anchor=\"middle\" x=\"622.32\" y=\"-14.3\" font-family=\"Times,serif\" font-size=\"14.00\">stop</text>\n</g>\n<!-- step&#45;&gt;stop -->\n<g id=\"edge5\" class=\"edge\">\n<title>step&#45;&gt;stop</title>\n<path fill=\"none\" stroke=\"black\" d=\"M555.1,-18C563.06,-18 571.79,-18 580.23,-18\"/>\n<polygon fill=\"black\" stroke=\"black\" points=\"579.95,-21.5 589.95,-18 579.95,-14.5 579.95,-21.5\"/>\n</g>\n</g>\n</svg>\n",
      "text/plain": [
       "<graphviz.sources.Source at 0x7fc3dac3fa90>"
      ]
     },
     "execution_count": 207,
     "metadata": {},
     "output_type": "execute_result"
    }
   ],
   "source": [
    "#id gradient_descent\n",
    "#caption The gradient descent process\n",
    "#alt Graph showing the steps for Gradient Descent\n",
    "gv('''\n",
    "init->predict->loss->gradient->step->stop\n",
    "step->predict[label=repeat]\n",
    "''')"
   ]
  },
  {
   "attachments": {},
   "cell_type": "markdown",
   "metadata": {},
   "source": [
    "Many ways to do each of the seven steps, many details that make a difference\n",
    "\n",
    "But some general guidelines:"
   ]
  },
  {
   "attachments": {},
   "cell_type": "markdown",
   "metadata": {},
   "source": [
    "- Initialize:: Init params to random values\n",
    "- Loss:: *Testingthe effectiveness of current weight in terms of actual performance* Need a function that will return a number that is small if performance is good\n",
    "- Step:: a simple way would be to increment manually to find direction then fiddle with step interval - but that's too slow. Need to use calculus to calculate *gradients* for performance optimization\n",
    "- Stop:: Once epoch number is decided, apply that decision. For digit classifier, we'd keep training until accuracy started getting worse, or we ran out of time"
   ]
  },
  {
   "attachments": {},
   "cell_type": "markdown",
   "metadata": {},
   "source": [
    "Before applying steps, illustrate what they look like in a simpler case below:"
   ]
  },
  {
   "attachments": {},
   "cell_type": "markdown",
   "metadata": {},
   "source": [
    "Define simple function - the quadratic - pretend this is our loss function, and x is a weight param of the function"
   ]
  },
  {
   "cell_type": "code",
   "execution_count": 208,
   "metadata": {},
   "outputs": [],
   "source": [
    "def f(x): return x**2"
   ]
  },
  {
   "cell_type": "code",
   "execution_count": 209,
   "metadata": {},
   "outputs": [
    {
     "data": {
      "image/png": "[encoded data removed]",
      "text/plain": [
       "<Figure size 600x400 with 1 Axes>"
      ]
     },
     "metadata": {},
     "output_type": "display_data"
    }
   ],
   "source": [
    "plot_function(f, 'x', 'x**2')"
   ]
  },
  {
   "attachments": {},
   "cell_type": "markdown",
   "metadata": {},
   "source": [
    "Start by picking random value for param and calc loss value"
   ]
  },
  {
   "cell_type": "code",
   "execution_count": 210,
   "metadata": {},
   "outputs": [
    {
     "data": {
      "text/plain": [
       "<matplotlib.collections.PathCollection at 0x7fc3daa23bb0>"
      ]
     },
     "execution_count": 210,
     "metadata": {},
     "output_type": "execute_result"
    },
    {
     "data": {
      "image/png": "[encoded data removed]",
      "text/plain": [
       "<Figure size 600x400 with 1 Axes>"
      ]
     },
     "metadata": {},
     "output_type": "display_data"
    }
   ],
   "source": [
    "plot_function(f, 'x', 'x**2')\n",
    "plt.scatter(-1.5, f(-1.5), color=\"red\")"
   ]
  },
  {
   "attachments": {},
   "cell_type": "markdown",
   "metadata": {},
   "source": [
    "Then we look and see what happens if we increase or decrease our param by a little - *adjustment*\n",
    "\n",
    "This is just the slope at a particular point"
   ]
  },
  {
   "attachments": {},
   "cell_type": "markdown",
   "metadata": {},
   "source": [
    "<img alt=\"A graph showing the squared function with the slope at one point\" width=\"400\" src=\"images/grad_illustration.svg\"/>"
   ]
  },
  {
   "attachments": {},
   "cell_type": "markdown",
   "metadata": {},
   "source": [
    "We can change our weight just a bit in the direction of the slope, calculate our loss and adjustment again, and repeat this a couple times, eventually leading to our lowest point on the curve "
   ]
  },
  {
   "attachments": {},
   "cell_type": "markdown",
   "metadata": {},
   "source": [
    "<img alt=\"An illustration of gradient descent\" width=\"400\" src=\"images/chapter2_perfect.svg\"/>"
   ]
  },
  {
   "attachments": {},
   "cell_type": "markdown",
   "metadata": {},
   "source": [
    "This is a basic idea that goes back to Newton - we can optimize arbitrary functions in this way. \n",
    "\n",
    "Regardless of how complicated functions become, basic *gradient descent* approach won't change much\n",
    "\n",
    "The only changes we'll see going through the fastai book are some ways to make it faster with better steps"
   ]
  },
  {
   "attachments": {},
   "cell_type": "markdown",
   "metadata": {},
   "source": [
    "*** "
   ]
  },
  {
   "attachments": {},
   "cell_type": "markdown",
   "metadata": {},
   "source": [
    "#### Calculating Gradients"
   ]
  },
  {
   "cell_type": "markdown",
   "metadata": {},
   "source": [
    "*** "
   ]
  },
  {
   "attachments": {},
   "cell_type": "markdown",
   "metadata": {},
   "source": [
    "Calculus will allow us to more rapidly calculate whether the loss is going up or down when we adjust params up or down\n",
    "\n",
    "aka - gradients will tell us how much we have to change each weight to improve the model\n",
    "\n",
    "Need some level of intuition about what derivatives are to proceed "
   ]
  },
  {
   "cell_type": "markdown",
   "metadata": {},
   "source": [
    "*** "
   ]
  },
  {
   "attachments": {},
   "cell_type": "markdown",
   "metadata": {},
   "source": [
    "### Experiment - Calculus brush up"
   ]
  },
  {
   "cell_type": "code",
   "execution_count": 211,
   "metadata": {},
   "outputs": [],
   "source": [
    "def h(x): return 2**(x+1)"
   ]
  },
  {
   "cell_type": "code",
   "execution_count": 212,
   "metadata": {},
   "outputs": [
    {
     "data": {
      "image/png": "[encoded data removed]",
      "text/plain": [
       "<Figure size 600x400 with 1 Axes>"
      ]
     },
     "metadata": {},
     "output_type": "display_data"
    }
   ],
   "source": [
    "plot_function(h, 'x', '2**(x+1)')"
   ]
  },
  {
   "cell_type": "code",
   "execution_count": 213,
   "metadata": {},
   "outputs": [],
   "source": [
    "def g(x): return x/(x**2 + 1)"
   ]
  },
  {
   "cell_type": "code",
   "execution_count": 214,
   "metadata": {},
   "outputs": [
    {
     "name": "stdout",
     "output_type": "stream",
     "text": [
      "0.4 0.3 0.23529411764705882 0.19230769230769232\n",
      "3.5\n",
      "0.2819004524886878\n",
      "0.08054298642533937\n"
     ]
    }
   ],
   "source": [
    "calc_g_y_total = g(2) + g(3) + g(4) + g(5)\n",
    "calc_g_x_total = 2 + 3 + 4 + 5\n",
    "print(g(2), g(3), g(4), g(5))\n",
    "print(calc_g_x_total/4)\n",
    "print(calc_g_y_total/4)\n",
    "print (calc_g_y_total/calc_g_x_total)"
   ]
  },
  {
   "cell_type": "code",
   "execution_count": 215,
   "metadata": {},
   "outputs": [
    {
     "data": {
      "text/plain": [
       "(0.3, 0.14)"
      ]
     },
     "execution_count": 215,
     "metadata": {},
     "output_type": "execute_result"
    }
   ],
   "source": [
    "g(3),g(7)"
   ]
  },
  {
   "attachments": {},
   "cell_type": "markdown",
   "metadata": {},
   "source": [
    "*** \n"
   ]
  },
  {
   "attachments": {},
   "cell_type": "markdown",
   "metadata": {},
   "source": [
    "#### RESUME"
   ]
  },
  {
   "cell_type": "markdown",
   "metadata": {},
   "source": [
    "*** "
   ]
  },
  {
   "attachments": {},
   "cell_type": "markdown",
   "metadata": {},
   "source": [
    "For any function we can calculate it's derivative.\n",
    "\n",
    "Derivative is another function that calculates change instead of value\n",
    "ex. a derivative of a quadratic function at 3 tells us how rapidly the value changes at 3\n",
    "\n",
    "Gradient is defines as rise/run - i.e. change in value of the function % change in the value of the parameter\n",
    "\n",
    "If we know how our function changes, we'll know what we need to do to make is smaller\n",
    "\n",
    "This is the key to machine learning - having a way to change parameters of a function to make it smaller\n",
    "\n",
    "Calculus gives us a computational shortcut in the form of a derivative, which lets us directly calculate the gradients of our functions"
   ]
  },
  {
   "attachments": {},
   "cell_type": "markdown",
   "metadata": {},
   "source": [
    "Our function has lots of weights that we need to adjust\n",
    "\n",
    "We won't get back one number, but many numbers\n",
    "\n",
    "You can calculate the derivative of one weight and treat all others as constant\n",
    "\n",
    "*Then repeat that for every weight*\n",
    "\n"
   ]
  },
  {
   "attachments": {},
   "cell_type": "markdown",
   "metadata": {},
   "source": [
    "PyTorch can automatically compute the derivative of almost any function very quickly "
   ]
  },
  {
   "attachments": {},
   "cell_type": "markdown",
   "metadata": {},
   "source": [
    "example:\n",
    "pick a tensor value we want gradients at\n",
    "\n",
    "- note: *the notation \".\" just means return a float \n",
    "- 2. == float\n",
    "- 2 == integer"
   ]
  },
  {
   "cell_type": "code",
   "execution_count": 216,
   "metadata": {},
   "outputs": [],
   "source": [
    "xt = tensor(3.).requires_grad_()"
   ]
  },
  {
   "attachments": {},
   "cell_type": "markdown",
   "metadata": {},
   "source": [
    "`requires_grad_` is the method that tells it to calc. gradients with respect to the varaible at that value"
   ]
  },
  {
   "attachments": {},
   "cell_type": "markdown",
   "metadata": {},
   "source": [
    "it 'tagging' the variable so that pytorch will remembere to track how to compute gradients of other direct calcs. on that that you'll ask for "
   ]
  },
  {
   "attachments": {},
   "cell_type": "markdown",
   "metadata": {},
   "source": [
    "*fastai syntax and deep learning syntax in general uses \"gradient\" to mean the value of a function's derivative at a specific argument value, it's differen than the math/physics use of the term which just describes another function*\n",
    "\n",
    "Pytorch also focuses on the argument, not the function "
   ]
  },
  {
   "attachments": {},
   "cell_type": "markdown",
   "metadata": {},
   "source": [
    "Calculate our function with that value `xt` from above\n",
    "\n",
    "Output is the value, but also the gradient function it'll use to calc other gradients when needed"
   ]
  },
  {
   "cell_type": "code",
   "execution_count": 217,
   "metadata": {},
   "outputs": [
    {
     "data": {
      "text/plain": [
       "tensor(9., grad_fn=<PowBackward0>)"
      ]
     },
     "execution_count": 217,
     "metadata": {},
     "output_type": "execute_result"
    }
   ],
   "source": [
    "yt = f(xt)\n",
    "yt"
   ]
  },
  {
   "attachments": {},
   "cell_type": "markdown",
   "metadata": {},
   "source": [
    "Now tell pytorch to calculate the gradients of the above `yt` for us"
   ]
  },
  {
   "cell_type": "code",
   "execution_count": 218,
   "metadata": {},
   "outputs": [],
   "source": [
    "yt.backward()"
   ]
  },
  {
   "attachments": {},
   "cell_type": "markdown",
   "metadata": {},
   "source": [
    "**PYTHON SIDEBAR** <br>\n",
    "While I'm thinking about it, functions that need to be called with empty parenthesis are class *instance* methods, have access through the \"self\" parameter and can modify the state of the object they're called \n",
    "\n",
    "functions witout parenthesis are *class* methods, defined at the class level, but don't operate on a specific instance of the class, they don't have access to instance state(self) and usually don't modify it\n",
    "\n",
    "object.method() == instance method\n",
    "class.method == class method\n",
    "\n",
    "*** "
   ]
  },
  {
   "attachments": {},
   "cell_type": "markdown",
   "metadata": {},
   "source": [
    "\"backward\" is *backpropagation* - the name given to the process of calculating the derivative of each layer\n",
    "\n",
    "called the \"backward pass\" of the network vs. the \"forward pass\" where activations are calculated\n",
    "\n",
    "`backward` might more accurately called `calculate_grad`, but we're stuck with this jargon"
   ]
  },
  {
   "attachments": {},
   "cell_type": "markdown",
   "metadata": {},
   "source": [
    "- View the gradients by checking the grad attribute of our tensor"
   ]
  },
  {
   "cell_type": "code",
   "execution_count": 219,
   "metadata": {},
   "outputs": [
    {
     "data": {
      "text/plain": [
       "tensor(6.)"
      ]
     },
     "execution_count": 219,
     "metadata": {},
     "output_type": "execute_result"
    }
   ],
   "source": [
    "xt.grad"
   ]
  },
  {
   "attachments": {},
   "cell_type": "markdown",
   "metadata": {},
   "source": [
    "- Repeat preceding steps, but with a vector argument for the function"
   ]
  },
  {
   "cell_type": "code",
   "execution_count": 220,
   "metadata": {},
   "outputs": [
    {
     "data": {
      "text/plain": [
       "tensor([ 3.,  4., 10.], requires_grad=True)"
      ]
     },
     "execution_count": 220,
     "metadata": {},
     "output_type": "execute_result"
    }
   ],
   "source": [
    "xt = tensor([3.,4.,10.]).requires_grad_()\n",
    "xt"
   ]
  },
  {
   "attachments": {},
   "cell_type": "markdown",
   "metadata": {},
   "source": [
    "- Add sum to our function so it can take a vector(rank-1 tensor) and return a scalar(rank-0 tensor)"
   ]
  },
  {
   "cell_type": "code",
   "execution_count": 221,
   "metadata": {},
   "outputs": [
    {
     "data": {
      "text/plain": [
       "tensor(125., grad_fn=<SumBackward0>)"
      ]
     },
     "execution_count": 221,
     "metadata": {},
     "output_type": "execute_result"
    }
   ],
   "source": [
    "def f(x): return (x**2).sum()\n",
    "\n",
    "yt = f(xt)\n",
    "yt"
   ]
  },
  {
   "attachments": {},
   "cell_type": "markdown",
   "metadata": {},
   "source": [
    "- xt is our 1 dimensional tensor\n",
    "- we've run requires_grad_() on it to give us the derivative and formula for the derivative going forward\n",
    "- using `backward()` to calculate the derivative of each layer by passing that gradient function backward\n",
    "- then checking the `xt` \n"
   ]
  },
  {
   "cell_type": "code",
   "execution_count": 222,
   "metadata": {},
   "outputs": [
    {
     "data": {
      "text/plain": [
       "tensor([ 6.,  8., 20.])"
      ]
     },
     "execution_count": 222,
     "metadata": {},
     "output_type": "execute_result"
    }
   ],
   "source": [
    "yt.backward()\n",
    "xt.grad\n",
    "\n"
   ]
  },
  {
   "cell_type": "code",
   "execution_count": 223,
   "metadata": {},
   "outputs": [
    {
     "data": {
      "text/plain": [
       "tensor([ 3.,  4., 10.], requires_grad=True)"
      ]
     },
     "execution_count": 223,
     "metadata": {},
     "output_type": "execute_result"
    }
   ],
   "source": [
    "xt"
   ]
  },
  {
   "attachments": {},
   "cell_type": "markdown",
   "metadata": {},
   "source": [
    "#### Stepping with a learning rate"
   ]
  },
  {
   "attachments": {},
   "cell_type": "markdown",
   "metadata": {},
   "source": [
    "Stepping is mulitplying the gradient by some small number called the *learning Rate*\n",
    "\n",
    "- Learning rate is often between .001 and .1, could be anything though\n",
    "- Most of the time, you just try a few see what results in a better trained model\n",
    "- There's a *learning Rate Finder* that we'll get to later"
   ]
  },
  {
   "attachments": {},
   "cell_type": "markdown",
   "metadata": {},
   "source": [
    "Once a learning rate is chosen you adjust parameters with a simple function:\n",
    "\n",
    "```\n",
    "w -= gradient(w) * lr\n",
    "```"
   ]
  },
  {
   "attachments": {},
   "cell_type": "markdown",
   "metadata": {},
   "source": [
    "- This is *stepping* parameters, using an *optimizer step*\n",
    "- We *subtract* the `gradient * lr` from the parameter to update it. \n",
    "- This allows adjustment in the direction of the slope by increasing the parameter when slope is negative, and decreasing when positive\n",
    "- All to adjust towards *minimizing loss*\n"
   ]
  },
  {
   "attachments": {},
   "cell_type": "markdown",
   "metadata": {},
   "source": [
    "- Too low of a learning rate means too many steps"
   ]
  },
  {
   "attachments": {},
   "cell_type": "markdown",
   "metadata": {},
   "source": [
    "<img alt=\"An illustration of gradient descent with a LR too low\" width=\"400\" caption=\"Gradient descent with low LR\" src=\"images/chapter2_small.svg\" id=\"descent_small\"/>"
   ]
  },
  {
   "attachments": {},
   "cell_type": "markdown",
   "metadata": {},
   "source": [
    "- Too high is even worse, overshooting "
   ]
  },
  {
   "attachments": {},
   "cell_type": "markdown",
   "metadata": {},
   "source": [
    "<img alt=\"An illustration of gradient descent with a LR too high\" width=\"400\" caption=\"Gradient descent with high LR\" src=\"images/chapter2_div.svg\" id=\"descent_div\"/>"
   ]
  },
  {
   "attachments": {},
   "cell_type": "markdown",
   "metadata": {},
   "source": [
    "- If it's too high it may also bounce around instead of diverging"
   ]
  },
  {
   "attachments": {},
   "cell_type": "markdown",
   "metadata": {},
   "source": [
    "<img alt=\"An illustation of gradient descent with a bouncy LR\" width=\"400\" caption=\"Gradient descent with bouncy LR\" src=\"images/chapter2_bouncy.svg\" id=\"descent_bouncy\"/>"
   ]
  },
  {
   "attachments": {},
   "cell_type": "markdown",
   "metadata": {},
   "source": [
    "### End-toEnd SGD Example"
   ]
  },
  {
   "attachments": {},
   "cell_type": "markdown",
   "metadata": {},
   "source": [
    "Looking at SGD example to see how finding a minimum can be used to train a model to fit data better"
   ]
  },
  {
   "attachments": {},
   "cell_type": "markdown",
   "metadata": {},
   "source": [
    "Starting with a simple, synthetic, example model\n",
    "- Measuring the speed of a roller coaster as it goes over a hump\n",
    "- it would be fast, slow, fast again\n",
    "- We want to build a model of that speed changes over time"
   ]
  },
  {
   "attachments": {},
   "cell_type": "markdown",
   "metadata": {},
   "source": [
    "If you measured manually it would look like below:"
   ]
  },
  {
   "cell_type": "code",
   "execution_count": 224,
   "metadata": {},
   "outputs": [
    {
     "data": {
      "text/plain": [
       "tensor([ 0.,  1.,  2.,  3.,  4.,  5.,  6.,  7.,  8.,  9., 10., 11., 12., 13., 14., 15., 16., 17., 18., 19.])"
      ]
     },
     "execution_count": 224,
     "metadata": {},
     "output_type": "execute_result"
    }
   ],
   "source": [
    "time = torch.arange(0,20).float(); time"
   ]
  },
  {
   "attachments": {},
   "cell_type": "markdown",
   "metadata": {},
   "source": [
    "Creating the speed variable\n",
    "- create a tensor of 20 random numbers in standard normal distribution\n",
    "- multiply tensor by 3\n",
    "- multiply .75 x time-9.5 squared + 1"
   ]
  },
  {
   "cell_type": "code",
   "execution_count": 225,
   "metadata": {},
   "outputs": [
    {
     "data": {
      "image/png": "[encoded data removed]",
      "text/plain": [
       "<Figure size 640x480 with 1 Axes>"
      ]
     },
     "metadata": {},
     "output_type": "display_data"
    }
   ],
   "source": [
    "speed = torch.randn(20)*3 + 0.75*(time-9.5)**2 + 1\n",
    "plt.scatter(time, speed);"
   ]
  },
  {
   "attachments": {},
   "cell_type": "markdown",
   "metadata": {},
   "source": [
    "Random noise bits are added since manual measurment isn't precise\n",
    "\n",
    "Which means its not easy to answer the question: What was the coaster's speed?\n",
    "\n",
    "- Using SGD we can try to find a function that matches our observations\n",
    "- We can't consider every possible func., so we'll guess quadratic\n",
    "- i.e. `a*(time**2)+(b*time)+c`\n",
    "- aka `ax**2 + bx + c`"
   ]
  },
  {
   "attachments": {},
   "cell_type": "markdown",
   "metadata": {},
   "source": [
    "Need to distinguish clearly between the funciton's input(time when measuring speed) and its parameters(values that define *which* quadratic we're trying)\n",
    "\n",
    "So:\n",
    "- Collect params in one argument, and in doing so separate the input, t, and the parameters, `params` in the function's signature:"
   ]
  },
  {
   "cell_type": "code",
   "execution_count": 226,
   "metadata": {},
   "outputs": [],
   "source": [
    "def f(t, params):\n",
    "    a,b,c = params\n",
    "    return a*(t**2) + (b*t) + c\n"
   ]
  },
  {
   "attachments": {},
   "cell_type": "markdown",
   "metadata": {},
   "source": [
    "In doing this we're restricting the problem of finding the best imaginable function that exists to finding the best QUADRATIC function.\n",
    "\n",
    "This simplifies the problem, since every quadratic func. is defined in terms of a,b,c\n",
    "\n",
    "So we're trying to find the best values for a,b, and c"
   ]
  },
  {
   "attachments": {},
   "cell_type": "markdown",
   "metadata": {},
   "source": [
    "- If we solve this problem for 3 params of quadratic func., we can apply the same approach for other more complex funcs. with more params, like a neural net\n",
    "\n",
    "- First find params for f"
   ]
  },
  {
   "attachments": {},
   "cell_type": "markdown",
   "metadata": {},
   "source": [
    "We need to define what we mean by 'best'. \n",
    "- we define precisely by using a *loss function*\n",
    "- it will return a value based on a prediction and a target\n",
    "- lower values of the function correspond to \"better\" predictions\n",
    "- IMPORTANT that loss funcs. return *lower* values when predictions are more accurate \n",
    "- This is because the procedure we defined earlier will try to *minimize* the loss\n",
    "- For continuous data, it's common to use *mean squared error* "
   ]
  },
  {
   "attachments": {},
   "cell_type": "markdown",
   "metadata": {},
   "source": [
    "Function:<br>\n",
    "- take 2 arguments, preds and targets\n",
    "- return the (preds-targets**2).meant()\n"
   ]
  },
  {
   "cell_type": "code",
   "execution_count": 227,
   "metadata": {},
   "outputs": [],
   "source": [
    "def mse(preds, targets): return ((preds-targets)**2).mean()"
   ]
  },
  {
   "attachments": {},
   "cell_type": "markdown",
   "metadata": {},
   "source": [
    "**7 Step Process**"
   ]
  },
  {
   "attachments": {},
   "cell_type": "markdown",
   "metadata": {},
   "source": [
    "#### Step 1: Initialize the Parameters"
   ]
  },
  {
   "attachments": {},
   "cell_type": "markdown",
   "metadata": {},
   "source": [
    "Initialize to random value and tell pytorch to track their gradients with `requires_grad_`"
   ]
  },
  {
   "cell_type": "code",
   "execution_count": 228,
   "metadata": {},
   "outputs": [
    {
     "name": "stdout",
     "output_type": "stream",
     "text": [
      "tensor([ 1.9983,  1.7929, -0.0986], requires_grad=True)\n"
     ]
    }
   ],
   "source": [
    "params = torch.randn(3).requires_grad_()\n",
    "print(params)"
   ]
  },
  {
   "attachments": {},
   "cell_type": "markdown",
   "metadata": {},
   "source": [
    "Clone original parameters"
   ]
  },
  {
   "cell_type": "code",
   "execution_count": 229,
   "metadata": {},
   "outputs": [],
   "source": [
    "orig_params = params.clone()"
   ]
  },
  {
   "attachments": {},
   "cell_type": "markdown",
   "metadata": {},
   "source": [
    "#### Step 2: Calculate the Predictions"
   ]
  },
  {
   "attachments": {},
   "cell_type": "markdown",
   "metadata": {},
   "source": [
    "Calculate the predictions"
   ]
  },
  {
   "cell_type": "code",
   "execution_count": 230,
   "metadata": {},
   "outputs": [],
   "source": [
    "preds = f(time, params)"
   ]
  },
  {
   "cell_type": "code",
   "execution_count": 231,
   "metadata": {},
   "outputs": [
    {
     "name": "stdout",
     "output_type": "stream",
     "text": [
      "tensor([ 0.,  1.,  2.,  3.,  4.,  5.,  6.,  7.,  8.,  9., 10., 11., 12., 13., 14., 15., 16., 17., 18., 19.])\n",
      "tensor([ 1.9983,  1.7929, -0.0986], requires_grad=True)\n",
      "tensor([-9.8640e-02,  3.6925e+00,  1.1480e+01,  2.3264e+01,  3.9045e+01,  5.8823e+01,  8.2597e+01,  1.1037e+02,  1.4213e+02,  1.7790e+02,  2.1766e+02,  2.6141e+02,  3.0917e+02,  3.6092e+02,\n",
      "         4.1666e+02,  4.7641e+02,  5.4015e+02,  6.0788e+02,  6.7962e+02,  7.5535e+02], grad_fn=<AddBackward0>)\n"
     ]
    }
   ],
   "source": [
    "print(time)\n",
    "print(params)\n",
    "print(preds)\n"
   ]
  },
  {
   "attachments": {},
   "cell_type": "markdown",
   "metadata": {},
   "source": [
    "Create a small function to show how close our predictions are to our target\n",
    "- if the ax doesn't exist "
   ]
  },
  {
   "cell_type": "code",
   "execution_count": 232,
   "metadata": {},
   "outputs": [],
   "source": [
    "def show_preds(preds, ax=None):\n",
    "    if ax is None: ax=plt.subplots()[1]\n",
    "    ax.scatter(time, speed)\n",
    "    ax.scatter(time, to_np(preds), color='red')\n",
    "    ax.set_ylim(-300,100)\n"
   ]
  },
  {
   "cell_type": "code",
   "execution_count": 233,
   "metadata": {},
   "outputs": [
    {
     "data": {
      "image/png": "[encoded data removed]",
      "text/plain": [
       "<Figure size 640x480 with 1 Axes>"
      ]
     },
     "metadata": {},
     "output_type": "display_data"
    }
   ],
   "source": [
    "show_preds(preds)"
   ]
  },
  {
   "attachments": {},
   "cell_type": "markdown",
   "metadata": {},
   "source": [
    "#### Step 3: Calculate the Loss"
   ]
  },
  {
   "cell_type": "markdown",
   "metadata": {},
   "source": [
    "Calc as follows:\n"
   ]
  },
  {
   "cell_type": "code",
   "execution_count": 234,
   "metadata": {},
   "outputs": [
    {
     "data": {
      "text/plain": [
       "tensor(110953.2500, grad_fn=<MeanBackward0>)"
      ]
     },
     "execution_count": 234,
     "metadata": {},
     "output_type": "execute_result"
    }
   ],
   "source": [
    "loss = mse(preds, speed)\n",
    "loss"
   ]
  },
  {
   "cell_type": "markdown",
   "metadata": {},
   "source": [
    "#### Step 4: Calculate the Gradients"
   ]
  },
  {
   "attachments": {},
   "cell_type": "markdown",
   "metadata": {},
   "source": [
    "- Calc the gradients - aka an approximation of how the parameters need to change"
   ]
  },
  {
   "cell_type": "code",
   "execution_count": 235,
   "metadata": {},
   "outputs": [
    {
     "data": {
      "text/plain": [
       "tensor([111401.5156,   7175.1157,    476.1424])"
      ]
     },
     "execution_count": 235,
     "metadata": {},
     "output_type": "execute_result"
    }
   ],
   "source": [
    "loss.backward()\n",
    "params.grad"
   ]
  },
  {
   "attachments": {},
   "cell_type": "markdown",
   "metadata": {},
   "source": [
    "- Use the gradients to improve parameters\n",
    "- Need to pick a learning rate\n",
    "- For now just use 1e-5 or .000001"
   ]
  },
  {
   "cell_type": "code",
   "execution_count": 236,
   "metadata": {},
   "outputs": [
    {
     "data": {
      "text/plain": [
       "tensor([1.1140, 0.0718, 0.0048])"
      ]
     },
     "execution_count": 236,
     "metadata": {},
     "output_type": "execute_result"
    }
   ],
   "source": [
    "params.grad * 1e-5"
   ]
  },
  {
   "cell_type": "code",
   "execution_count": 237,
   "metadata": {},
   "outputs": [
    {
     "data": {
      "text/plain": [
       "tensor([ 1.9983,  1.7929, -0.0986], requires_grad=True)"
      ]
     },
     "execution_count": 237,
     "metadata": {},
     "output_type": "execute_result"
    }
   ],
   "source": [
    "params"
   ]
  },
  {
   "attachments": {},
   "cell_type": "markdown",
   "metadata": {},
   "source": [
    "#### Step the weights"
   ]
  },
  {
   "attachments": {},
   "cell_type": "markdown",
   "metadata": {},
   "source": [
    "- Need to update the parameters based on the gradients we just calculated:"
   ]
  },
  {
   "cell_type": "code",
   "execution_count": 238,
   "metadata": {},
   "outputs": [],
   "source": [
    "lr = 1e-5\n",
    "params.data -= lr * params.grad.data\n",
    "params.grad = None\n",
    "\n"
   ]
  },
  {
   "attachments": {},
   "cell_type": "markdown",
   "metadata": {},
   "source": [
    "- using `.data` on `params` above returns the tensor without the gradient requirement that's attached\n",
    "- using `.grad.data` returns the gradients associated with the params\n",
    "- assigning `None` to `grad` clears the gradient values and tensor type\n",
    "- *using the chain rule on all of this*"
   ]
  },
  {
   "attachments": {},
   "cell_type": "markdown",
   "metadata": {},
   "source": [
    "Check to see if loss improves:"
   ]
  },
  {
   "cell_type": "code",
   "execution_count": 239,
   "metadata": {},
   "outputs": [
    {
     "data": {
      "text/plain": [
       "tensor(21537.9688, grad_fn=<MeanBackward0>)"
      ]
     },
     "execution_count": 239,
     "metadata": {},
     "output_type": "execute_result"
    }
   ],
   "source": [
    "preds = f(time, params)\n",
    "mse(preds, speed)"
   ]
  },
  {
   "cell_type": "code",
   "execution_count": 240,
   "metadata": {},
   "outputs": [
    {
     "data": {
      "image/png": "[encoded data removed]",
      "text/plain": [
       "<Figure size 640x480 with 1 Axes>"
      ]
     },
     "metadata": {},
     "output_type": "display_data"
    }
   ],
   "source": [
    "show_preds(preds)"
   ]
  },
  {
   "attachments": {},
   "cell_type": "markdown",
   "metadata": {},
   "source": [
    "We need to repeat so we'll bundle into a function that moves a single step"
   ]
  },
  {
   "attachments": {},
   "cell_type": "markdown",
   "metadata": {},
   "source": [
    "- function takes params and prn(which defaults to True)\n",
    "- run our `f` function on time and params, solving quadtratic equation at each `param` and returning a tensor value at each item\n",
    "- calculate our loss with means squared error of our prediction vs observed speed\n",
    "- use *backpropagation* with `.backward()` to calculate the gradients of params, which `requires_grad_()` and is waiting for it\n",
    "- apply our previously defined *learning rate* as an adjustment\n",
    "    - do this by subtracting the `lr` * *gradient* from our *predictions* which we got from our `params`\n",
    "- clear the gradient values and tensor\n",
    "- print the loss unless `prn` is passed a `False` value\n",
    "- return `preds`"
   ]
  },
  {
   "cell_type": "code",
   "execution_count": 241,
   "metadata": {},
   "outputs": [],
   "source": [
    "def apply_step(params, prn=True):\n",
    "    preds = f(time, params)\n",
    "    loss = mse(preds, speed)\n",
    "    loss.backward()\n",
    "    params.data -= lr * params.grad.data\n",
    "    params.grad = None\n",
    "    if prn: print(loss.item())\n",
    "    return preds"
   ]
  },
  {
   "attachments": {},
   "cell_type": "markdown",
   "metadata": {},
   "source": [
    "#### Step 6: Repeat the process"
   ]
  },
  {
   "attachments": {},
   "cell_type": "markdown",
   "metadata": {},
   "source": [
    "Iterate over our function to apply several steps at once"
   ]
  },
  {
   "cell_type": "code",
   "execution_count": 242,
   "metadata": {},
   "outputs": [
    {
     "name": "stdout",
     "output_type": "stream",
     "text": [
      "21537.96875\n",
      "4617.86083984375\n",
      "1416.05078125\n",
      "810.1636962890625\n",
      "695.5045776367188\n",
      "673.8007202148438\n",
      "669.6868896484375\n",
      "668.9017333984375\n",
      "668.7463989257812\n",
      "668.7101440429688\n"
     ]
    }
   ],
   "source": [
    "for i in range(10): apply_step(params)"
   ]
  },
  {
   "attachments": {},
   "cell_type": "markdown",
   "metadata": {},
   "source": [
    "Loss is going down like we hoped for - need to take a look visually"
   ]
  },
  {
   "attachments": {},
   "cell_type": "markdown",
   "metadata": {},
   "source": [
    "Reset our `params` to before we started messing with them "
   ]
  },
  {
   "cell_type": "code",
   "execution_count": 243,
   "metadata": {},
   "outputs": [],
   "source": [
    "params = orig_params.detach().requires_grad_()"
   ]
  },
  {
   "cell_type": "code",
   "execution_count": 244,
   "metadata": {},
   "outputs": [
    {
     "data": {
      "image/png": "[encoded data removed]",
      "text/plain": [
       "<Figure size 1200x300 with 4 Axes>"
      ]
     },
     "metadata": {},
     "output_type": "display_data"
    }
   ],
   "source": [
    "_,axs = plt.subplots(1,4,figsize=(12,3))\n",
    "for ax in axs: show_preds(apply_step(params, False), ax)\n",
    "plt.tight_layout()"
   ]
  },
  {
   "attachments": {},
   "cell_type": "markdown",
   "metadata": {},
   "source": [
    "As we can see above, we're approaching the best possible quadratic function for our data"
   ]
  },
  {
   "attachments": {},
   "cell_type": "markdown",
   "metadata": {},
   "source": [
    "#### Step 7: Stop"
   ]
  },
  {
   "attachments": {},
   "cell_type": "markdown",
   "metadata": {},
   "source": [
    "We decide to stop after 10 epochs arbitrarily\n",
    "- in reality we would watch training and validation losses and our metrics to decide when to stop"
   ]
  },
  {
   "attachments": {},
   "cell_type": "markdown",
   "metadata": {},
   "source": [
    "#### Summarizing Gradient Descent"
   ]
  },
  {
   "cell_type": "code",
   "execution_count": 245,
   "metadata": {},
   "outputs": [
    {
     "data": {
      "image/svg+xml": "<?xml version=\"1.0\" encoding=\"UTF-8\" standalone=\"no\"?>\n<!DOCTYPE svg PUBLIC \"-//W3C//DTD SVG 1.1//EN\"\n \"http://www.w3.org/Graphics/SVG/1.1/DTD/svg11.dtd\">\n<!-- Generated by graphviz version 7.0.6 (20230107.1202)\n -->\n<!-- Title: G Pages: 1 -->\n<svg width=\"661pt\" height=\"78pt\"\n viewBox=\"0.00 0.00 660.87 78.00\" xmlns=\"http://www.w3.org/2000/svg\" xmlns:xlink=\"http://www.w3.org/1999/xlink\">\n<g id=\"graph0\" class=\"graph\" transform=\"scale(1 1) rotate(0) translate(4 74)\">\n<title>G</title>\n<polygon fill=\"white\" stroke=\"none\" points=\"-4,4 -4,-74 656.87,-74 656.87,4 -4,4\"/>\n<!-- init -->\n<g id=\"node1\" class=\"node\">\n<title>init</title>\n<ellipse fill=\"none\" stroke=\"black\" cx=\"27\" cy=\"-18\" rx=\"27\" ry=\"18\"/>\n<text text-anchor=\"middle\" x=\"27\" y=\"-14.3\" font-family=\"Times,serif\" font-size=\"14.00\">init</text>\n</g>\n<!-- predict -->\n<g id=\"node2\" class=\"node\">\n<title>predict</title>\n<ellipse fill=\"none\" stroke=\"black\" cx=\"135.2\" cy=\"-18\" rx=\"44.39\" ry=\"18\"/>\n<text text-anchor=\"middle\" x=\"135.2\" y=\"-14.3\" font-family=\"Times,serif\" font-size=\"14.00\">predict</text>\n</g>\n<!-- init&#45;&gt;predict -->\n<g id=\"edge1\" class=\"edge\">\n<title>init&#45;&gt;predict</title>\n<path fill=\"none\" stroke=\"black\" d=\"M54.25,-18C61.85,-18 70.45,-18 79.12,-18\"/>\n<polygon fill=\"black\" stroke=\"black\" points=\"78.96,-21.5 88.96,-18 78.96,-14.5 78.96,-21.5\"/>\n</g>\n<!-- loss -->\n<g id=\"node3\" class=\"node\">\n<title>loss</title>\n<ellipse fill=\"none\" stroke=\"black\" cx=\"244.99\" cy=\"-52\" rx=\"28.7\" ry=\"18\"/>\n<text text-anchor=\"middle\" x=\"244.99\" y=\"-48.3\" font-family=\"Times,serif\" font-size=\"14.00\">loss</text>\n</g>\n<!-- predict&#45;&gt;loss -->\n<g id=\"edge2\" class=\"edge\">\n<title>predict&#45;&gt;loss</title>\n<path fill=\"none\" stroke=\"black\" d=\"M171.19,-29.04C182.93,-32.74 196.04,-36.88 207.87,-40.61\"/>\n<polygon fill=\"black\" stroke=\"black\" points=\"206.69,-43.9 217.28,-43.58 208.8,-37.23 206.69,-43.9\"/>\n</g>\n<!-- gradient -->\n<g id=\"node4\" class=\"node\">\n<title>gradient</title>\n<ellipse fill=\"none\" stroke=\"black\" cx=\"406.63\" cy=\"-52\" rx=\"50.09\" ry=\"18\"/>\n<text text-anchor=\"middle\" x=\"406.63\" y=\"-48.3\" font-family=\"Times,serif\" font-size=\"14.00\">gradient</text>\n</g>\n<!-- loss&#45;&gt;gradient -->\n<g id=\"edge3\" class=\"edge\">\n<title>loss&#45;&gt;gradient</title>\n<path fill=\"none\" stroke=\"black\" d=\"M274.16,-52C293.71,-52 320.51,-52 344.81,-52\"/>\n<polygon fill=\"black\" stroke=\"black\" points=\"344.61,-55.5 354.61,-52 344.61,-48.5 344.61,-55.5\"/>\n</g>\n<!-- step -->\n<g id=\"node5\" class=\"node\">\n<title>step</title>\n<ellipse fill=\"none\" stroke=\"black\" cx=\"524.23\" cy=\"-18\" rx=\"30.59\" ry=\"18\"/>\n<text text-anchor=\"middle\" x=\"524.23\" y=\"-14.3\" font-family=\"Times,serif\" font-size=\"14.00\">step</text>\n</g>\n<!-- gradient&#45;&gt;step -->\n<g id=\"edge4\" class=\"edge\">\n<title>gradient&#45;&gt;step</title>\n<path fill=\"none\" stroke=\"black\" d=\"M446.12,-40.68C458.69,-36.98 472.64,-32.88 485.18,-29.19\"/>\n<polygon fill=\"black\" stroke=\"black\" points=\"486.16,-32.55 494.77,-26.37 484.18,-25.84 486.16,-32.55\"/>\n</g>\n<!-- step&#45;&gt;predict -->\n<g id=\"edge6\" class=\"edge\">\n<title>step&#45;&gt;predict</title>\n<path fill=\"none\" stroke=\"black\" d=\"M493.24,-18C428.38,-18 274.25,-18 191.3,-18\"/>\n<polygon fill=\"black\" stroke=\"black\" points=\"191.35,-14.5 181.35,-18 191.35,-21.5 191.35,-14.5\"/>\n<text text-anchor=\"middle\" x=\"315.09\" y=\"-21.8\" font-family=\"Times,serif\" font-size=\"14.00\">repeat</text>\n</g>\n<!-- stop -->\n<g id=\"node6\" class=\"node\">\n<title>stop</title>\n<ellipse fill=\"none\" stroke=\"black\" cx=\"622.32\" cy=\"-18\" rx=\"30.59\" ry=\"18\"/>\n<text text-anchor=\"middle\" x=\"622.32\" y=\"-14.3\" font-family=\"Times,serif\" font-size=\"14.00\">stop</text>\n</g>\n<!-- step&#45;&gt;stop -->\n<g id=\"edge5\" class=\"edge\">\n<title>step&#45;&gt;stop</title>\n<path fill=\"none\" stroke=\"black\" d=\"M555.1,-18C563.06,-18 571.79,-18 580.23,-18\"/>\n<polygon fill=\"black\" stroke=\"black\" points=\"579.95,-21.5 589.95,-18 579.95,-14.5 579.95,-21.5\"/>\n</g>\n</g>\n</svg>\n",
      "text/plain": [
       "<graphviz.sources.Source at 0x7fc3da052b00>"
      ]
     },
     "execution_count": 245,
     "metadata": {},
     "output_type": "execute_result"
    }
   ],
   "source": [
    "#hide_input\n",
    "#id gradient_descent\n",
    "#caption The gradient descent process\n",
    "#alt Graph showing the steps for Gradient Descent\n",
    "gv('''\n",
    "init->predict->loss->gradient->step->stop\n",
    "step->predict[label=repeat]\n",
    "''')"
   ]
  },
  {
   "attachments": {},
   "cell_type": "markdown",
   "metadata": {},
   "source": [
    "To summarize:\n",
    "- At the beginning our weights can be random(from *scratch*) or come from a pretrained model(*transfer learning*)\n",
    "- From scratch, our outputs won't have anything to do with what we wan\n",
    "- From transfer learning, likely the pretrained won't be good at the specific task we want\n",
    "- Regardless it'll need to *learn* better weights"
   ]
  },
  {
   "attachments": {},
   "cell_type": "markdown",
   "metadata": {},
   "source": [
    "- Begin by comparing the outputs our models gives us to our targets\n",
    "- (we have labeled data, so we know what result the model should give)\n",
    "- We do this using a *loss function*, which returns a number that we want to make as low as possible by improving *weights* \n",
    "- To do this we take a few data items from the training set and feed them to the model\n",
    "- We compare corresponding targets using *loss function*\n",
    "- The return tells us if it's improving or not\n",
    "- Weights then change to make it slightly better\n"
   ]
  },
  {
   "attachments": {},
   "cell_type": "markdown",
   "metadata": {},
   "source": [
    "- To find how to change weights to make loss better we use calculus to calculate *gradients*(via pytorch)\n",
    "- We use the magnitude of the *gradient*(steepness of slope) to tell us how big to step\n",
    "- We mulitply the *gradient* by a number we choose *learning rate* to decide step size\n",
    "- We then *iterate* until we have reached the lowest point and we can *stop*\n"
   ]
  },
  {
   "attachments": {},
   "cell_type": "markdown",
   "metadata": {},
   "source": [
    "### The MNIST Loss Function"
   ]
  },
  {
   "attachments": {},
   "cell_type": "markdown",
   "metadata": {},
   "source": [
    "We already have our independant variables `x` -- These are the images themselves.\n",
    "\n",
    "We'll concatonate them all into a single tensor\n",
    "\n",
    "And change them from a list of matrices(rank 3 tensor) to a list of vectors(rank 2 tensor).\n",
    "\n",
    "We can do this using `view`, which is a pytorch method that changes the shape of a tensor without changing it's contents \n",
    "\n",
    "`-1` is a special parameter to `view` that means \"make this axis as large as necessary to fit all the data\"\n"
   ]
  },
  {
   "attachments": {},
   "cell_type": "markdown",
   "metadata": {},
   "source": [
    "- Concatenate stacked_threes and stacked sevens\n",
    "- pass to view\n",
    "- view changes shape of tensor with -1 to our shape 28x28"
   ]
  },
  {
   "cell_type": "code",
   "execution_count": 246,
   "metadata": {},
   "outputs": [],
   "source": [
    "train_x = torch.cat([stacked_threes, stacked_sevens]).view(-1, 28*28)"
   ]
  },
  {
   "attachments": {},
   "cell_type": "markdown",
   "metadata": {},
   "source": [
    "Label each image \n",
    "- Label 3s as `1`\n",
    "- Label 7s as `0`"
   ]
  },
  {
   "attachments": {},
   "cell_type": "markdown",
   "metadata": {},
   "source": [
    "*** "
   ]
  },
  {
   "cell_type": "markdown",
   "metadata": {},
   "source": [
    "#### Quick Experiment"
   ]
  },
  {
   "attachments": {},
   "cell_type": "markdown",
   "metadata": {},
   "source": [
    "- Find what train_y(below) is doing and why"
   ]
  },
  {
   "cell_type": "code",
   "execution_count": 247,
   "metadata": {},
   "outputs": [
    {
     "data": {
      "text/plain": [
       "tensor([1, 1, 1])"
      ]
     },
     "execution_count": 247,
     "metadata": {},
     "output_type": "execute_result"
    }
   ],
   "source": [
    "test_trainer = tensor([1]*len(test_tensor))\n",
    "test_trainer\n"
   ]
  },
  {
   "cell_type": "code",
   "execution_count": 248,
   "metadata": {},
   "outputs": [
    {
     "data": {
      "text/plain": [
       "tensor([1, 1, 1, 0, 0, 0])"
      ]
     },
     "execution_count": 248,
     "metadata": {},
     "output_type": "execute_result"
    }
   ],
   "source": [
    "test_trainer = tensor([1]*len(test_tensor) + [0]*len(test_tensor_2))\n",
    "test_trainer"
   ]
  },
  {
   "cell_type": "code",
   "execution_count": 249,
   "metadata": {},
   "outputs": [
    {
     "data": {
      "text/plain": [
       "tensor([[1],\n",
       "        [1],\n",
       "        [1],\n",
       "        [0],\n",
       "        [0],\n",
       "        [0]])"
      ]
     },
     "execution_count": 249,
     "metadata": {},
     "output_type": "execute_result"
    }
   ],
   "source": [
    "test_trainer = tensor([1]*len(test_tensor) + [0]*len(test_tensor_2)).unsqueeze(1)\n",
    "test_trainer"
   ]
  },
  {
   "attachments": {},
   "cell_type": "markdown",
   "metadata": {},
   "source": [
    "It looks like unsqueeze is pushing it to this shape, and we're going to `zip` train_x and train_y later, in order, so their 0 & 1 labels will correspond"
   ]
  },
  {
   "attachments": {},
   "cell_type": "markdown",
   "metadata": {},
   "source": [
    "*** "
   ]
  },
  {
   "attachments": {},
   "cell_type": "markdown",
   "metadata": {},
   "source": [
    "#### Resume"
   ]
  },
  {
   "cell_type": "code",
   "execution_count": 250,
   "metadata": {},
   "outputs": [
    {
     "data": {
      "text/plain": [
       "(torch.Size([12396, 784]), torch.Size([12396, 1]))"
      ]
     },
     "execution_count": 250,
     "metadata": {},
     "output_type": "execute_result"
    }
   ],
   "source": [
    "train_y = tensor([1]*len(threes) + [0]*len(sevens)).unsqueeze(1)\n",
    "train_x.shape, train_y.shape"
   ]
  },
  {
   "attachments": {},
   "cell_type": "markdown",
   "metadata": {},
   "source": [
    "A `Dataset` in pytorch is *required* to return a tuple of (x,y) when indexed\n",
    "\n",
    "Python provides a `zip` function, which when combined with `list`, provides a simple way to get this functionality"
   ]
  },
  {
   "attachments": {},
   "cell_type": "markdown",
   "metadata": {},
   "source": [
    "- We're zipping our train_x and train_y\n",
    "- Converting those zipped values to a list\n",
    "- Looking at the dset list at index 0, our tensor 1 tells us that the image at this index should be a 3"
   ]
  },
  {
   "cell_type": "code",
   "execution_count": 251,
   "metadata": {},
   "outputs": [
    {
     "data": {
      "text/plain": [
       "(torch.Size([784]), tensor([1]))"
      ]
     },
     "execution_count": 251,
     "metadata": {},
     "output_type": "execute_result"
    }
   ],
   "source": [
    "dset = list(zip(train_x,train_y))\n",
    "x,y = dset[0]\n",
    "x.shape, y"
   ]
  },
  {
   "attachments": {},
   "cell_type": "markdown",
   "metadata": {},
   "source": [
    "- Repeat the same steps for the validation sets"
   ]
  },
  {
   "cell_type": "code",
   "execution_count": 252,
   "metadata": {},
   "outputs": [
    {
     "data": {
      "text/plain": [
       "torch.Size([1028, 28, 28])"
      ]
     },
     "execution_count": 252,
     "metadata": {},
     "output_type": "execute_result"
    }
   ],
   "source": [
    "stacked_threes.shape\n",
    "stacked_sevens.shape\n",
    "valid_3_tens.shape\n",
    "valid_7_tens.shape"
   ]
  },
  {
   "cell_type": "code",
   "execution_count": 253,
   "metadata": {},
   "outputs": [],
   "source": [
    "valid_x = torch.cat([valid_3_tens, valid_7_tens]).view(-1, 28*28)\n",
    "valid_y = tensor([1]*len(valid_3_tens) + [0]*len(valid_7_tens)).unsqueeze(1)\n",
    "valid_dst = list(zip(valid_x, valid_y))\n"
   ]
  },
  {
   "attachments": {},
   "cell_type": "markdown",
   "metadata": {},
   "source": [
    "- Need to *initialize* with a random weight\n",
    "- Do this in the below with `randn` which returns random numbers with a mean `0` and standard deviation of 1 at the `size` passed\n",
    "- We'll give an optional argument `std` that we can pass and change the standard deviation with if needed, otherwise default to 1\n",
    "- Use requires_grad_() to prepare it to receive `.backward` results through backpropagation(aka, get the gradients)"
   ]
  },
  {
   "cell_type": "markdown",
   "metadata": {},
   "source": []
  },
  {
   "cell_type": "code",
   "execution_count": 254,
   "metadata": {},
   "outputs": [],
   "source": [
    "def init_params(size, std=1.0): return (torch.randn(size)*std).requires_grad_()"
   ]
  },
  {
   "cell_type": "code",
   "execution_count": 255,
   "metadata": {},
   "outputs": [],
   "source": [
    "weights = init_params((28*28,1))"
   ]
  },
  {
   "attachments": {},
   "cell_type": "markdown",
   "metadata": {},
   "source": [
    "- The func weights*pixels won't be flexible enough \n",
    "- It is always == 0 when pixels == 0(i.e. *intercept* is 0)\n",
    "- basically in `y=w*x + b`, we still need the `b`"
   ]
  },
  {
   "attachments": {},
   "cell_type": "markdown",
   "metadata": {},
   "source": [
    "So let's initialize that to a random number as well\n"
   ]
  },
  {
   "cell_type": "code",
   "execution_count": 256,
   "metadata": {},
   "outputs": [
    {
     "data": {
      "text/plain": [
       "tensor([0.4848], requires_grad=True)"
      ]
     },
     "execution_count": 256,
     "metadata": {},
     "output_type": "execute_result"
    }
   ],
   "source": [
    "bias = init_params(1)\n",
    "bias"
   ]
  },
  {
   "attachments": {},
   "cell_type": "markdown",
   "metadata": {},
   "source": [
    "- **In neural networks, the `w` in `y=wx+b` is called the *weights*, and the `b` is called the *bias***\n",
    "- Together the weights and bias make up the ***parameters***"
   ]
  },
  {
   "attachments": {},
   "cell_type": "markdown",
   "metadata": {},
   "source": [
    "We can now calculate a prediction for one image:\n",
    "- grab a single image to train from train at index `0`\n",
    "- multiply by the weights tensor using `T` method\n",
    "- get the sum of all numbers in the resulting tensor\n",
    "- add the bias"
   ]
  },
  {
   "cell_type": "code",
   "execution_count": 257,
   "metadata": {},
   "outputs": [
    {
     "data": {
      "text/plain": [
       "tensor([-17.2289], grad_fn=<AddBackward0>)"
      ]
     },
     "execution_count": 257,
     "metadata": {},
     "output_type": "execute_result"
    }
   ],
   "source": [
    "(train_x[0]*weights.T).sum() + bias"
   ]
  },
  {
   "attachments": {},
   "cell_type": "markdown",
   "metadata": {},
   "source": [
    "- We could calculate the prediction using a `for` loop, but they *don't run on the GPU*\n",
    "- Also python is a slow language for `for` loops in general\n",
    "- We need to represent as much of the computation in a model as possible using higher level functions\n"
   ]
  },
  {
   "attachments": {},
   "cell_type": "markdown",
   "metadata": {},
   "source": [
    "- For this there's a mathematical operation that calcs `w*x` for every row of a matrix\n",
    "- Called *matrix multiplication*\n"
   ]
  },
  {
   "cell_type": "markdown",
   "metadata": {},
   "source": [
    "<img alt=\"Matrix multiplication\" width=\"400\" caption=\"Matrix multiplication\" src=\"images/matmul2.svg\" id=\"matmul\"/>"
   ]
  },
  {
   "attachments": {},
   "cell_type": "markdown",
   "metadata": {},
   "source": [
    "- This shows matrix `a` * matrix `b`\n",
    "- See http://matrixmultiplication.xyz/ for visual examples\n",
    "- Look at intro to matrix multiplication on Khan academy if more needed"
   ]
  },
  {
   "attachments": {},
   "cell_type": "markdown",
   "metadata": {},
   "source": [
    "**In python matrix multiplication is represented with the `@` operator"
   ]
  },
  {
   "cell_type": "code",
   "execution_count": 258,
   "metadata": {},
   "outputs": [
    {
     "data": {
      "text/plain": [
       "tensor([[-17.2289],\n",
       "        [-14.7152],\n",
       "        [ -6.9665],\n",
       "        ...,\n",
       "        [ -8.0796],\n",
       "        [-17.8650],\n",
       "        [ -3.8336]], grad_fn=<AddBackward0>)"
      ]
     },
     "execution_count": 258,
     "metadata": {},
     "output_type": "execute_result"
    }
   ],
   "source": [
    "def linear1(xb): return xb@weights + bias\n",
    "preds = linear1(train_x)\n",
    "preds"
   ]
  },
  {
   "attachments": {},
   "cell_type": "markdown",
   "metadata": {},
   "source": [
    "- First element is the same as the one we calculated above, of course\n",
    "- **This equation *batch@weights + bias* is one of the two fundamental equations of any neural network**\n",
    "- The other is the *activation function*, which will be shown in a bit"
   ]
  },
  {
   "attachments": {},
   "cell_type": "markdown",
   "metadata": {},
   "source": [
    "- Check accuracy\n",
    "- To find if an output represents a 3 or a 7, we can just check if it's greater than 0.0\n",
    "- Our accuracy for each can be calculated using *broadcasting* instead of for loops:"
   ]
  },
  {
   "cell_type": "code",
   "execution_count": 259,
   "metadata": {},
   "outputs": [
    {
     "data": {
      "text/plain": [
       "tensor([[False],\n",
       "        [False],\n",
       "        [False],\n",
       "        ...,\n",
       "        [ True],\n",
       "        [ True],\n",
       "        [ True]])"
      ]
     },
     "execution_count": 259,
     "metadata": {},
     "output_type": "execute_result"
    }
   ],
   "source": [
    "corrects = (preds>0.0).float() == train_y\n",
    "corrects"
   ]
  },
  {
   "cell_type": "code",
   "execution_count": 260,
   "metadata": {},
   "outputs": [
    {
     "data": {
      "text/plain": [
       "0.48814132809638977"
      ]
     },
     "execution_count": 260,
     "metadata": {},
     "output_type": "execute_result"
    }
   ],
   "source": [
    "corrects.float().mean().item()"
   ]
  },
  {
   "attachments": {},
   "cell_type": "markdown",
   "metadata": {},
   "source": [
    "- Now test the accuracy for a small change in one of the weights\n",
    "- We have to ask pytorch not to calculate gradients when we do this "
   ]
  },
  {
   "cell_type": "code",
   "execution_count": 261,
   "metadata": {},
   "outputs": [],
   "source": [
    "with torch.no_grad(): weights[0] *= 1.0001"
   ]
  },
  {
   "cell_type": "code",
   "execution_count": 262,
   "metadata": {},
   "outputs": [
    {
     "data": {
      "text/plain": [
       "0.48814132809638977"
      ]
     },
     "execution_count": 262,
     "metadata": {},
     "output_type": "execute_result"
    }
   ],
   "source": [
    "preds = linear1(train_x)\n",
    "((preds>0.0).float() == train_y).float().mean().item()"
   ]
  },
  {
   "attachments": {},
   "cell_type": "markdown",
   "metadata": {},
   "source": [
    "- As demonstrated, we need *gradients* to improve our model with SGD\n",
    "- In order to calc *gradients* we need some *loss function* that represents how good our model is\n",
    "- Because *gradients* are a measure of how that *loss function* changes with small tweaks to the weights"
   ]
  },
  {
   "attachments": {},
   "cell_type": "markdown",
   "metadata": {},
   "source": [
    "- We need a *loss function*\n",
    "- Obvious option is *accuracy*, which is our metric\n",
    "- If that case we \n",
    "    - calc predictions for each image\n",
    "    - collect these values to calc an overall accuracy\n",
    "    - calc gradients of each weight with respect to that overall accuracy"
   ]
  },
  {
   "attachments": {},
   "cell_type": "markdown",
   "metadata": {},
   "source": [
    "- BUT, there's a technical problem\n",
    "- *gradient* of a function is its *slope*, aka steepness\n",
    "- This is just rise/run\n",
    "    - `(y_new - y_old) / (x_new / x_old)`\n",
    "- This gives us a good appx. of the *gradient* when `x_new` is very similar to `x_old` aka their difference is very small\n",
    "- But accuracy only changes at all when a prediction changes from a 3 to a 7, or vice versa\n",
    "- A small change in weighs from `x_new` to `x_old` isn't likely to cause any prediction to change, so `(y_new - y_old)` will almost always be 0. In other word, the gradient is 0 almost everywhere"
   ]
  },
  {
   "attachments": {},
   "cell_type": "markdown",
   "metadata": {},
   "source": [
    "A very small change in the value of a weight will often not change the accuracy at all.\n",
    "\n",
    "This means it's not good to use accuracy as a *loss function* \n",
    "\n",
    "If we do, most of the time our *gradients* will actually be 0 and the model won't learn from that number \n"
   ]
  },
  {
   "attachments": {},
   "cell_type": "markdown",
   "metadata": {},
   "source": [
    "- Mathematically, accuracy is a function that's constant almost everywhere (except at the threshold, 0.5), so its derivative is nil almost everywhere (and infinity at threshold)\n",
    "- Returns `gradients` that are 0 or infinite - so functionally useless "
   ]
  },
  {
   "attachments": {},
   "cell_type": "markdown",
   "metadata": {},
   "source": [
    "Instead we need a loss function that, when our weights result in  slightly better predictions, give us slightly better loss\n",
    "- What does this look like?\n",
    "    - For this, when it's a 3, score is slightly higher, when 7, slightly lower"
   ]
  },
  {
   "attachments": {},
   "cell_type": "markdown",
   "metadata": {},
   "source": [
    "Loss function receives not the images, but the predictions from the model\n",
    "- We'll make one argument, `prds` of values between 0 and 1\n",
    "- Where each value is a prediction that the image is a 3\n",
    "- It's a vector(rank-1 tensor) indexed over images\n"
   ]
  },
  {
   "attachments": {},
   "cell_type": "markdown",
   "metadata": {},
   "source": [
    "The purpose of the loss function is to measure the distance between predicted and true values(targets/labels)\n",
    "\n",
    "Create another argument `trgts` with values between 0 and 1 that tell if it's a 3 or not\n",
    "- this is also a vector(rank-1 tensor) indexed over images \n"
   ]
  },
  {
   "attachments": {},
   "cell_type": "markdown",
   "metadata": {},
   "source": [
    "Assuming we have a 3, a 7, and another 3\n",
    "- assume model predicts 90%(high confidence) that first was in fact a 3\n",
    "- assume model predicts 40%(slight confidence) that the second was a 7\n",
    "- assume model predicts 20%(fair confidence), erroneously, that thrid was a 7\n"
   ]
  },
  {
   "attachments": {},
   "cell_type": "markdown",
   "metadata": {},
   "source": [
    "Given the above, our loss function would recieve the below values as inputs"
   ]
  },
  {
   "cell_type": "code",
   "execution_count": 263,
   "metadata": {},
   "outputs": [],
   "source": [
    "trgts = tensor([1,0,1])\n",
    "prds = tensor([0.9, 0.4, 0.2])"
   ]
  },
  {
   "attachments": {},
   "cell_type": "markdown",
   "metadata": {},
   "source": [
    "Here's first pass at *loss function* that measures distance between `predictions` and `targets`"
   ]
  },
  {
   "cell_type": "code",
   "execution_count": 264,
   "metadata": {},
   "outputs": [],
   "source": [
    "def mnist_loss(predictions, targets):\n",
    "    return torch.where(targets==1, 1-predictions, predictions).mean()"
   ]
  },
  {
   "attachments": {},
   "cell_type": "markdown",
   "metadata": {},
   "source": [
    "Above is a new function, `torch.where(a,b,c)`. \n",
    "\n",
    "This is the same as a list comprehension `[b[i] if a[i] else c[i] for i in range(len(a))]`\n",
    "\n",
    "**except it works on tensors, at C/CUDA speed**\n"
   ]
  },
  {
   "attachments": {},
   "cell_type": "markdown",
   "metadata": {},
   "source": [
    "Translation of the above:\n",
    "    - func will measure how distance each prediction is fromm 1 if it should be 1\n",
    "    - how distant it is from 0 if it should be 0\n",
    "    - Then take a mean of all the distances "
   ]
  },
  {
   "attachments": {},
   "cell_type": "markdown",
   "metadata": {},
   "source": [
    "Testing on `prds` and `trgts`"
   ]
  },
  {
   "cell_type": "code",
   "execution_count": 265,
   "metadata": {},
   "outputs": [
    {
     "data": {
      "text/plain": [
       "tensor([0.1000, 0.4000, 0.8000])"
      ]
     },
     "execution_count": 265,
     "metadata": {},
     "output_type": "execute_result"
    }
   ],
   "source": [
    "torch.where(trgts==1, 1-prds, prds)"
   ]
  },
  {
   "attachments": {},
   "cell_type": "markdown",
   "metadata": {},
   "source": [
    "- Func returns lower number when predictions are more accurate, when accurate predictions are more confident(higher absolute vals), and when inaccurate preds are less confident\n",
    "- in pytorch we'll always assume a lower value of loss function is better\n"
   ]
  },
  {
   "attachments": {},
   "cell_type": "markdown",
   "metadata": {},
   "source": [
    "We need a scarlar for the final loss - `mnist_loss` takes the mean of the previous tensor"
   ]
  },
  {
   "cell_type": "code",
   "execution_count": 266,
   "metadata": {},
   "outputs": [
    {
     "data": {
      "text/plain": [
       "tensor(0.4333)"
      ]
     },
     "execution_count": 266,
     "metadata": {},
     "output_type": "execute_result"
    }
   ],
   "source": [
    "mnist_loss(prds, trgts)"
   ]
  },
  {
   "attachments": {},
   "cell_type": "markdown",
   "metadata": {},
   "source": [
    "If we change our prediction for the one \"false\" target from `0.2` to `0.8`the loss will go down, indicating it's a better prediction"
   ]
  },
  {
   "cell_type": "code",
   "execution_count": 267,
   "metadata": {},
   "outputs": [
    {
     "data": {
      "text/plain": [
       "tensor(0.2333)"
      ]
     },
     "execution_count": 267,
     "metadata": {},
     "output_type": "execute_result"
    }
   ],
   "source": [
    "mnist_loss(tensor([0.9, 0.4, 0.8]), trgts)"
   ]
  },
  {
   "attachments": {},
   "cell_type": "markdown",
   "metadata": {},
   "source": [
    "Problem: As `mnist_loss` is currently defined it always assumes predictions are between 0 and 1.\n",
    "\n",
    "We need to ensure that this is actually the case\n",
    "\n",
    "There is a function that can handle this for us"
   ]
  },
  {
   "attachments": {},
   "cell_type": "markdown",
   "metadata": {},
   "source": [
    "#### Sigmoid"
   ]
  },
  {
   "attachments": {},
   "cell_type": "markdown",
   "metadata": {},
   "source": [
    "The `sigmoid` function always outputs a number between 0 and 1\n",
    "\n",
    "It's defined as follows:"
   ]
  },
  {
   "cell_type": "code",
   "execution_count": 268,
   "metadata": {},
   "outputs": [],
   "source": [
    "def sigmoid(x): return 1/(1+torch.exp(-x))"
   ]
  },
  {
   "attachments": {},
   "cell_type": "markdown",
   "metadata": {},
   "source": [
    "Pytorch has an accelerated version for us\n",
    "\n",
    "So we don't need to re-invent the wheel\n",
    "\n",
    "This is an important function in deep learning because we often want to ensure values are between 0 and 1"
   ]
  },
  {
   "cell_type": "code",
   "execution_count": 269,
   "metadata": {},
   "outputs": [
    {
     "data": {
      "image/png": "[encoded data removed]",
      "text/plain": [
       "<Figure size 600x400 with 1 Axes>"
      ]
     },
     "metadata": {},
     "output_type": "display_data"
    }
   ],
   "source": [
    "plot_function(torch.sigmoid, title='Sigmoid', min=-4, max=4)"
   ]
  },
  {
   "attachments": {},
   "cell_type": "markdown",
   "metadata": {},
   "source": [
    "- It takes any value, positive or negative, and smooshes it onto an output value of 0 and 1.\n",
    "- It's also a smooth curve that only goes up, which makes it easier for SGD to find meaningful gradients\n",
    "\n",
    "Time to update `mnist_loss` to first apply `sigmoid` to the inputs"
   ]
  },
  {
   "cell_type": "code",
   "execution_count": 270,
   "metadata": {},
   "outputs": [],
   "source": [
    "def mnist_loss(predictions, targets):\n",
    "    predictions = predictions.sigmoid()\n",
    "    return torch.where(targets==1, 1-predictions, predictions).mean()"
   ]
  },
  {
   "attachments": {},
   "cell_type": "markdown",
   "metadata": {},
   "source": [
    "- We can now be confident that our predictions will work, even if they're not 0 or 1\n",
    "- All that's required is that a higher prediction corresponds to a higher confidence that a number is a 3\n",
    "- We already have accuracy as metric, so why define loss?\n",
    "\n"
   ]
  },
  {
   "attachments": {},
   "cell_type": "markdown",
   "metadata": {},
   "source": [
    "- The metric is to drive human understanding\n",
    "- The loss is to drive automated learning\n",
    "- To drive automated learning the loss must be a function with a that has a meaningful derivative\n",
    "- It can't have flat section/large jumps, it needs to be smooth\n",
    "- Sometimes using this means that it doesn't exaclty reflect what we want to achieve, but it's a compromise between our real goal and what can be optimized using it's gradient\n",
    "\n",
    "- The loss function is calculated for each item in our dataset\n",
    "- then at the end of an epoch, the loss values are all averaged and the overall mean reported for the epoch\n",
    "\n",
    "- Metrics are the numbers that we really care about \n",
    "- These area the values that are printed out at the end of each epoch that tell us how our model is really doing\n",
    "\n",
    "- Important to focus on metrics rather than loss to judge a model's performance "
   ]
  },
  {
   "attachments": {},
   "cell_type": "markdown",
   "metadata": {},
   "source": [
    "*** "
   ]
  },
  {
   "attachments": {},
   "cell_type": "markdown",
   "metadata": {},
   "source": [
    "#### SGD and Mini-Batches"
   ]
  },
  {
   "attachments": {},
   "cell_type": "markdown",
   "metadata": {},
   "source": [
    "Now that we have a loss function the works, we can look at some of the details of the next phase of the learning process\n",
    "\n",
    "That is to change and update the weights based on the gradients\n",
    "\n",
    "Known as the *optimization step*"
   ]
  },
  {
   "attachments": {},
   "cell_type": "markdown",
   "metadata": {},
   "source": [
    "- In order to take this step we need to calculate loss over 1+ data items\n",
    "- How many to use?\n",
    "- We could do whole set, an average, or a single item\n",
    "    - whole set is a very long time\n",
    "    - single item wouldn't use much information and be imprecise\n",
    "- Compromise of the two\n",
    "    - Calculate the average loss for a few items at a time(*mini-batch*)\n",
    "- Num of items in *mini-batch* is called the *batch size*\n",
    "    - Larger means you'll get a more accurate and stable estimate of the datasets gradients\n",
    "        - But it will take longer and you will process fewer mini-batches per epoch\n",
    "\n",
    "- Another good reason for *mini batches* rather than gradient on individual items is that we're running on an accelerator(GPU)\n",
    "    - These only perform well if they have a lot to work on at one time\n",
    "    - If you give too much, it may run out of memory, so have to balance\n",
    "- As discussed in data augmentation, we get better generalization if we can vary things during training\n",
    "    - One simple thing to vary is what data items are put in our *mini-batch*\n",
    "- Rather than enumerating our dataset in order every epoch\n",
    "    - We normally randomly shuffle it on every epoch, before we create *mini-batches*\n",
    "- **Shuffling and mini-batch collation are done for you in fastai wiht `DataLoader`**"
   ]
  },
  {
   "attachments": {},
   "cell_type": "markdown",
   "metadata": {},
   "source": [
    "- A `DataLoader` can take any python collection and turn it into an iterator over mini-batches like below:"
   ]
  },
  {
   "attachments": {},
   "cell_type": "markdown",
   "metadata": {},
   "source": [
    "- assigning a range of 15 numbers\n",
    "- passing to dataloader\n",
    "- splitting it into batches of 5 (3 batches)\n",
    "- shuffling each(no repeats)\n",
    "- returns a dataloader object that contains 3 tensors"
   ]
  },
  {
   "cell_type": "code",
   "execution_count": 271,
   "metadata": {},
   "outputs": [
    {
     "data": {
      "text/plain": [
       "[tensor([ 3,  2, 10,  9, 13]),\n",
       " tensor([14,  6,  8,  0,  1]),\n",
       " tensor([ 7,  4,  5, 12, 11])]"
      ]
     },
     "execution_count": 271,
     "metadata": {},
     "output_type": "execute_result"
    }
   ],
   "source": [
    "coll = range(15)\n",
    "dl = DataLoader(coll, batch_size=5, shuffle=True)\n",
    "list(dl)"
   ]
  },
  {
   "attachments": {},
   "cell_type": "markdown",
   "metadata": {},
   "source": [
    "For training we don't want any python collection, but a collection containing independant and dependant variable(the inputs and targets of the model)\n",
    "\n",
    "A collection that contains tuples of independant and dependant variables is known in pytorch as a `Dataset`\n",
    "\n",
    "Example of a simple `Dataset` below:"
   ]
  },
  {
   "cell_type": "code",
   "execution_count": 272,
   "metadata": {},
   "outputs": [
    {
     "data": {
      "text/plain": [
       "(#26) [(0, 'a'),(1, 'b'),(2, 'c'),(3, 'd'),(4, 'e'),(5, 'f'),(6, 'g'),(7, 'h'),(8, 'i'),(9, 'j')...]"
      ]
     },
     "execution_count": 272,
     "metadata": {},
     "output_type": "execute_result"
    }
   ],
   "source": [
    "ds = L(enumerate(string.ascii_lowercase))\n",
    "ds"
   ]
  },
  {
   "attachments": {},
   "cell_type": "markdown",
   "metadata": {},
   "source": [
    "When we pass a `Dataset` to a `DataLoader` we'll get back mini-batches\n",
    "\n",
    "Which are themselves tuples of tensors - representing batches of independant and dependant variables"
   ]
  },
  {
   "cell_type": "code",
   "execution_count": 273,
   "metadata": {},
   "outputs": [
    {
     "data": {
      "text/plain": [
       "[(tensor([ 3, 16, 17,  8,  7,  2]), ('d', 'q', 'r', 'i', 'h', 'c')),\n",
       " (tensor([10, 22,  4, 14, 25, 15]), ('k', 'w', 'e', 'o', 'z', 'p')),\n",
       " (tensor([ 1, 12, 19,  5,  9, 11]), ('b', 'm', 't', 'f', 'j', 'l')),\n",
       " (tensor([ 0, 23, 21, 13, 18, 20]), ('a', 'x', 'v', 'n', 's', 'u')),\n",
       " (tensor([ 6, 24]), ('g', 'y'))]"
      ]
     },
     "execution_count": 273,
     "metadata": {},
     "output_type": "execute_result"
    }
   ],
   "source": [
    "dl = DataLoader(ds, batch_size=6, shuffle=True)\n",
    "list(dl)"
   ]
  },
  {
   "attachments": {},
   "cell_type": "markdown",
   "metadata": {},
   "source": [
    "## Putting it all together"
   ]
  },
  {
   "attachments": {},
   "cell_type": "markdown",
   "metadata": {},
   "source": [
    "Time to implement the process we saw in *gradiend descent*\n",
    "\n",
    "In code, our process will be implemented with something looking like this for each epoch:\n",
    "\n",
    "```python\n",
    "for x,y in dl:\n",
    "    pred = model(x)\n",
    "    loss = loss_func(pred, y)\n",
    "    loss.backward()\n",
    "    parameters -= parameters.grad * lr\n",
    "```\n"
   ]
  },
  {
   "attachments": {},
   "cell_type": "markdown",
   "metadata": {},
   "source": [
    "First, reinitialize parameters:"
   ]
  },
  {
   "cell_type": "code",
   "execution_count": 274,
   "metadata": {},
   "outputs": [],
   "source": [
    "weights = init_params((28*28,1))\n",
    "bias = init_params(1)"
   ]
  },
  {
   "attachments": {},
   "cell_type": "markdown",
   "metadata": {},
   "source": [
    "A `DataLoader` can be created from a `Dataset`:"
   ]
  },
  {
   "cell_type": "code",
   "execution_count": 275,
   "metadata": {},
   "outputs": [
    {
     "data": {
      "text/plain": [
       "(torch.Size([256, 784]), torch.Size([256, 1]))"
      ]
     },
     "execution_count": 275,
     "metadata": {},
     "output_type": "execute_result"
    }
   ],
   "source": [
    "dl = DataLoader(dset, batch_size=256)\n",
    "xb,yb = first(dl)\n",
    "xb.shape,yb.shape"
   ]
  },
  {
   "attachments": {},
   "cell_type": "markdown",
   "metadata": {},
   "source": [
    "Same goes for the validation set"
   ]
  },
  {
   "cell_type": "code",
   "execution_count": 276,
   "metadata": {},
   "outputs": [],
   "source": [
    "valid_dl = DataLoader(valid_dst, batch_size=256)"
   ]
  },
  {
   "attachments": {},
   "cell_type": "markdown",
   "metadata": {},
   "source": [
    "- Create a mini batch of size 4 for testing"
   ]
  },
  {
   "cell_type": "code",
   "execution_count": 277,
   "metadata": {},
   "outputs": [
    {
     "data": {
      "text/plain": [
       "torch.Size([4, 784])"
      ]
     },
     "execution_count": 277,
     "metadata": {},
     "output_type": "execute_result"
    }
   ],
   "source": [
    "batch = train_x[:4]\n",
    "batch.shape"
   ]
  },
  {
   "cell_type": "code",
   "execution_count": 278,
   "metadata": {},
   "outputs": [
    {
     "data": {
      "text/plain": [
       "tensor([[6.2677],\n",
       "        [3.3820],\n",
       "        [1.7467],\n",
       "        [4.4054]], grad_fn=<AddBackward0>)"
      ]
     },
     "execution_count": 278,
     "metadata": {},
     "output_type": "execute_result"
    }
   ],
   "source": [
    "preds = linear1(batch)\n",
    "preds"
   ]
  },
  {
   "cell_type": "code",
   "execution_count": 279,
   "metadata": {},
   "outputs": [
    {
     "data": {
      "text/plain": [
       "tensor(0.0488, grad_fn=<MeanBackward0>)"
      ]
     },
     "execution_count": 279,
     "metadata": {},
     "output_type": "execute_result"
    }
   ],
   "source": [
    "loss = mnist_loss(preds, train_y[:4])\n",
    "loss"
   ]
  },
  {
   "attachments": {},
   "cell_type": "markdown",
   "metadata": {},
   "source": [
    "Now we can calculate the gradients:"
   ]
  },
  {
   "cell_type": "code",
   "execution_count": 280,
   "metadata": {},
   "outputs": [
    {
     "data": {
      "text/plain": [
       "(torch.Size([784, 1]), tensor(-0.0063), tensor([-0.0430]))"
      ]
     },
     "execution_count": 280,
     "metadata": {},
     "output_type": "execute_result"
    }
   ],
   "source": [
    "loss.backward()\n",
    "weights.grad.shape, weights.grad.mean(), bias.grad"
   ]
  },
  {
   "attachments": {},
   "cell_type": "markdown",
   "metadata": {},
   "source": [
    "Putting it all into a function"
   ]
  },
  {
   "cell_type": "code",
   "execution_count": 281,
   "metadata": {},
   "outputs": [],
   "source": [
    "def calc_grad(xb, yb, model):\n",
    "    preds = model(xb)\n",
    "    loss = mnist_loss(preds, yb)\n",
    "    loss.backward()"
   ]
  },
  {
   "attachments": {},
   "cell_type": "markdown",
   "metadata": {},
   "source": [
    "and testing it"
   ]
  },
  {
   "cell_type": "code",
   "execution_count": 282,
   "metadata": {},
   "outputs": [
    {
     "data": {
      "text/plain": [
       "(tensor(-0.0125), tensor([-0.0860]))"
      ]
     },
     "execution_count": 282,
     "metadata": {},
     "output_type": "execute_result"
    }
   ],
   "source": [
    "calc_grad(batch, train_y[:4], linear1)\n",
    "weights.grad.mean(), bias.grad"
   ]
  },
  {
   "attachments": {},
   "cell_type": "markdown",
   "metadata": {},
   "source": [
    "Now watch what happens when it's done twice"
   ]
  },
  {
   "cell_type": "code",
   "execution_count": 283,
   "metadata": {},
   "outputs": [
    {
     "data": {
      "text/plain": [
       "(tensor(-0.0188), tensor([-0.1290]))"
      ]
     },
     "execution_count": 283,
     "metadata": {},
     "output_type": "execute_result"
    }
   ],
   "source": [
    "calc_grad(batch, train_y[:4], linear1)\n",
    "weights.grad.mean(), bias.grad"
   ]
  },
  {
   "attachments": {},
   "cell_type": "markdown",
   "metadata": {},
   "source": [
    "The gradients have changed\n",
    "    - The reason for that is `loss.backward` actually *adds* the gradients of `loss` to any gradients that are currently stored\n",
    "\n",
    "So we have to actually set the gradient to 0 first:"
   ]
  },
  {
   "cell_type": "code",
   "execution_count": 284,
   "metadata": {},
   "outputs": [],
   "source": [
    "weights.grad.zero_()\n",
    "bias.grad.zero_();"
   ]
  },
  {
   "attachments": {},
   "cell_type": "markdown",
   "metadata": {},
   "source": [
    "**NOTE**\n",
    "Inplace Operations<br>\n",
    "Methods in PyTorch whose names end in an underscore modify their objects *in place*.\n",
    "\n",
    "For instanace `bias.zero_()` sets all elements of the tensor `bias` to 0"
   ]
  },
  {
   "attachments": {},
   "cell_type": "markdown",
   "metadata": {},
   "source": [
    "Our only remaining step is to update the weights and biases based on the gradient and learning rate\n",
    "\n",
    "When we do so we have to be explicit with pytorch not to take the gradient of this step too\n",
    "\n",
    "Otherwise things will get very confusing when we try to compute the derivative of the next batch\n",
    "\n",
    "If we assign to the `data` attribute of a tensor, pytorch will not take the gradient of that step\n",
    "\n",
    "Basic loop for an epoch is below:\n"
   ]
  },
  {
   "cell_type": "code",
   "execution_count": 285,
   "metadata": {},
   "outputs": [],
   "source": [
    "def train_epoch(model, lr, params):\n",
    "    for xb,yb in dl:\n",
    "        calc_grad(xb, yb, model)\n",
    "        for p in params:\n",
    "            p.data -= p.grad*lr\n",
    "            p.grad.zero_()"
   ]
  },
  {
   "attachments": {},
   "cell_type": "markdown",
   "metadata": {},
   "source": [
    "Also want to see how we're doing by measuring against the validation set.\n",
    "\n",
    "To see if an output represents a 3 or a 7 we can just check if it's greater than 0. \n",
    "\n",
    "So our accuracy for each item can be calculated(use broadcasting, not loops!) with:"
   ]
  },
  {
   "cell_type": "code",
   "execution_count": 286,
   "metadata": {},
   "outputs": [
    {
     "data": {
      "text/plain": [
       "tensor([[True],\n",
       "        [True],\n",
       "        [True],\n",
       "        [True]])"
      ]
     },
     "execution_count": 286,
     "metadata": {},
     "output_type": "execute_result"
    }
   ],
   "source": [
    "(preds>0.0).float() == train_y[:4]"
   ]
  },
  {
   "attachments": {},
   "cell_type": "markdown",
   "metadata": {},
   "source": [
    "That gives this func. to calculate validation accuracy:"
   ]
  },
  {
   "cell_type": "code",
   "execution_count": 287,
   "metadata": {},
   "outputs": [],
   "source": [
    "def batch_accuracy(xb, yb):\n",
    "    preds = xb.sigmoid()\n",
    "    correct = (preds>0.5) == yb\n",
    "    return correct.float().mean()"
   ]
  },
  {
   "attachments": {},
   "cell_type": "markdown",
   "metadata": {},
   "source": [
    "We can check if it works:\n"
   ]
  },
  {
   "cell_type": "code",
   "execution_count": 288,
   "metadata": {},
   "outputs": [
    {
     "data": {
      "text/plain": [
       "tensor(1.)"
      ]
     },
     "execution_count": 288,
     "metadata": {},
     "output_type": "execute_result"
    }
   ],
   "source": [
    "batch_accuracy(linear1(batch), train_y[:4])\n"
   ]
  },
  {
   "attachments": {},
   "cell_type": "markdown",
   "metadata": {},
   "source": [
    "and then put batches back together"
   ]
  },
  {
   "cell_type": "code",
   "execution_count": 289,
   "metadata": {},
   "outputs": [],
   "source": [
    "def validate_epoch(model):\n",
    "    accs = [batch_accuracy(model(xb), yb) for xb,yb in valid_dl]\n",
    "    return round(torch.stack(accs).mean().item(), 4)"
   ]
  },
  {
   "cell_type": "code",
   "execution_count": 290,
   "metadata": {},
   "outputs": [
    {
     "data": {
      "text/plain": [
       "0.5184"
      ]
     },
     "execution_count": 290,
     "metadata": {},
     "output_type": "execute_result"
    }
   ],
   "source": [
    "validate_epoch(linear1)"
   ]
  },
  {
   "attachments": {},
   "cell_type": "markdown",
   "metadata": {},
   "source": [
    "That's the starting point\n",
    "\n",
    "Now train for one epoch and see if the accuracy improves\n"
   ]
  },
  {
   "cell_type": "code",
   "execution_count": 291,
   "metadata": {},
   "outputs": [
    {
     "data": {
      "text/plain": [
       "0.641"
      ]
     },
     "execution_count": 291,
     "metadata": {},
     "output_type": "execute_result"
    }
   ],
   "source": [
    "lr = 1.\n",
    "params = weights,bias\n",
    "train_epoch(linear1, lr, params)\n",
    "validate_epoch(linear1)"
   ]
  },
  {
   "attachments": {},
   "cell_type": "markdown",
   "metadata": {},
   "source": [
    "Then a few more"
   ]
  },
  {
   "cell_type": "code",
   "execution_count": 292,
   "metadata": {},
   "outputs": [
    {
     "name": "stdout",
     "output_type": "stream",
     "text": [
      "0.8462 0.9169 0.9413 0.9536 0.9609 0.9628 0.9648 0.9677 0.9687 0.9696 0.9706 0.9711 0.9711 0.9711 0.9725 0.9725 0.973 0.9735 0.9745 0.9755 "
     ]
    }
   ],
   "source": [
    "for i in range(20):\n",
    "    train_epoch(linear1, lr, params)\n",
    "    print(validate_epoch(linear1), end=' ')"
   ]
  },
  {
   "attachments": {},
   "cell_type": "markdown",
   "metadata": {},
   "source": [
    "Looks about right\n",
    "\n",
    "We're at the same accuracy as our \"pixel similarity approach\" \n",
    "\n",
    "and we've creaed a general purpose foundation we can build on\n",
    "\n",
    "Next step is to create an object that will handle the SGD step for us\n",
    "\n",
    "In pytorch it's called an *optimizer*\n"
   ]
  },
  {
   "attachments": {},
   "cell_type": "markdown",
   "metadata": {},
   "source": [
    "### Creating an Optimizer"
   ]
  }
 ],
 "metadata": {
  "kernelspec": {
   "display_name": "base",
   "language": "python",
   "name": "python3"
  },
  "language_info": {
   "codemirror_mode": {
    "name": "ipython",
    "version": 3
   },
   "file_extension": ".py",
   "mimetype": "text/x-python",
   "name": "python",
   "nbconvert_exporter": "python",
   "pygments_lexer": "ipython3",
   "version": "3.10.6"
  },
  "orig_nbformat": 4,
  "vscode": {
   "interpreter": {
    "hash": "f4702a165a03ade35e40e0221d250a3a44a346cfc16a49ce6d051d1595069b46"
   }
  }
 },
 "nbformat": 4,
 "nbformat_minor": 2
}
