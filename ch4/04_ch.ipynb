{
 "cells": [
  {
   "cell_type": "code",
   "execution_count": 2,
   "metadata": {},
   "outputs": [],
   "source": [
    "import fastbook\n",
    "fastbook.setup_book()"
   ]
  },
  {
   "cell_type": "code",
   "execution_count": 3,
   "metadata": {},
   "outputs": [],
   "source": [
    "from fastai.vision.all import *\n",
    "from fastbook import *\n",
    "\n",
    "matplotlib.rc('image', cmap='Greys')"
   ]
  },
  {
   "attachments": {},
   "cell_type": "markdown",
   "metadata": {},
   "source": [
    "## Creating a \"3 or 7\" Image Classifier "
   ]
  },
  {
   "attachments": {},
   "cell_type": "markdown",
   "metadata": {},
   "source": [
    "Download a sample of MNIST that contains images of just these digits"
   ]
  },
  {
   "cell_type": "code",
   "execution_count": null,
   "metadata": {},
   "outputs": [],
   "source": []
  },
  {
   "attachments": {},
   "cell_type": "markdown",
   "metadata": {},
   "source": [
    "assign unzipped data to path.\n",
    "URLs provides methods that grab from a provided list of urls"
   ]
  },
  {
   "cell_type": "code",
   "execution_count": 4,
   "metadata": {},
   "outputs": [],
   "source": [
    "path = untar_data(URLs.MNIST_SAMPLE)"
   ]
  },
  {
   "attachments": {},
   "cell_type": "markdown",
   "metadata": {},
   "source": [
    "Path class inherits from \"Purepath\" and can make system calls. Returns a posix or windows path\n",
    "\n",
    "assign path to Path at BASE_PATH"
   ]
  },
  {
   "cell_type": "code",
   "execution_count": 5,
   "metadata": {},
   "outputs": [],
   "source": [
    "Path.BASE_PATH = path"
   ]
  },
  {
   "attachments": {},
   "cell_type": "markdown",
   "metadata": {},
   "source": [
    "seeing what's inside with bash commands provided by fastai methods"
   ]
  },
  {
   "cell_type": "code",
   "execution_count": 6,
   "metadata": {},
   "outputs": [
    {
     "data": {
      "text/plain": [
       "(#3) [Path('labels.csv'),Path('valid'),Path('train')]"
      ]
     },
     "execution_count": 6,
     "metadata": {},
     "output_type": "execute_result"
    }
   ],
   "source": [
    "path.ls()"
   ]
  },
  {
   "cell_type": "code",
   "execution_count": 7,
   "metadata": {},
   "outputs": [
    {
     "data": {
      "text/plain": [
       "(#2) [Path('train/7'),Path('train/3')]"
      ]
     },
     "execution_count": 7,
     "metadata": {},
     "output_type": "execute_result"
    }
   ],
   "source": [
    "(path/'train').ls()"
   ]
  },
  {
   "attachments": {},
   "cell_type": "markdown",
   "metadata": {},
   "source": [
    "two folders in path - 3's and 7's\n",
    "assign each, using sorted provided by fastai"
   ]
  },
  {
   "cell_type": "code",
   "execution_count": 8,
   "metadata": {},
   "outputs": [
    {
     "data": {
      "text/plain": [
       "(#6265) [Path('train/7/10002.png'),Path('train/7/1001.png'),Path('train/7/10014.png'),Path('train/7/10019.png'),Path('train/7/10039.png'),Path('train/7/10046.png'),Path('train/7/10050.png'),Path('train/7/10063.png'),Path('train/7/10077.png'),Path('train/7/10086.png')...]"
      ]
     },
     "execution_count": 8,
     "metadata": {},
     "output_type": "execute_result"
    }
   ],
   "source": [
    "threes = (path/'train/3').ls().sorted()\n",
    "sevens = (path/'train/7').ls().sorted()\n",
    "sevens"
   ]
  },
  {
   "attachments": {},
   "cell_type": "markdown",
   "metadata": {},
   "source": [
    "Show an image of a 7 from MNIST using image class from PIL"
   ]
  },
  {
   "cell_type": "code",
   "execution_count": 9,
   "metadata": {},
   "outputs": [
    {
     "data": {
      "image/png": "[encoded data removed]",
      "text/plain": [
       "<PIL.PngImagePlugin.PngImageFile image mode=L size=28x28>"
      ]
     },
     "execution_count": 9,
     "metadata": {},
     "output_type": "execute_result"
    }
   ],
   "source": [
    "im7_path = sevens[3]\n",
    "im7 = Image.open(im7_path)\n",
    "im7"
   ]
  },
  {
   "attachments": {},
   "cell_type": "markdown",
   "metadata": {},
   "source": [
    "view the above image represented as a number\n",
    "convert to numpy array and request rows from index 4 to index 10\n",
    "and request columns from index 4 to index 10"
   ]
  },
  {
   "cell_type": "code",
   "execution_count": 10,
   "metadata": {},
   "outputs": [
    {
     "data": {
      "text/plain": [
       "array([[  0,   0,   0,   0,   0,   0],\n",
       "       [  0,   0,   0,   0,   0,   0],\n",
       "       [  0,   0,   0,   0,   0,   0],\n",
       "       [  0,   0,   0,   0,   0,   0],\n",
       "       [  0,   0,   0,   0,   0,  19],\n",
       "       [  0,   0,   0,   0,  13, 144]], dtype=uint8)"
      ]
     },
     "execution_count": 10,
     "metadata": {},
     "output_type": "execute_result"
    }
   ],
   "source": [
    "array(im7)[4:10,4:10]"
   ]
  },
  {
   "attachments": {},
   "cell_type": "markdown",
   "metadata": {},
   "source": [
    "Now the same for a pytorch tensor"
   ]
  },
  {
   "cell_type": "code",
   "execution_count": 11,
   "metadata": {},
   "outputs": [
    {
     "data": {
      "text/plain": [
       "tensor([[  0,   0,   0,   0,   0,   0],\n",
       "        [  0,   0,   0,   0,   0,   0],\n",
       "        [  0,   0,   0,   0,   0,   0],\n",
       "        [  0,   0,   0,   0,   0,   0],\n",
       "        [  0,   0,   0,   0,   0,  19],\n",
       "        [  0,   0,   0,   0,  13, 144]], dtype=torch.uint8)"
      ]
     },
     "execution_count": 11,
     "metadata": {},
     "output_type": "execute_result"
    }
   ],
   "source": [
    "tensor(im7)[4:10,4:10]"
   ]
  },
  {
   "attachments": {},
   "cell_type": "markdown",
   "metadata": {},
   "source": [
    "create a tensor object\n",
    "slice and assign to dataframe\n",
    "set font size and color"
   ]
  },
  {
   "cell_type": "code",
   "execution_count": 12,
   "metadata": {},
   "outputs": [
    {
     "data": {
      "text/html": [
       "<style type=\"text/css\">\n",
       "#T_9444c_row0_col0, #T_9444c_row0_col1, #T_9444c_row0_col2, #T_9444c_row0_col3, #T_9444c_row0_col4, #T_9444c_row0_col5, #T_9444c_row0_col6, #T_9444c_row0_col7, #T_9444c_row0_col8, #T_9444c_row0_col9, #T_9444c_row0_col10, #T_9444c_row0_col11, #T_9444c_row0_col12, #T_9444c_row0_col13, #T_9444c_row0_col14, #T_9444c_row0_col15, #T_9444c_row0_col16, #T_9444c_row0_col17, #T_9444c_row1_col0, #T_9444c_row1_col1, #T_9444c_row1_col2, #T_9444c_row1_col3, #T_9444c_row1_col4, #T_9444c_row1_col5, #T_9444c_row1_col6, #T_9444c_row1_col7, #T_9444c_row1_col8, #T_9444c_row1_col9, #T_9444c_row1_col10, #T_9444c_row1_col11, #T_9444c_row1_col12, #T_9444c_row1_col13, #T_9444c_row1_col14, #T_9444c_row1_col15, #T_9444c_row1_col16, #T_9444c_row1_col17, #T_9444c_row2_col0, #T_9444c_row2_col1, #T_9444c_row2_col2, #T_9444c_row2_col3, #T_9444c_row2_col4, #T_9444c_row2_col5, #T_9444c_row2_col6, #T_9444c_row2_col7, #T_9444c_row2_col14, #T_9444c_row2_col15, #T_9444c_row2_col16, #T_9444c_row2_col17, #T_9444c_row3_col0, #T_9444c_row3_col1, #T_9444c_row3_col2, #T_9444c_row3_col3, #T_9444c_row3_col4, #T_9444c_row3_col5, #T_9444c_row3_col6, #T_9444c_row3_col16, #T_9444c_row3_col17, #T_9444c_row4_col0, #T_9444c_row4_col1, #T_9444c_row4_col2, #T_9444c_row4_col3, #T_9444c_row4_col4, #T_9444c_row4_col17, #T_9444c_row5_col0, #T_9444c_row5_col1, #T_9444c_row5_col2, #T_9444c_row5_col3, #T_9444c_row5_col12, #T_9444c_row5_col17, #T_9444c_row6_col0, #T_9444c_row6_col1, #T_9444c_row6_col2, #T_9444c_row6_col3, #T_9444c_row6_col10, #T_9444c_row6_col11, #T_9444c_row6_col12, #T_9444c_row6_col17, #T_9444c_row7_col0, #T_9444c_row7_col1, #T_9444c_row7_col2, #T_9444c_row7_col9, #T_9444c_row7_col10, #T_9444c_row7_col11, #T_9444c_row7_col12, #T_9444c_row7_col17, #T_9444c_row8_col0, #T_9444c_row8_col1, #T_9444c_row8_col2, #T_9444c_row8_col8, #T_9444c_row8_col9, #T_9444c_row8_col10, #T_9444c_row8_col11, #T_9444c_row8_col12, #T_9444c_row8_col17, #T_9444c_row9_col0, #T_9444c_row9_col1, #T_9444c_row9_col2, #T_9444c_row9_col7, #T_9444c_row9_col8, #T_9444c_row9_col9, #T_9444c_row9_col10, #T_9444c_row9_col11, #T_9444c_row9_col16, #T_9444c_row9_col17, #T_9444c_row10_col0, #T_9444c_row10_col1, #T_9444c_row10_col2, #T_9444c_row10_col3, #T_9444c_row10_col4, #T_9444c_row10_col5, #T_9444c_row10_col6, #T_9444c_row10_col7, #T_9444c_row10_col8, #T_9444c_row10_col9, #T_9444c_row10_col10, #T_9444c_row10_col11, #T_9444c_row10_col16, #T_9444c_row10_col17 {\n",
       "  font-size: 6pt;\n",
       "  background-color: #ffffff;\n",
       "  color: #000000;\n",
       "}\n",
       "#T_9444c_row2_col8, #T_9444c_row9_col3 {\n",
       "  font-size: 6pt;\n",
       "  background-color: #f1f1f1;\n",
       "  color: #000000;\n",
       "}\n",
       "#T_9444c_row2_col9 {\n",
       "  font-size: 6pt;\n",
       "  background-color: #b2b2b2;\n",
       "  color: #000000;\n",
       "}\n",
       "#T_9444c_row2_col10 {\n",
       "  font-size: 6pt;\n",
       "  background-color: #858585;\n",
       "  color: #f1f1f1;\n",
       "}\n",
       "#T_9444c_row2_col11 {\n",
       "  font-size: 6pt;\n",
       "  background-color: #0d0d0d;\n",
       "  color: #f1f1f1;\n",
       "}\n",
       "#T_9444c_row2_col12 {\n",
       "  font-size: 6pt;\n",
       "  background-color: #4e4e4e;\n",
       "  color: #f1f1f1;\n",
       "}\n",
       "#T_9444c_row2_col13 {\n",
       "  font-size: 6pt;\n",
       "  background-color: #dcdcdc;\n",
       "  color: #000000;\n",
       "}\n",
       "#T_9444c_row3_col7 {\n",
       "  font-size: 6pt;\n",
       "  background-color: #b5b5b5;\n",
       "  color: #000000;\n",
       "}\n",
       "#T_9444c_row3_col8, #T_9444c_row3_col9, #T_9444c_row3_col10, #T_9444c_row3_col11, #T_9444c_row3_col12, #T_9444c_row4_col8, #T_9444c_row4_col9, #T_9444c_row4_col10, #T_9444c_row4_col14, #T_9444c_row5_col8, #T_9444c_row6_col5, #T_9444c_row6_col6, #T_9444c_row6_col7, #T_9444c_row6_col15, #T_9444c_row6_col16, #T_9444c_row7_col4, #T_9444c_row7_col14, #T_9444c_row8_col3, #T_9444c_row8_col4, #T_9444c_row8_col14, #T_9444c_row9_col14, #T_9444c_row10_col13 {\n",
       "  font-size: 6pt;\n",
       "  background-color: #000000;\n",
       "  color: #f1f1f1;\n",
       "}\n",
       "#T_9444c_row3_col13 {\n",
       "  font-size: 6pt;\n",
       "  background-color: #161616;\n",
       "  color: #f1f1f1;\n",
       "}\n",
       "#T_9444c_row3_col14 {\n",
       "  font-size: 6pt;\n",
       "  background-color: #909090;\n",
       "  color: #f1f1f1;\n",
       "}\n",
       "#T_9444c_row3_col15 {\n",
       "  font-size: 6pt;\n",
       "  background-color: #f0f0f0;\n",
       "  color: #000000;\n",
       "}\n",
       "#T_9444c_row4_col5 {\n",
       "  font-size: 6pt;\n",
       "  background-color: #f6f6f6;\n",
       "  color: #000000;\n",
       "}\n",
       "#T_9444c_row4_col6 {\n",
       "  font-size: 6pt;\n",
       "  background-color: #9a9a9a;\n",
       "  color: #f1f1f1;\n",
       "}\n",
       "#T_9444c_row4_col7 {\n",
       "  font-size: 6pt;\n",
       "  background-color: #080808;\n",
       "  color: #f1f1f1;\n",
       "}\n",
       "#T_9444c_row4_col11 {\n",
       "  font-size: 6pt;\n",
       "  background-color: #5f5f5f;\n",
       "  color: #f1f1f1;\n",
       "}\n",
       "#T_9444c_row4_col12 {\n",
       "  font-size: 6pt;\n",
       "  background-color: #9f9f9f;\n",
       "  color: #f1f1f1;\n",
       "}\n",
       "#T_9444c_row4_col13 {\n",
       "  font-size: 6pt;\n",
       "  background-color: #222222;\n",
       "  color: #f1f1f1;\n",
       "}\n",
       "#T_9444c_row4_col15, #T_9444c_row5_col9 {\n",
       "  font-size: 6pt;\n",
       "  background-color: #1d1d1d;\n",
       "  color: #f1f1f1;\n",
       "}\n",
       "#T_9444c_row4_col16 {\n",
       "  font-size: 6pt;\n",
       "  background-color: #c6c6c6;\n",
       "  color: #000000;\n",
       "}\n",
       "#T_9444c_row5_col4, #T_9444c_row9_col12 {\n",
       "  font-size: 6pt;\n",
       "  background-color: #f9f9f9;\n",
       "  color: #000000;\n",
       "}\n",
       "#T_9444c_row5_col5 {\n",
       "  font-size: 6pt;\n",
       "  background-color: #838383;\n",
       "  color: #f1f1f1;\n",
       "}\n",
       "#T_9444c_row5_col6, #T_9444c_row5_col7, #T_9444c_row5_col15, #T_9444c_row7_col5, #T_9444c_row7_col6, #T_9444c_row7_col15, #T_9444c_row8_col5, #T_9444c_row8_col15 {\n",
       "  font-size: 6pt;\n",
       "  background-color: #010101;\n",
       "  color: #f1f1f1;\n",
       "}\n",
       "#T_9444c_row5_col10 {\n",
       "  font-size: 6pt;\n",
       "  background-color: #b3b3b3;\n",
       "  color: #000000;\n",
       "}\n",
       "#T_9444c_row5_col11 {\n",
       "  font-size: 6pt;\n",
       "  background-color: #fefefe;\n",
       "  color: #000000;\n",
       "}\n",
       "#T_9444c_row5_col13 {\n",
       "  font-size: 6pt;\n",
       "  background-color: #e7e7e7;\n",
       "  color: #000000;\n",
       "}\n",
       "#T_9444c_row5_col14 {\n",
       "  font-size: 6pt;\n",
       "  background-color: #1c1c1c;\n",
       "  color: #f1f1f1;\n",
       "}\n",
       "#T_9444c_row5_col16, #T_9444c_row7_col16 {\n",
       "  font-size: 6pt;\n",
       "  background-color: #020202;\n",
       "  color: #f1f1f1;\n",
       "}\n",
       "#T_9444c_row6_col4, #T_9444c_row10_col12 {\n",
       "  font-size: 6pt;\n",
       "  background-color: #787878;\n",
       "  color: #f1f1f1;\n",
       "}\n",
       "#T_9444c_row6_col8 {\n",
       "  font-size: 6pt;\n",
       "  background-color: #101010;\n",
       "  color: #f1f1f1;\n",
       "}\n",
       "#T_9444c_row6_col9 {\n",
       "  font-size: 6pt;\n",
       "  background-color: #cecece;\n",
       "  color: #000000;\n",
       "}\n",
       "#T_9444c_row6_col13, #T_9444c_row9_col6 {\n",
       "  font-size: 6pt;\n",
       "  background-color: #fcfcfc;\n",
       "  color: #000000;\n",
       "}\n",
       "#T_9444c_row6_col14 {\n",
       "  font-size: 6pt;\n",
       "  background-color: #3c3c3c;\n",
       "  color: #f1f1f1;\n",
       "}\n",
       "#T_9444c_row7_col3 {\n",
       "  font-size: 6pt;\n",
       "  background-color: #666666;\n",
       "  color: #f1f1f1;\n",
       "}\n",
       "#T_9444c_row7_col7 {\n",
       "  font-size: 6pt;\n",
       "  background-color: #1e1e1e;\n",
       "  color: #f1f1f1;\n",
       "}\n",
       "#T_9444c_row7_col8 {\n",
       "  font-size: 6pt;\n",
       "  background-color: #c3c3c3;\n",
       "  color: #000000;\n",
       "}\n",
       "#T_9444c_row7_col13 {\n",
       "  font-size: 6pt;\n",
       "  background-color: #dedede;\n",
       "  color: #000000;\n",
       "}\n",
       "#T_9444c_row8_col6 {\n",
       "  font-size: 6pt;\n",
       "  background-color: #555555;\n",
       "  color: #f1f1f1;\n",
       "}\n",
       "#T_9444c_row8_col7 {\n",
       "  font-size: 6pt;\n",
       "  background-color: #e8e8e8;\n",
       "  color: #000000;\n",
       "}\n",
       "#T_9444c_row8_col13 {\n",
       "  font-size: 6pt;\n",
       "  background-color: #bdbdbd;\n",
       "  color: #000000;\n",
       "}\n",
       "#T_9444c_row8_col16 {\n",
       "  font-size: 6pt;\n",
       "  background-color: #dfdfdf;\n",
       "  color: #000000;\n",
       "}\n",
       "#T_9444c_row9_col4 {\n",
       "  font-size: 6pt;\n",
       "  background-color: #878787;\n",
       "  color: #f1f1f1;\n",
       "}\n",
       "#T_9444c_row9_col5 {\n",
       "  font-size: 6pt;\n",
       "  background-color: #a4a4a4;\n",
       "  color: #f1f1f1;\n",
       "}\n",
       "#T_9444c_row9_col13 {\n",
       "  font-size: 6pt;\n",
       "  background-color: #3a3a3a;\n",
       "  color: #f1f1f1;\n",
       "}\n",
       "#T_9444c_row9_col15 {\n",
       "  font-size: 6pt;\n",
       "  background-color: #b4b4b4;\n",
       "  color: #000000;\n",
       "}\n",
       "#T_9444c_row10_col14 {\n",
       "  font-size: 6pt;\n",
       "  background-color: #090909;\n",
       "  color: #f1f1f1;\n",
       "}\n",
       "#T_9444c_row10_col15 {\n",
       "  font-size: 6pt;\n",
       "  background-color: #f3f3f3;\n",
       "  color: #000000;\n",
       "}\n",
       "</style>\n",
       "<table id=\"T_9444c\">\n",
       "  <thead>\n",
       "    <tr>\n",
       "      <th class=\"blank level0\" >&nbsp;</th>\n",
       "      <th id=\"T_9444c_level0_col0\" class=\"col_heading level0 col0\" >0</th>\n",
       "      <th id=\"T_9444c_level0_col1\" class=\"col_heading level0 col1\" >1</th>\n",
       "      <th id=\"T_9444c_level0_col2\" class=\"col_heading level0 col2\" >2</th>\n",
       "      <th id=\"T_9444c_level0_col3\" class=\"col_heading level0 col3\" >3</th>\n",
       "      <th id=\"T_9444c_level0_col4\" class=\"col_heading level0 col4\" >4</th>\n",
       "      <th id=\"T_9444c_level0_col5\" class=\"col_heading level0 col5\" >5</th>\n",
       "      <th id=\"T_9444c_level0_col6\" class=\"col_heading level0 col6\" >6</th>\n",
       "      <th id=\"T_9444c_level0_col7\" class=\"col_heading level0 col7\" >7</th>\n",
       "      <th id=\"T_9444c_level0_col8\" class=\"col_heading level0 col8\" >8</th>\n",
       "      <th id=\"T_9444c_level0_col9\" class=\"col_heading level0 col9\" >9</th>\n",
       "      <th id=\"T_9444c_level0_col10\" class=\"col_heading level0 col10\" >10</th>\n",
       "      <th id=\"T_9444c_level0_col11\" class=\"col_heading level0 col11\" >11</th>\n",
       "      <th id=\"T_9444c_level0_col12\" class=\"col_heading level0 col12\" >12</th>\n",
       "      <th id=\"T_9444c_level0_col13\" class=\"col_heading level0 col13\" >13</th>\n",
       "      <th id=\"T_9444c_level0_col14\" class=\"col_heading level0 col14\" >14</th>\n",
       "      <th id=\"T_9444c_level0_col15\" class=\"col_heading level0 col15\" >15</th>\n",
       "      <th id=\"T_9444c_level0_col16\" class=\"col_heading level0 col16\" >16</th>\n",
       "      <th id=\"T_9444c_level0_col17\" class=\"col_heading level0 col17\" >17</th>\n",
       "    </tr>\n",
       "  </thead>\n",
       "  <tbody>\n",
       "    <tr>\n",
       "      <th id=\"T_9444c_level0_row0\" class=\"row_heading level0 row0\" >0</th>\n",
       "      <td id=\"T_9444c_row0_col0\" class=\"data row0 col0\" >0</td>\n",
       "      <td id=\"T_9444c_row0_col1\" class=\"data row0 col1\" >0</td>\n",
       "      <td id=\"T_9444c_row0_col2\" class=\"data row0 col2\" >0</td>\n",
       "      <td id=\"T_9444c_row0_col3\" class=\"data row0 col3\" >0</td>\n",
       "      <td id=\"T_9444c_row0_col4\" class=\"data row0 col4\" >0</td>\n",
       "      <td id=\"T_9444c_row0_col5\" class=\"data row0 col5\" >0</td>\n",
       "      <td id=\"T_9444c_row0_col6\" class=\"data row0 col6\" >0</td>\n",
       "      <td id=\"T_9444c_row0_col7\" class=\"data row0 col7\" >0</td>\n",
       "      <td id=\"T_9444c_row0_col8\" class=\"data row0 col8\" >0</td>\n",
       "      <td id=\"T_9444c_row0_col9\" class=\"data row0 col9\" >0</td>\n",
       "      <td id=\"T_9444c_row0_col10\" class=\"data row0 col10\" >0</td>\n",
       "      <td id=\"T_9444c_row0_col11\" class=\"data row0 col11\" >0</td>\n",
       "      <td id=\"T_9444c_row0_col12\" class=\"data row0 col12\" >0</td>\n",
       "      <td id=\"T_9444c_row0_col13\" class=\"data row0 col13\" >0</td>\n",
       "      <td id=\"T_9444c_row0_col14\" class=\"data row0 col14\" >0</td>\n",
       "      <td id=\"T_9444c_row0_col15\" class=\"data row0 col15\" >0</td>\n",
       "      <td id=\"T_9444c_row0_col16\" class=\"data row0 col16\" >0</td>\n",
       "      <td id=\"T_9444c_row0_col17\" class=\"data row0 col17\" >0</td>\n",
       "    </tr>\n",
       "    <tr>\n",
       "      <th id=\"T_9444c_level0_row1\" class=\"row_heading level0 row1\" >1</th>\n",
       "      <td id=\"T_9444c_row1_col0\" class=\"data row1 col0\" >0</td>\n",
       "      <td id=\"T_9444c_row1_col1\" class=\"data row1 col1\" >0</td>\n",
       "      <td id=\"T_9444c_row1_col2\" class=\"data row1 col2\" >0</td>\n",
       "      <td id=\"T_9444c_row1_col3\" class=\"data row1 col3\" >0</td>\n",
       "      <td id=\"T_9444c_row1_col4\" class=\"data row1 col4\" >0</td>\n",
       "      <td id=\"T_9444c_row1_col5\" class=\"data row1 col5\" >0</td>\n",
       "      <td id=\"T_9444c_row1_col6\" class=\"data row1 col6\" >0</td>\n",
       "      <td id=\"T_9444c_row1_col7\" class=\"data row1 col7\" >0</td>\n",
       "      <td id=\"T_9444c_row1_col8\" class=\"data row1 col8\" >0</td>\n",
       "      <td id=\"T_9444c_row1_col9\" class=\"data row1 col9\" >0</td>\n",
       "      <td id=\"T_9444c_row1_col10\" class=\"data row1 col10\" >0</td>\n",
       "      <td id=\"T_9444c_row1_col11\" class=\"data row1 col11\" >0</td>\n",
       "      <td id=\"T_9444c_row1_col12\" class=\"data row1 col12\" >0</td>\n",
       "      <td id=\"T_9444c_row1_col13\" class=\"data row1 col13\" >0</td>\n",
       "      <td id=\"T_9444c_row1_col14\" class=\"data row1 col14\" >0</td>\n",
       "      <td id=\"T_9444c_row1_col15\" class=\"data row1 col15\" >0</td>\n",
       "      <td id=\"T_9444c_row1_col16\" class=\"data row1 col16\" >0</td>\n",
       "      <td id=\"T_9444c_row1_col17\" class=\"data row1 col17\" >0</td>\n",
       "    </tr>\n",
       "    <tr>\n",
       "      <th id=\"T_9444c_level0_row2\" class=\"row_heading level0 row2\" >2</th>\n",
       "      <td id=\"T_9444c_row2_col0\" class=\"data row2 col0\" >0</td>\n",
       "      <td id=\"T_9444c_row2_col1\" class=\"data row2 col1\" >0</td>\n",
       "      <td id=\"T_9444c_row2_col2\" class=\"data row2 col2\" >0</td>\n",
       "      <td id=\"T_9444c_row2_col3\" class=\"data row2 col3\" >0</td>\n",
       "      <td id=\"T_9444c_row2_col4\" class=\"data row2 col4\" >0</td>\n",
       "      <td id=\"T_9444c_row2_col5\" class=\"data row2 col5\" >0</td>\n",
       "      <td id=\"T_9444c_row2_col6\" class=\"data row2 col6\" >0</td>\n",
       "      <td id=\"T_9444c_row2_col7\" class=\"data row2 col7\" >0</td>\n",
       "      <td id=\"T_9444c_row2_col8\" class=\"data row2 col8\" >29</td>\n",
       "      <td id=\"T_9444c_row2_col9\" class=\"data row2 col9\" >104</td>\n",
       "      <td id=\"T_9444c_row2_col10\" class=\"data row2 col10\" >141</td>\n",
       "      <td id=\"T_9444c_row2_col11\" class=\"data row2 col11\" >241</td>\n",
       "      <td id=\"T_9444c_row2_col12\" class=\"data row2 col12\" >192</td>\n",
       "      <td id=\"T_9444c_row2_col13\" class=\"data row2 col13\" >60</td>\n",
       "      <td id=\"T_9444c_row2_col14\" class=\"data row2 col14\" >0</td>\n",
       "      <td id=\"T_9444c_row2_col15\" class=\"data row2 col15\" >0</td>\n",
       "      <td id=\"T_9444c_row2_col16\" class=\"data row2 col16\" >0</td>\n",
       "      <td id=\"T_9444c_row2_col17\" class=\"data row2 col17\" >0</td>\n",
       "    </tr>\n",
       "    <tr>\n",
       "      <th id=\"T_9444c_level0_row3\" class=\"row_heading level0 row3\" >3</th>\n",
       "      <td id=\"T_9444c_row3_col0\" class=\"data row3 col0\" >0</td>\n",
       "      <td id=\"T_9444c_row3_col1\" class=\"data row3 col1\" >0</td>\n",
       "      <td id=\"T_9444c_row3_col2\" class=\"data row3 col2\" >0</td>\n",
       "      <td id=\"T_9444c_row3_col3\" class=\"data row3 col3\" >0</td>\n",
       "      <td id=\"T_9444c_row3_col4\" class=\"data row3 col4\" >0</td>\n",
       "      <td id=\"T_9444c_row3_col5\" class=\"data row3 col5\" >0</td>\n",
       "      <td id=\"T_9444c_row3_col6\" class=\"data row3 col6\" >0</td>\n",
       "      <td id=\"T_9444c_row3_col7\" class=\"data row3 col7\" >101</td>\n",
       "      <td id=\"T_9444c_row3_col8\" class=\"data row3 col8\" >253</td>\n",
       "      <td id=\"T_9444c_row3_col9\" class=\"data row3 col9\" >252</td>\n",
       "      <td id=\"T_9444c_row3_col10\" class=\"data row3 col10\" >252</td>\n",
       "      <td id=\"T_9444c_row3_col11\" class=\"data row3 col11\" >252</td>\n",
       "      <td id=\"T_9444c_row3_col12\" class=\"data row3 col12\" >253</td>\n",
       "      <td id=\"T_9444c_row3_col13\" class=\"data row3 col13\" >234</td>\n",
       "      <td id=\"T_9444c_row3_col14\" class=\"data row3 col14\" >131</td>\n",
       "      <td id=\"T_9444c_row3_col15\" class=\"data row3 col15\" >32</td>\n",
       "      <td id=\"T_9444c_row3_col16\" class=\"data row3 col16\" >0</td>\n",
       "      <td id=\"T_9444c_row3_col17\" class=\"data row3 col17\" >0</td>\n",
       "    </tr>\n",
       "    <tr>\n",
       "      <th id=\"T_9444c_level0_row4\" class=\"row_heading level0 row4\" >4</th>\n",
       "      <td id=\"T_9444c_row4_col0\" class=\"data row4 col0\" >0</td>\n",
       "      <td id=\"T_9444c_row4_col1\" class=\"data row4 col1\" >0</td>\n",
       "      <td id=\"T_9444c_row4_col2\" class=\"data row4 col2\" >0</td>\n",
       "      <td id=\"T_9444c_row4_col3\" class=\"data row4 col3\" >0</td>\n",
       "      <td id=\"T_9444c_row4_col4\" class=\"data row4 col4\" >0</td>\n",
       "      <td id=\"T_9444c_row4_col5\" class=\"data row4 col5\" >19</td>\n",
       "      <td id=\"T_9444c_row4_col6\" class=\"data row4 col6\" >123</td>\n",
       "      <td id=\"T_9444c_row4_col7\" class=\"data row4 col7\" >246</td>\n",
       "      <td id=\"T_9444c_row4_col8\" class=\"data row4 col8\" >253</td>\n",
       "      <td id=\"T_9444c_row4_col9\" class=\"data row4 col9\" >252</td>\n",
       "      <td id=\"T_9444c_row4_col10\" class=\"data row4 col10\" >252</td>\n",
       "      <td id=\"T_9444c_row4_col11\" class=\"data row4 col11\" >177</td>\n",
       "      <td id=\"T_9444c_row4_col12\" class=\"data row4 col12\" >119</td>\n",
       "      <td id=\"T_9444c_row4_col13\" class=\"data row4 col13\" >224</td>\n",
       "      <td id=\"T_9444c_row4_col14\" class=\"data row4 col14\" >252</td>\n",
       "      <td id=\"T_9444c_row4_col15\" class=\"data row4 col15\" >228</td>\n",
       "      <td id=\"T_9444c_row4_col16\" class=\"data row4 col16\" >38</td>\n",
       "      <td id=\"T_9444c_row4_col17\" class=\"data row4 col17\" >0</td>\n",
       "    </tr>\n",
       "    <tr>\n",
       "      <th id=\"T_9444c_level0_row5\" class=\"row_heading level0 row5\" >5</th>\n",
       "      <td id=\"T_9444c_row5_col0\" class=\"data row5 col0\" >0</td>\n",
       "      <td id=\"T_9444c_row5_col1\" class=\"data row5 col1\" >0</td>\n",
       "      <td id=\"T_9444c_row5_col2\" class=\"data row5 col2\" >0</td>\n",
       "      <td id=\"T_9444c_row5_col3\" class=\"data row5 col3\" >0</td>\n",
       "      <td id=\"T_9444c_row5_col4\" class=\"data row5 col4\" >13</td>\n",
       "      <td id=\"T_9444c_row5_col5\" class=\"data row5 col5\" >144</td>\n",
       "      <td id=\"T_9444c_row5_col6\" class=\"data row5 col6\" >252</td>\n",
       "      <td id=\"T_9444c_row5_col7\" class=\"data row5 col7\" >252</td>\n",
       "      <td id=\"T_9444c_row5_col8\" class=\"data row5 col8\" >253</td>\n",
       "      <td id=\"T_9444c_row5_col9\" class=\"data row5 col9\" >227</td>\n",
       "      <td id=\"T_9444c_row5_col10\" class=\"data row5 col10\" >103</td>\n",
       "      <td id=\"T_9444c_row5_col11\" class=\"data row5 col11\" >3</td>\n",
       "      <td id=\"T_9444c_row5_col12\" class=\"data row5 col12\" >0</td>\n",
       "      <td id=\"T_9444c_row5_col13\" class=\"data row5 col13\" >44</td>\n",
       "      <td id=\"T_9444c_row5_col14\" class=\"data row5 col14\" >228</td>\n",
       "      <td id=\"T_9444c_row5_col15\" class=\"data row5 col15\" >252</td>\n",
       "      <td id=\"T_9444c_row5_col16\" class=\"data row5 col16\" >113</td>\n",
       "      <td id=\"T_9444c_row5_col17\" class=\"data row5 col17\" >0</td>\n",
       "    </tr>\n",
       "    <tr>\n",
       "      <th id=\"T_9444c_level0_row6\" class=\"row_heading level0 row6\" >6</th>\n",
       "      <td id=\"T_9444c_row6_col0\" class=\"data row6 col0\" >0</td>\n",
       "      <td id=\"T_9444c_row6_col1\" class=\"data row6 col1\" >0</td>\n",
       "      <td id=\"T_9444c_row6_col2\" class=\"data row6 col2\" >0</td>\n",
       "      <td id=\"T_9444c_row6_col3\" class=\"data row6 col3\" >0</td>\n",
       "      <td id=\"T_9444c_row6_col4\" class=\"data row6 col4\" >154</td>\n",
       "      <td id=\"T_9444c_row6_col5\" class=\"data row6 col5\" >253</td>\n",
       "      <td id=\"T_9444c_row6_col6\" class=\"data row6 col6\" >253</td>\n",
       "      <td id=\"T_9444c_row6_col7\" class=\"data row6 col7\" >253</td>\n",
       "      <td id=\"T_9444c_row6_col8\" class=\"data row6 col8\" >239</td>\n",
       "      <td id=\"T_9444c_row6_col9\" class=\"data row6 col9\" >75</td>\n",
       "      <td id=\"T_9444c_row6_col10\" class=\"data row6 col10\" >0</td>\n",
       "      <td id=\"T_9444c_row6_col11\" class=\"data row6 col11\" >0</td>\n",
       "      <td id=\"T_9444c_row6_col12\" class=\"data row6 col12\" >0</td>\n",
       "      <td id=\"T_9444c_row6_col13\" class=\"data row6 col13\" >7</td>\n",
       "      <td id=\"T_9444c_row6_col14\" class=\"data row6 col14\" >204</td>\n",
       "      <td id=\"T_9444c_row6_col15\" class=\"data row6 col15\" >253</td>\n",
       "      <td id=\"T_9444c_row6_col16\" class=\"data row6 col16\" >114</td>\n",
       "      <td id=\"T_9444c_row6_col17\" class=\"data row6 col17\" >0</td>\n",
       "    </tr>\n",
       "    <tr>\n",
       "      <th id=\"T_9444c_level0_row7\" class=\"row_heading level0 row7\" >7</th>\n",
       "      <td id=\"T_9444c_row7_col0\" class=\"data row7 col0\" >0</td>\n",
       "      <td id=\"T_9444c_row7_col1\" class=\"data row7 col1\" >0</td>\n",
       "      <td id=\"T_9444c_row7_col2\" class=\"data row7 col2\" >0</td>\n",
       "      <td id=\"T_9444c_row7_col3\" class=\"data row7 col3\" >76</td>\n",
       "      <td id=\"T_9444c_row7_col4\" class=\"data row7 col4\" >253</td>\n",
       "      <td id=\"T_9444c_row7_col5\" class=\"data row7 col5\" >252</td>\n",
       "      <td id=\"T_9444c_row7_col6\" class=\"data row7 col6\" >252</td>\n",
       "      <td id=\"T_9444c_row7_col7\" class=\"data row7 col7\" >227</td>\n",
       "      <td id=\"T_9444c_row7_col8\" class=\"data row7 col8\" >88</td>\n",
       "      <td id=\"T_9444c_row7_col9\" class=\"data row7 col9\" >0</td>\n",
       "      <td id=\"T_9444c_row7_col10\" class=\"data row7 col10\" >0</td>\n",
       "      <td id=\"T_9444c_row7_col11\" class=\"data row7 col11\" >0</td>\n",
       "      <td id=\"T_9444c_row7_col12\" class=\"data row7 col12\" >0</td>\n",
       "      <td id=\"T_9444c_row7_col13\" class=\"data row7 col13\" >57</td>\n",
       "      <td id=\"T_9444c_row7_col14\" class=\"data row7 col14\" >252</td>\n",
       "      <td id=\"T_9444c_row7_col15\" class=\"data row7 col15\" >252</td>\n",
       "      <td id=\"T_9444c_row7_col16\" class=\"data row7 col16\" >113</td>\n",
       "      <td id=\"T_9444c_row7_col17\" class=\"data row7 col17\" >0</td>\n",
       "    </tr>\n",
       "    <tr>\n",
       "      <th id=\"T_9444c_level0_row8\" class=\"row_heading level0 row8\" >8</th>\n",
       "      <td id=\"T_9444c_row8_col0\" class=\"data row8 col0\" >0</td>\n",
       "      <td id=\"T_9444c_row8_col1\" class=\"data row8 col1\" >0</td>\n",
       "      <td id=\"T_9444c_row8_col2\" class=\"data row8 col2\" >0</td>\n",
       "      <td id=\"T_9444c_row8_col3\" class=\"data row8 col3\" >113</td>\n",
       "      <td id=\"T_9444c_row8_col4\" class=\"data row8 col4\" >253</td>\n",
       "      <td id=\"T_9444c_row8_col5\" class=\"data row8 col5\" >252</td>\n",
       "      <td id=\"T_9444c_row8_col6\" class=\"data row8 col6\" >186</td>\n",
       "      <td id=\"T_9444c_row8_col7\" class=\"data row8 col7\" >43</td>\n",
       "      <td id=\"T_9444c_row8_col8\" class=\"data row8 col8\" >0</td>\n",
       "      <td id=\"T_9444c_row8_col9\" class=\"data row8 col9\" >0</td>\n",
       "      <td id=\"T_9444c_row8_col10\" class=\"data row8 col10\" >0</td>\n",
       "      <td id=\"T_9444c_row8_col11\" class=\"data row8 col11\" >0</td>\n",
       "      <td id=\"T_9444c_row8_col12\" class=\"data row8 col12\" >0</td>\n",
       "      <td id=\"T_9444c_row8_col13\" class=\"data row8 col13\" >95</td>\n",
       "      <td id=\"T_9444c_row8_col14\" class=\"data row8 col14\" >252</td>\n",
       "      <td id=\"T_9444c_row8_col15\" class=\"data row8 col15\" >252</td>\n",
       "      <td id=\"T_9444c_row8_col16\" class=\"data row8 col16\" >25</td>\n",
       "      <td id=\"T_9444c_row8_col17\" class=\"data row8 col17\" >0</td>\n",
       "    </tr>\n",
       "    <tr>\n",
       "      <th id=\"T_9444c_level0_row9\" class=\"row_heading level0 row9\" >9</th>\n",
       "      <td id=\"T_9444c_row9_col0\" class=\"data row9 col0\" >0</td>\n",
       "      <td id=\"T_9444c_row9_col1\" class=\"data row9 col1\" >0</td>\n",
       "      <td id=\"T_9444c_row9_col2\" class=\"data row9 col2\" >0</td>\n",
       "      <td id=\"T_9444c_row9_col3\" class=\"data row9 col3\" >13</td>\n",
       "      <td id=\"T_9444c_row9_col4\" class=\"data row9 col4\" >140</td>\n",
       "      <td id=\"T_9444c_row9_col5\" class=\"data row9 col5\" >115</td>\n",
       "      <td id=\"T_9444c_row9_col6\" class=\"data row9 col6\" >6</td>\n",
       "      <td id=\"T_9444c_row9_col7\" class=\"data row9 col7\" >0</td>\n",
       "      <td id=\"T_9444c_row9_col8\" class=\"data row9 col8\" >0</td>\n",
       "      <td id=\"T_9444c_row9_col9\" class=\"data row9 col9\" >0</td>\n",
       "      <td id=\"T_9444c_row9_col10\" class=\"data row9 col10\" >0</td>\n",
       "      <td id=\"T_9444c_row9_col11\" class=\"data row9 col11\" >0</td>\n",
       "      <td id=\"T_9444c_row9_col12\" class=\"data row9 col12\" >13</td>\n",
       "      <td id=\"T_9444c_row9_col13\" class=\"data row9 col13\" >206</td>\n",
       "      <td id=\"T_9444c_row9_col14\" class=\"data row9 col14\" >252</td>\n",
       "      <td id=\"T_9444c_row9_col15\" class=\"data row9 col15\" >102</td>\n",
       "      <td id=\"T_9444c_row9_col16\" class=\"data row9 col16\" >0</td>\n",
       "      <td id=\"T_9444c_row9_col17\" class=\"data row9 col17\" >0</td>\n",
       "    </tr>\n",
       "    <tr>\n",
       "      <th id=\"T_9444c_level0_row10\" class=\"row_heading level0 row10\" >10</th>\n",
       "      <td id=\"T_9444c_row10_col0\" class=\"data row10 col0\" >0</td>\n",
       "      <td id=\"T_9444c_row10_col1\" class=\"data row10 col1\" >0</td>\n",
       "      <td id=\"T_9444c_row10_col2\" class=\"data row10 col2\" >0</td>\n",
       "      <td id=\"T_9444c_row10_col3\" class=\"data row10 col3\" >0</td>\n",
       "      <td id=\"T_9444c_row10_col4\" class=\"data row10 col4\" >0</td>\n",
       "      <td id=\"T_9444c_row10_col5\" class=\"data row10 col5\" >0</td>\n",
       "      <td id=\"T_9444c_row10_col6\" class=\"data row10 col6\" >0</td>\n",
       "      <td id=\"T_9444c_row10_col7\" class=\"data row10 col7\" >0</td>\n",
       "      <td id=\"T_9444c_row10_col8\" class=\"data row10 col8\" >0</td>\n",
       "      <td id=\"T_9444c_row10_col9\" class=\"data row10 col9\" >0</td>\n",
       "      <td id=\"T_9444c_row10_col10\" class=\"data row10 col10\" >0</td>\n",
       "      <td id=\"T_9444c_row10_col11\" class=\"data row10 col11\" >0</td>\n",
       "      <td id=\"T_9444c_row10_col12\" class=\"data row10 col12\" >154</td>\n",
       "      <td id=\"T_9444c_row10_col13\" class=\"data row10 col13\" >253</td>\n",
       "      <td id=\"T_9444c_row10_col14\" class=\"data row10 col14\" >244</td>\n",
       "      <td id=\"T_9444c_row10_col15\" class=\"data row10 col15\" >25</td>\n",
       "      <td id=\"T_9444c_row10_col16\" class=\"data row10 col16\" >0</td>\n",
       "      <td id=\"T_9444c_row10_col17\" class=\"data row10 col17\" >0</td>\n",
       "    </tr>\n",
       "  </tbody>\n",
       "</table>\n"
      ],
      "text/plain": [
       "<pandas.io.formats.style.Styler at 0x7f9a7f674dc0>"
      ]
     },
     "execution_count": 12,
     "metadata": {},
     "output_type": "execute_result"
    }
   ],
   "source": [
    "im7_t = tensor(im7)\n",
    "df = pd.DataFrame(im7_t[4:15,4:22])\n",
    "df.style.set_properties(**{'font-size':'6pt'}).background_gradient('Greys')"
   ]
  },
  {
   "attachments": {},
   "cell_type": "markdown",
   "metadata": {},
   "source": [
    "Create list of single image tensors, check length"
   ]
  },
  {
   "cell_type": "code",
   "execution_count": 14,
   "metadata": {},
   "outputs": [
    {
     "data": {
      "text/plain": [
       "(6131, 6265)"
      ]
     },
     "execution_count": 14,
     "metadata": {},
     "output_type": "execute_result"
    }
   ],
   "source": [
    "seven_tensors = [tensor(Image.open(o)) for o in sevens]\n",
    "three_tensors = [tensor(Image.open(o)) for o in threes]\n",
    "len(three_tensors),len(seven_tensors)"
   ]
  },
  {
   "attachments": {},
   "cell_type": "markdown",
   "metadata": {},
   "source": [
    "Check an image to make sure it looks correct"
   ]
  },
  {
   "cell_type": "code",
   "execution_count": 15,
   "metadata": {},
   "outputs": [
    {
     "data": {
      "text/plain": [
       "<AxesSubplot: >"
      ]
     },
     "execution_count": 15,
     "metadata": {},
     "output_type": "execute_result"
    },
    {
     "data": {
      "image/png": "[encoded data removed]",
      "text/plain": [
       "<Figure size 100x100 with 1 Axes>"
      ]
     },
     "metadata": {},
     "output_type": "display_data"
    }
   ],
   "source": [
    "show_image(three_tensors[1])"
   ]
  },
  {
   "attachments": {},
   "cell_type": "markdown",
   "metadata": {},
   "source": [
    "Compute the average over all the images of the intensity at each pixel"
   ]
  },
  {
   "attachments": {},
   "cell_type": "markdown",
   "metadata": {},
   "source": [
    "To do this we have to combine all the image in the list\n",
    "and create a *single 3 dimensional* tensor\n",
    "\n",
    "Common description of a 3 dimensional tensor is a *rank-3 tensor*\n",
    "\n",
    "This is a pretty common occurance, and pytorch has a function called\n",
    "*stack* to do this."
   ]
  },
  {
   "attachments": {},
   "cell_type": "markdown",
   "metadata": {},
   "source": [
    "Some operations like taking a mean require us to *cast* our integer types to float types.\n",
    "\n",
    "In pytorch there is a method *.float()* that can be called to do this\n",
    "\n",
    "Pixel values are expected to be between 0 and 1 so we can divide by 255 to get this value"
   ]
  },
  {
   "cell_type": "code",
   "execution_count": 16,
   "metadata": {},
   "outputs": [
    {
     "data": {
      "text/plain": [
       "torch.Size([6131, 28, 28])"
      ]
     },
     "execution_count": 16,
     "metadata": {},
     "output_type": "execute_result"
    }
   ],
   "source": [
    "stacked_sevens = torch.stack(seven_tensors).float()/255\n",
    "stacked_threes = torch.stack(three_tensors).float()/255\n",
    "stacked_threes.shape"
   ]
  },
  {
   "attachments": {},
   "cell_type": "markdown",
   "metadata": {},
   "source": [
    "*shape* is the most important attribute of a tensor. It tells you\n",
    "the length of each axis. The above is saying there are 6131 images, each of size 28x28 pixels\n",
    "\n",
    "nothing about the tensor specificallys says first is images, second is height in pixels, third is height in pixels. This is all up to us and how we construct it\n",
    "\n",
    "The *length* of the tensor shape is it's *rank*"
   ]
  },
  {
   "cell_type": "code",
   "execution_count": 18,
   "metadata": {},
   "outputs": [
    {
     "data": {
      "text/plain": [
       "3"
      ]
     },
     "execution_count": 18,
     "metadata": {},
     "output_type": "execute_result"
    }
   ],
   "source": [
    "len(stacked_sevens.shape)"
   ]
  },
  {
   "attachments": {},
   "cell_type": "markdown",
   "metadata": {},
   "source": [
    "**Important Terms to Memorize** \n",
    "*Rank* - the number of axes or dimensions of a tensor\n",
    "*Shape* - the size of each axis of a tensor\n",
    "\n",
    "Dimension is used in a confusing way sometimes\n",
    "A \"3D\" physical position can be described with vectors, but to pytorch,\n",
    "the number of dimensions is == 1.\n",
    "\n",
    "This is because even though it's 3 items long, it's still only one axis\n",
    "Ex. \"3 Dimensional\"\n",
    "Sometimes dimension is used for *size of axis* [1,2,3]\n",
    "Sometimes it's used for *rank*  [1,2,3]\n",
    "                                [1,2,3]\n",
    "                                [1,2,3]\n",
    "\n",
    "Describing in terms of **rank, axis, and length** are unambiguous"
   ]
  },
  {
   "attachments": {},
   "cell_type": "markdown",
   "metadata": {},
   "source": [
    "A tensor's rank can be obtained with `ndim`"
   ]
  },
  {
   "cell_type": "code",
   "execution_count": 19,
   "metadata": {},
   "outputs": [
    {
     "data": {
      "text/plain": [
       "3"
      ]
     },
     "execution_count": 19,
     "metadata": {},
     "output_type": "execute_result"
    }
   ],
   "source": [
    "stacked_threes.ndim"
   ]
  }
 ],
 "metadata": {
  "kernelspec": {
   "display_name": "base",
   "language": "python",
   "name": "python3"
  },
  "language_info": {
   "codemirror_mode": {
    "name": "ipython",
    "version": 3
   },
   "file_extension": ".py",
   "mimetype": "text/x-python",
   "name": "python",
   "nbconvert_exporter": "python",
   "pygments_lexer": "ipython3",
   "version": "3.10.6"
  },
  "orig_nbformat": 4,
  "vscode": {
   "interpreter": {
    "hash": "f4702a165a03ade35e40e0221d250a3a44a346cfc16a49ce6d051d1595069b46"
   }
  }
 },
 "nbformat": 4,
 "nbformat_minor": 2
}
