{
 "cells": [
  {
   "cell_type": "code",
   "execution_count": 1,
   "metadata": {},
   "outputs": [],
   "source": [
    "import fastbook\n",
    "fastbook.setup_book()"
   ]
  },
  {
   "cell_type": "code",
   "execution_count": 2,
   "metadata": {},
   "outputs": [],
   "source": [
    "from fastai.vision.all import *\n",
    "from fastbook import *\n",
    "\n",
    "matplotlib.rc('image', cmap='Greys')"
   ]
  },
  {
   "attachments": {},
   "cell_type": "markdown",
   "metadata": {},
   "source": [
    "## Creating a \"3 or 7\" Image Classifier "
   ]
  },
  {
   "attachments": {},
   "cell_type": "markdown",
   "metadata": {},
   "source": [
    "Download a sample of MNIST that contains images of just these digits"
   ]
  },
  {
   "cell_type": "code",
   "execution_count": null,
   "metadata": {},
   "outputs": [],
   "source": []
  },
  {
   "attachments": {},
   "cell_type": "markdown",
   "metadata": {},
   "source": [
    "assign unzipped data to path.\n",
    "URLs provides methods that grab from a provided list of urls"
   ]
  },
  {
   "cell_type": "code",
   "execution_count": 3,
   "metadata": {},
   "outputs": [],
   "source": [
    "path = untar_data(URLs.MNIST_SAMPLE)"
   ]
  },
  {
   "attachments": {},
   "cell_type": "markdown",
   "metadata": {},
   "source": [
    "Path class inherits from \"Purepath\" and can make system calls. Returns a posix or windows path\n",
    "\n",
    "assign path to Path at BASE_PATH"
   ]
  },
  {
   "cell_type": "code",
   "execution_count": 4,
   "metadata": {},
   "outputs": [],
   "source": [
    "Path.BASE_PATH = path"
   ]
  },
  {
   "attachments": {},
   "cell_type": "markdown",
   "metadata": {},
   "source": [
    "seeing what's inside with bash commands provided by fastai methods"
   ]
  },
  {
   "cell_type": "code",
   "execution_count": 5,
   "metadata": {},
   "outputs": [
    {
     "data": {
      "text/plain": [
       "(#3) [Path('labels.csv'),Path('valid'),Path('train')]"
      ]
     },
     "execution_count": 5,
     "metadata": {},
     "output_type": "execute_result"
    }
   ],
   "source": [
    "path.ls()"
   ]
  },
  {
   "cell_type": "code",
   "execution_count": 6,
   "metadata": {},
   "outputs": [
    {
     "data": {
      "text/plain": [
       "(#2) [Path('train/7'),Path('train/3')]"
      ]
     },
     "execution_count": 6,
     "metadata": {},
     "output_type": "execute_result"
    }
   ],
   "source": [
    "(path/'train').ls()"
   ]
  },
  {
   "attachments": {},
   "cell_type": "markdown",
   "metadata": {},
   "source": [
    "two folders in path - 3's and 7's\n",
    "assign each, using sorted provided by fastai"
   ]
  },
  {
   "cell_type": "code",
   "execution_count": 7,
   "metadata": {},
   "outputs": [
    {
     "data": {
      "text/plain": [
       "(#6265) [Path('train/7/10002.png'),Path('train/7/1001.png'),Path('train/7/10014.png'),Path('train/7/10019.png'),Path('train/7/10039.png'),Path('train/7/10046.png'),Path('train/7/10050.png'),Path('train/7/10063.png'),Path('train/7/10077.png'),Path('train/7/10086.png')...]"
      ]
     },
     "execution_count": 7,
     "metadata": {},
     "output_type": "execute_result"
    }
   ],
   "source": [
    "threes = (path/'train/3').ls().sorted()\n",
    "sevens = (path/'train/7').ls().sorted()\n",
    "sevens"
   ]
  },
  {
   "attachments": {},
   "cell_type": "markdown",
   "metadata": {},
   "source": [
    "Show an image of a 7 from MNIST using image class from PIL"
   ]
  },
  {
   "cell_type": "code",
   "execution_count": 8,
   "metadata": {},
   "outputs": [
    {
     "data": {
      "image/png": "[encoded data removed]",
      "text/plain": [
       "<PIL.PngImagePlugin.PngImageFile image mode=L size=28x28>"
      ]
     },
     "execution_count": 8,
     "metadata": {},
     "output_type": "execute_result"
    }
   ],
   "source": [
    "im7_path = sevens[3]\n",
    "im7 = Image.open(im7_path)\n",
    "im7"
   ]
  },
  {
   "attachments": {},
   "cell_type": "markdown",
   "metadata": {},
   "source": [
    "view the above image represented as a number\n",
    "convert to numpy array and request rows from index 4 to index 10\n",
    "and request columns from index 4 to index 10"
   ]
  },
  {
   "cell_type": "code",
   "execution_count": 9,
   "metadata": {},
   "outputs": [
    {
     "data": {
      "text/plain": [
       "array([[  0,   0,   0,   0,   0,   0],\n",
       "       [  0,   0,   0,   0,   0,   0],\n",
       "       [  0,   0,   0,   0,   0,   0],\n",
       "       [  0,   0,   0,   0,   0,   0],\n",
       "       [  0,   0,   0,   0,   0,  19],\n",
       "       [  0,   0,   0,   0,  13, 144]], dtype=uint8)"
      ]
     },
     "execution_count": 9,
     "metadata": {},
     "output_type": "execute_result"
    }
   ],
   "source": [
    "array(im7)[4:10,4:10]"
   ]
  },
  {
   "attachments": {},
   "cell_type": "markdown",
   "metadata": {},
   "source": [
    "Now the same for a pytorch tensor"
   ]
  },
  {
   "cell_type": "code",
   "execution_count": 10,
   "metadata": {},
   "outputs": [
    {
     "data": {
      "text/plain": [
       "tensor([[  0,   0,   0,   0,   0,   0],\n",
       "        [  0,   0,   0,   0,   0,   0],\n",
       "        [  0,   0,   0,   0,   0,   0],\n",
       "        [  0,   0,   0,   0,   0,   0],\n",
       "        [  0,   0,   0,   0,   0,  19],\n",
       "        [  0,   0,   0,   0,  13, 144]], dtype=torch.uint8)"
      ]
     },
     "execution_count": 10,
     "metadata": {},
     "output_type": "execute_result"
    }
   ],
   "source": [
    "tensor(im7)[4:10,4:10]"
   ]
  },
  {
   "attachments": {},
   "cell_type": "markdown",
   "metadata": {},
   "source": [
    "create a tensor object\n",
    "slice and assign to dataframe\n",
    "set font size and color"
   ]
  },
  {
   "cell_type": "code",
   "execution_count": 11,
   "metadata": {},
   "outputs": [
    {
     "data": {
      "text/html": [
       "<style type=\"text/css\">\n",
       "#T_a7a67_row0_col0, #T_a7a67_row0_col1, #T_a7a67_row0_col2, #T_a7a67_row0_col3, #T_a7a67_row0_col4, #T_a7a67_row0_col5, #T_a7a67_row0_col6, #T_a7a67_row0_col7, #T_a7a67_row0_col8, #T_a7a67_row0_col9, #T_a7a67_row0_col10, #T_a7a67_row0_col11, #T_a7a67_row0_col12, #T_a7a67_row0_col13, #T_a7a67_row0_col14, #T_a7a67_row0_col15, #T_a7a67_row0_col16, #T_a7a67_row0_col17, #T_a7a67_row1_col0, #T_a7a67_row1_col1, #T_a7a67_row1_col2, #T_a7a67_row1_col3, #T_a7a67_row1_col4, #T_a7a67_row1_col5, #T_a7a67_row1_col6, #T_a7a67_row1_col7, #T_a7a67_row1_col8, #T_a7a67_row1_col9, #T_a7a67_row1_col10, #T_a7a67_row1_col11, #T_a7a67_row1_col12, #T_a7a67_row1_col13, #T_a7a67_row1_col14, #T_a7a67_row1_col15, #T_a7a67_row1_col16, #T_a7a67_row1_col17, #T_a7a67_row2_col0, #T_a7a67_row2_col1, #T_a7a67_row2_col2, #T_a7a67_row2_col3, #T_a7a67_row2_col4, #T_a7a67_row2_col5, #T_a7a67_row2_col6, #T_a7a67_row2_col7, #T_a7a67_row2_col14, #T_a7a67_row2_col15, #T_a7a67_row2_col16, #T_a7a67_row2_col17, #T_a7a67_row3_col0, #T_a7a67_row3_col1, #T_a7a67_row3_col2, #T_a7a67_row3_col3, #T_a7a67_row3_col4, #T_a7a67_row3_col5, #T_a7a67_row3_col6, #T_a7a67_row3_col16, #T_a7a67_row3_col17, #T_a7a67_row4_col0, #T_a7a67_row4_col1, #T_a7a67_row4_col2, #T_a7a67_row4_col3, #T_a7a67_row4_col4, #T_a7a67_row4_col17, #T_a7a67_row5_col0, #T_a7a67_row5_col1, #T_a7a67_row5_col2, #T_a7a67_row5_col3, #T_a7a67_row5_col12, #T_a7a67_row5_col17, #T_a7a67_row6_col0, #T_a7a67_row6_col1, #T_a7a67_row6_col2, #T_a7a67_row6_col3, #T_a7a67_row6_col10, #T_a7a67_row6_col11, #T_a7a67_row6_col12, #T_a7a67_row6_col17, #T_a7a67_row7_col0, #T_a7a67_row7_col1, #T_a7a67_row7_col2, #T_a7a67_row7_col9, #T_a7a67_row7_col10, #T_a7a67_row7_col11, #T_a7a67_row7_col12, #T_a7a67_row7_col17, #T_a7a67_row8_col0, #T_a7a67_row8_col1, #T_a7a67_row8_col2, #T_a7a67_row8_col8, #T_a7a67_row8_col9, #T_a7a67_row8_col10, #T_a7a67_row8_col11, #T_a7a67_row8_col12, #T_a7a67_row8_col17, #T_a7a67_row9_col0, #T_a7a67_row9_col1, #T_a7a67_row9_col2, #T_a7a67_row9_col7, #T_a7a67_row9_col8, #T_a7a67_row9_col9, #T_a7a67_row9_col10, #T_a7a67_row9_col11, #T_a7a67_row9_col16, #T_a7a67_row9_col17, #T_a7a67_row10_col0, #T_a7a67_row10_col1, #T_a7a67_row10_col2, #T_a7a67_row10_col3, #T_a7a67_row10_col4, #T_a7a67_row10_col5, #T_a7a67_row10_col6, #T_a7a67_row10_col7, #T_a7a67_row10_col8, #T_a7a67_row10_col9, #T_a7a67_row10_col10, #T_a7a67_row10_col11, #T_a7a67_row10_col16, #T_a7a67_row10_col17 {\n",
       "  font-size: 6pt;\n",
       "  background-color: #ffffff;\n",
       "  color: #000000;\n",
       "}\n",
       "#T_a7a67_row2_col8, #T_a7a67_row9_col3 {\n",
       "  font-size: 6pt;\n",
       "  background-color: #f1f1f1;\n",
       "  color: #000000;\n",
       "}\n",
       "#T_a7a67_row2_col9 {\n",
       "  font-size: 6pt;\n",
       "  background-color: #b2b2b2;\n",
       "  color: #000000;\n",
       "}\n",
       "#T_a7a67_row2_col10 {\n",
       "  font-size: 6pt;\n",
       "  background-color: #858585;\n",
       "  color: #f1f1f1;\n",
       "}\n",
       "#T_a7a67_row2_col11 {\n",
       "  font-size: 6pt;\n",
       "  background-color: #0d0d0d;\n",
       "  color: #f1f1f1;\n",
       "}\n",
       "#T_a7a67_row2_col12 {\n",
       "  font-size: 6pt;\n",
       "  background-color: #4e4e4e;\n",
       "  color: #f1f1f1;\n",
       "}\n",
       "#T_a7a67_row2_col13 {\n",
       "  font-size: 6pt;\n",
       "  background-color: #dcdcdc;\n",
       "  color: #000000;\n",
       "}\n",
       "#T_a7a67_row3_col7 {\n",
       "  font-size: 6pt;\n",
       "  background-color: #b5b5b5;\n",
       "  color: #000000;\n",
       "}\n",
       "#T_a7a67_row3_col8, #T_a7a67_row3_col9, #T_a7a67_row3_col10, #T_a7a67_row3_col11, #T_a7a67_row3_col12, #T_a7a67_row4_col8, #T_a7a67_row4_col9, #T_a7a67_row4_col10, #T_a7a67_row4_col14, #T_a7a67_row5_col8, #T_a7a67_row6_col5, #T_a7a67_row6_col6, #T_a7a67_row6_col7, #T_a7a67_row6_col15, #T_a7a67_row6_col16, #T_a7a67_row7_col4, #T_a7a67_row7_col14, #T_a7a67_row8_col3, #T_a7a67_row8_col4, #T_a7a67_row8_col14, #T_a7a67_row9_col14, #T_a7a67_row10_col13 {\n",
       "  font-size: 6pt;\n",
       "  background-color: #000000;\n",
       "  color: #f1f1f1;\n",
       "}\n",
       "#T_a7a67_row3_col13 {\n",
       "  font-size: 6pt;\n",
       "  background-color: #161616;\n",
       "  color: #f1f1f1;\n",
       "}\n",
       "#T_a7a67_row3_col14 {\n",
       "  font-size: 6pt;\n",
       "  background-color: #909090;\n",
       "  color: #f1f1f1;\n",
       "}\n",
       "#T_a7a67_row3_col15 {\n",
       "  font-size: 6pt;\n",
       "  background-color: #f0f0f0;\n",
       "  color: #000000;\n",
       "}\n",
       "#T_a7a67_row4_col5 {\n",
       "  font-size: 6pt;\n",
       "  background-color: #f6f6f6;\n",
       "  color: #000000;\n",
       "}\n",
       "#T_a7a67_row4_col6 {\n",
       "  font-size: 6pt;\n",
       "  background-color: #9a9a9a;\n",
       "  color: #f1f1f1;\n",
       "}\n",
       "#T_a7a67_row4_col7 {\n",
       "  font-size: 6pt;\n",
       "  background-color: #080808;\n",
       "  color: #f1f1f1;\n",
       "}\n",
       "#T_a7a67_row4_col11 {\n",
       "  font-size: 6pt;\n",
       "  background-color: #5f5f5f;\n",
       "  color: #f1f1f1;\n",
       "}\n",
       "#T_a7a67_row4_col12 {\n",
       "  font-size: 6pt;\n",
       "  background-color: #9f9f9f;\n",
       "  color: #f1f1f1;\n",
       "}\n",
       "#T_a7a67_row4_col13 {\n",
       "  font-size: 6pt;\n",
       "  background-color: #222222;\n",
       "  color: #f1f1f1;\n",
       "}\n",
       "#T_a7a67_row4_col15, #T_a7a67_row5_col9 {\n",
       "  font-size: 6pt;\n",
       "  background-color: #1d1d1d;\n",
       "  color: #f1f1f1;\n",
       "}\n",
       "#T_a7a67_row4_col16 {\n",
       "  font-size: 6pt;\n",
       "  background-color: #c6c6c6;\n",
       "  color: #000000;\n",
       "}\n",
       "#T_a7a67_row5_col4, #T_a7a67_row9_col12 {\n",
       "  font-size: 6pt;\n",
       "  background-color: #f9f9f9;\n",
       "  color: #000000;\n",
       "}\n",
       "#T_a7a67_row5_col5 {\n",
       "  font-size: 6pt;\n",
       "  background-color: #838383;\n",
       "  color: #f1f1f1;\n",
       "}\n",
       "#T_a7a67_row5_col6, #T_a7a67_row5_col7, #T_a7a67_row5_col15, #T_a7a67_row7_col5, #T_a7a67_row7_col6, #T_a7a67_row7_col15, #T_a7a67_row8_col5, #T_a7a67_row8_col15 {\n",
       "  font-size: 6pt;\n",
       "  background-color: #010101;\n",
       "  color: #f1f1f1;\n",
       "}\n",
       "#T_a7a67_row5_col10 {\n",
       "  font-size: 6pt;\n",
       "  background-color: #b3b3b3;\n",
       "  color: #000000;\n",
       "}\n",
       "#T_a7a67_row5_col11 {\n",
       "  font-size: 6pt;\n",
       "  background-color: #fefefe;\n",
       "  color: #000000;\n",
       "}\n",
       "#T_a7a67_row5_col13 {\n",
       "  font-size: 6pt;\n",
       "  background-color: #e7e7e7;\n",
       "  color: #000000;\n",
       "}\n",
       "#T_a7a67_row5_col14 {\n",
       "  font-size: 6pt;\n",
       "  background-color: #1c1c1c;\n",
       "  color: #f1f1f1;\n",
       "}\n",
       "#T_a7a67_row5_col16, #T_a7a67_row7_col16 {\n",
       "  font-size: 6pt;\n",
       "  background-color: #020202;\n",
       "  color: #f1f1f1;\n",
       "}\n",
       "#T_a7a67_row6_col4, #T_a7a67_row10_col12 {\n",
       "  font-size: 6pt;\n",
       "  background-color: #787878;\n",
       "  color: #f1f1f1;\n",
       "}\n",
       "#T_a7a67_row6_col8 {\n",
       "  font-size: 6pt;\n",
       "  background-color: #101010;\n",
       "  color: #f1f1f1;\n",
       "}\n",
       "#T_a7a67_row6_col9 {\n",
       "  font-size: 6pt;\n",
       "  background-color: #cecece;\n",
       "  color: #000000;\n",
       "}\n",
       "#T_a7a67_row6_col13, #T_a7a67_row9_col6 {\n",
       "  font-size: 6pt;\n",
       "  background-color: #fcfcfc;\n",
       "  color: #000000;\n",
       "}\n",
       "#T_a7a67_row6_col14 {\n",
       "  font-size: 6pt;\n",
       "  background-color: #3c3c3c;\n",
       "  color: #f1f1f1;\n",
       "}\n",
       "#T_a7a67_row7_col3 {\n",
       "  font-size: 6pt;\n",
       "  background-color: #666666;\n",
       "  color: #f1f1f1;\n",
       "}\n",
       "#T_a7a67_row7_col7 {\n",
       "  font-size: 6pt;\n",
       "  background-color: #1e1e1e;\n",
       "  color: #f1f1f1;\n",
       "}\n",
       "#T_a7a67_row7_col8 {\n",
       "  font-size: 6pt;\n",
       "  background-color: #c3c3c3;\n",
       "  color: #000000;\n",
       "}\n",
       "#T_a7a67_row7_col13 {\n",
       "  font-size: 6pt;\n",
       "  background-color: #dedede;\n",
       "  color: #000000;\n",
       "}\n",
       "#T_a7a67_row8_col6 {\n",
       "  font-size: 6pt;\n",
       "  background-color: #555555;\n",
       "  color: #f1f1f1;\n",
       "}\n",
       "#T_a7a67_row8_col7 {\n",
       "  font-size: 6pt;\n",
       "  background-color: #e8e8e8;\n",
       "  color: #000000;\n",
       "}\n",
       "#T_a7a67_row8_col13 {\n",
       "  font-size: 6pt;\n",
       "  background-color: #bdbdbd;\n",
       "  color: #000000;\n",
       "}\n",
       "#T_a7a67_row8_col16 {\n",
       "  font-size: 6pt;\n",
       "  background-color: #dfdfdf;\n",
       "  color: #000000;\n",
       "}\n",
       "#T_a7a67_row9_col4 {\n",
       "  font-size: 6pt;\n",
       "  background-color: #878787;\n",
       "  color: #f1f1f1;\n",
       "}\n",
       "#T_a7a67_row9_col5 {\n",
       "  font-size: 6pt;\n",
       "  background-color: #a4a4a4;\n",
       "  color: #f1f1f1;\n",
       "}\n",
       "#T_a7a67_row9_col13 {\n",
       "  font-size: 6pt;\n",
       "  background-color: #3a3a3a;\n",
       "  color: #f1f1f1;\n",
       "}\n",
       "#T_a7a67_row9_col15 {\n",
       "  font-size: 6pt;\n",
       "  background-color: #b4b4b4;\n",
       "  color: #000000;\n",
       "}\n",
       "#T_a7a67_row10_col14 {\n",
       "  font-size: 6pt;\n",
       "  background-color: #090909;\n",
       "  color: #f1f1f1;\n",
       "}\n",
       "#T_a7a67_row10_col15 {\n",
       "  font-size: 6pt;\n",
       "  background-color: #f3f3f3;\n",
       "  color: #000000;\n",
       "}\n",
       "</style>\n",
       "<table id=\"T_a7a67\">\n",
       "  <thead>\n",
       "    <tr>\n",
       "      <th class=\"blank level0\" >&nbsp;</th>\n",
       "      <th id=\"T_a7a67_level0_col0\" class=\"col_heading level0 col0\" >0</th>\n",
       "      <th id=\"T_a7a67_level0_col1\" class=\"col_heading level0 col1\" >1</th>\n",
       "      <th id=\"T_a7a67_level0_col2\" class=\"col_heading level0 col2\" >2</th>\n",
       "      <th id=\"T_a7a67_level0_col3\" class=\"col_heading level0 col3\" >3</th>\n",
       "      <th id=\"T_a7a67_level0_col4\" class=\"col_heading level0 col4\" >4</th>\n",
       "      <th id=\"T_a7a67_level0_col5\" class=\"col_heading level0 col5\" >5</th>\n",
       "      <th id=\"T_a7a67_level0_col6\" class=\"col_heading level0 col6\" >6</th>\n",
       "      <th id=\"T_a7a67_level0_col7\" class=\"col_heading level0 col7\" >7</th>\n",
       "      <th id=\"T_a7a67_level0_col8\" class=\"col_heading level0 col8\" >8</th>\n",
       "      <th id=\"T_a7a67_level0_col9\" class=\"col_heading level0 col9\" >9</th>\n",
       "      <th id=\"T_a7a67_level0_col10\" class=\"col_heading level0 col10\" >10</th>\n",
       "      <th id=\"T_a7a67_level0_col11\" class=\"col_heading level0 col11\" >11</th>\n",
       "      <th id=\"T_a7a67_level0_col12\" class=\"col_heading level0 col12\" >12</th>\n",
       "      <th id=\"T_a7a67_level0_col13\" class=\"col_heading level0 col13\" >13</th>\n",
       "      <th id=\"T_a7a67_level0_col14\" class=\"col_heading level0 col14\" >14</th>\n",
       "      <th id=\"T_a7a67_level0_col15\" class=\"col_heading level0 col15\" >15</th>\n",
       "      <th id=\"T_a7a67_level0_col16\" class=\"col_heading level0 col16\" >16</th>\n",
       "      <th id=\"T_a7a67_level0_col17\" class=\"col_heading level0 col17\" >17</th>\n",
       "    </tr>\n",
       "  </thead>\n",
       "  <tbody>\n",
       "    <tr>\n",
       "      <th id=\"T_a7a67_level0_row0\" class=\"row_heading level0 row0\" >0</th>\n",
       "      <td id=\"T_a7a67_row0_col0\" class=\"data row0 col0\" >0</td>\n",
       "      <td id=\"T_a7a67_row0_col1\" class=\"data row0 col1\" >0</td>\n",
       "      <td id=\"T_a7a67_row0_col2\" class=\"data row0 col2\" >0</td>\n",
       "      <td id=\"T_a7a67_row0_col3\" class=\"data row0 col3\" >0</td>\n",
       "      <td id=\"T_a7a67_row0_col4\" class=\"data row0 col4\" >0</td>\n",
       "      <td id=\"T_a7a67_row0_col5\" class=\"data row0 col5\" >0</td>\n",
       "      <td id=\"T_a7a67_row0_col6\" class=\"data row0 col6\" >0</td>\n",
       "      <td id=\"T_a7a67_row0_col7\" class=\"data row0 col7\" >0</td>\n",
       "      <td id=\"T_a7a67_row0_col8\" class=\"data row0 col8\" >0</td>\n",
       "      <td id=\"T_a7a67_row0_col9\" class=\"data row0 col9\" >0</td>\n",
       "      <td id=\"T_a7a67_row0_col10\" class=\"data row0 col10\" >0</td>\n",
       "      <td id=\"T_a7a67_row0_col11\" class=\"data row0 col11\" >0</td>\n",
       "      <td id=\"T_a7a67_row0_col12\" class=\"data row0 col12\" >0</td>\n",
       "      <td id=\"T_a7a67_row0_col13\" class=\"data row0 col13\" >0</td>\n",
       "      <td id=\"T_a7a67_row0_col14\" class=\"data row0 col14\" >0</td>\n",
       "      <td id=\"T_a7a67_row0_col15\" class=\"data row0 col15\" >0</td>\n",
       "      <td id=\"T_a7a67_row0_col16\" class=\"data row0 col16\" >0</td>\n",
       "      <td id=\"T_a7a67_row0_col17\" class=\"data row0 col17\" >0</td>\n",
       "    </tr>\n",
       "    <tr>\n",
       "      <th id=\"T_a7a67_level0_row1\" class=\"row_heading level0 row1\" >1</th>\n",
       "      <td id=\"T_a7a67_row1_col0\" class=\"data row1 col0\" >0</td>\n",
       "      <td id=\"T_a7a67_row1_col1\" class=\"data row1 col1\" >0</td>\n",
       "      <td id=\"T_a7a67_row1_col2\" class=\"data row1 col2\" >0</td>\n",
       "      <td id=\"T_a7a67_row1_col3\" class=\"data row1 col3\" >0</td>\n",
       "      <td id=\"T_a7a67_row1_col4\" class=\"data row1 col4\" >0</td>\n",
       "      <td id=\"T_a7a67_row1_col5\" class=\"data row1 col5\" >0</td>\n",
       "      <td id=\"T_a7a67_row1_col6\" class=\"data row1 col6\" >0</td>\n",
       "      <td id=\"T_a7a67_row1_col7\" class=\"data row1 col7\" >0</td>\n",
       "      <td id=\"T_a7a67_row1_col8\" class=\"data row1 col8\" >0</td>\n",
       "      <td id=\"T_a7a67_row1_col9\" class=\"data row1 col9\" >0</td>\n",
       "      <td id=\"T_a7a67_row1_col10\" class=\"data row1 col10\" >0</td>\n",
       "      <td id=\"T_a7a67_row1_col11\" class=\"data row1 col11\" >0</td>\n",
       "      <td id=\"T_a7a67_row1_col12\" class=\"data row1 col12\" >0</td>\n",
       "      <td id=\"T_a7a67_row1_col13\" class=\"data row1 col13\" >0</td>\n",
       "      <td id=\"T_a7a67_row1_col14\" class=\"data row1 col14\" >0</td>\n",
       "      <td id=\"T_a7a67_row1_col15\" class=\"data row1 col15\" >0</td>\n",
       "      <td id=\"T_a7a67_row1_col16\" class=\"data row1 col16\" >0</td>\n",
       "      <td id=\"T_a7a67_row1_col17\" class=\"data row1 col17\" >0</td>\n",
       "    </tr>\n",
       "    <tr>\n",
       "      <th id=\"T_a7a67_level0_row2\" class=\"row_heading level0 row2\" >2</th>\n",
       "      <td id=\"T_a7a67_row2_col0\" class=\"data row2 col0\" >0</td>\n",
       "      <td id=\"T_a7a67_row2_col1\" class=\"data row2 col1\" >0</td>\n",
       "      <td id=\"T_a7a67_row2_col2\" class=\"data row2 col2\" >0</td>\n",
       "      <td id=\"T_a7a67_row2_col3\" class=\"data row2 col3\" >0</td>\n",
       "      <td id=\"T_a7a67_row2_col4\" class=\"data row2 col4\" >0</td>\n",
       "      <td id=\"T_a7a67_row2_col5\" class=\"data row2 col5\" >0</td>\n",
       "      <td id=\"T_a7a67_row2_col6\" class=\"data row2 col6\" >0</td>\n",
       "      <td id=\"T_a7a67_row2_col7\" class=\"data row2 col7\" >0</td>\n",
       "      <td id=\"T_a7a67_row2_col8\" class=\"data row2 col8\" >29</td>\n",
       "      <td id=\"T_a7a67_row2_col9\" class=\"data row2 col9\" >104</td>\n",
       "      <td id=\"T_a7a67_row2_col10\" class=\"data row2 col10\" >141</td>\n",
       "      <td id=\"T_a7a67_row2_col11\" class=\"data row2 col11\" >241</td>\n",
       "      <td id=\"T_a7a67_row2_col12\" class=\"data row2 col12\" >192</td>\n",
       "      <td id=\"T_a7a67_row2_col13\" class=\"data row2 col13\" >60</td>\n",
       "      <td id=\"T_a7a67_row2_col14\" class=\"data row2 col14\" >0</td>\n",
       "      <td id=\"T_a7a67_row2_col15\" class=\"data row2 col15\" >0</td>\n",
       "      <td id=\"T_a7a67_row2_col16\" class=\"data row2 col16\" >0</td>\n",
       "      <td id=\"T_a7a67_row2_col17\" class=\"data row2 col17\" >0</td>\n",
       "    </tr>\n",
       "    <tr>\n",
       "      <th id=\"T_a7a67_level0_row3\" class=\"row_heading level0 row3\" >3</th>\n",
       "      <td id=\"T_a7a67_row3_col0\" class=\"data row3 col0\" >0</td>\n",
       "      <td id=\"T_a7a67_row3_col1\" class=\"data row3 col1\" >0</td>\n",
       "      <td id=\"T_a7a67_row3_col2\" class=\"data row3 col2\" >0</td>\n",
       "      <td id=\"T_a7a67_row3_col3\" class=\"data row3 col3\" >0</td>\n",
       "      <td id=\"T_a7a67_row3_col4\" class=\"data row3 col4\" >0</td>\n",
       "      <td id=\"T_a7a67_row3_col5\" class=\"data row3 col5\" >0</td>\n",
       "      <td id=\"T_a7a67_row3_col6\" class=\"data row3 col6\" >0</td>\n",
       "      <td id=\"T_a7a67_row3_col7\" class=\"data row3 col7\" >101</td>\n",
       "      <td id=\"T_a7a67_row3_col8\" class=\"data row3 col8\" >253</td>\n",
       "      <td id=\"T_a7a67_row3_col9\" class=\"data row3 col9\" >252</td>\n",
       "      <td id=\"T_a7a67_row3_col10\" class=\"data row3 col10\" >252</td>\n",
       "      <td id=\"T_a7a67_row3_col11\" class=\"data row3 col11\" >252</td>\n",
       "      <td id=\"T_a7a67_row3_col12\" class=\"data row3 col12\" >253</td>\n",
       "      <td id=\"T_a7a67_row3_col13\" class=\"data row3 col13\" >234</td>\n",
       "      <td id=\"T_a7a67_row3_col14\" class=\"data row3 col14\" >131</td>\n",
       "      <td id=\"T_a7a67_row3_col15\" class=\"data row3 col15\" >32</td>\n",
       "      <td id=\"T_a7a67_row3_col16\" class=\"data row3 col16\" >0</td>\n",
       "      <td id=\"T_a7a67_row3_col17\" class=\"data row3 col17\" >0</td>\n",
       "    </tr>\n",
       "    <tr>\n",
       "      <th id=\"T_a7a67_level0_row4\" class=\"row_heading level0 row4\" >4</th>\n",
       "      <td id=\"T_a7a67_row4_col0\" class=\"data row4 col0\" >0</td>\n",
       "      <td id=\"T_a7a67_row4_col1\" class=\"data row4 col1\" >0</td>\n",
       "      <td id=\"T_a7a67_row4_col2\" class=\"data row4 col2\" >0</td>\n",
       "      <td id=\"T_a7a67_row4_col3\" class=\"data row4 col3\" >0</td>\n",
       "      <td id=\"T_a7a67_row4_col4\" class=\"data row4 col4\" >0</td>\n",
       "      <td id=\"T_a7a67_row4_col5\" class=\"data row4 col5\" >19</td>\n",
       "      <td id=\"T_a7a67_row4_col6\" class=\"data row4 col6\" >123</td>\n",
       "      <td id=\"T_a7a67_row4_col7\" class=\"data row4 col7\" >246</td>\n",
       "      <td id=\"T_a7a67_row4_col8\" class=\"data row4 col8\" >253</td>\n",
       "      <td id=\"T_a7a67_row4_col9\" class=\"data row4 col9\" >252</td>\n",
       "      <td id=\"T_a7a67_row4_col10\" class=\"data row4 col10\" >252</td>\n",
       "      <td id=\"T_a7a67_row4_col11\" class=\"data row4 col11\" >177</td>\n",
       "      <td id=\"T_a7a67_row4_col12\" class=\"data row4 col12\" >119</td>\n",
       "      <td id=\"T_a7a67_row4_col13\" class=\"data row4 col13\" >224</td>\n",
       "      <td id=\"T_a7a67_row4_col14\" class=\"data row4 col14\" >252</td>\n",
       "      <td id=\"T_a7a67_row4_col15\" class=\"data row4 col15\" >228</td>\n",
       "      <td id=\"T_a7a67_row4_col16\" class=\"data row4 col16\" >38</td>\n",
       "      <td id=\"T_a7a67_row4_col17\" class=\"data row4 col17\" >0</td>\n",
       "    </tr>\n",
       "    <tr>\n",
       "      <th id=\"T_a7a67_level0_row5\" class=\"row_heading level0 row5\" >5</th>\n",
       "      <td id=\"T_a7a67_row5_col0\" class=\"data row5 col0\" >0</td>\n",
       "      <td id=\"T_a7a67_row5_col1\" class=\"data row5 col1\" >0</td>\n",
       "      <td id=\"T_a7a67_row5_col2\" class=\"data row5 col2\" >0</td>\n",
       "      <td id=\"T_a7a67_row5_col3\" class=\"data row5 col3\" >0</td>\n",
       "      <td id=\"T_a7a67_row5_col4\" class=\"data row5 col4\" >13</td>\n",
       "      <td id=\"T_a7a67_row5_col5\" class=\"data row5 col5\" >144</td>\n",
       "      <td id=\"T_a7a67_row5_col6\" class=\"data row5 col6\" >252</td>\n",
       "      <td id=\"T_a7a67_row5_col7\" class=\"data row5 col7\" >252</td>\n",
       "      <td id=\"T_a7a67_row5_col8\" class=\"data row5 col8\" >253</td>\n",
       "      <td id=\"T_a7a67_row5_col9\" class=\"data row5 col9\" >227</td>\n",
       "      <td id=\"T_a7a67_row5_col10\" class=\"data row5 col10\" >103</td>\n",
       "      <td id=\"T_a7a67_row5_col11\" class=\"data row5 col11\" >3</td>\n",
       "      <td id=\"T_a7a67_row5_col12\" class=\"data row5 col12\" >0</td>\n",
       "      <td id=\"T_a7a67_row5_col13\" class=\"data row5 col13\" >44</td>\n",
       "      <td id=\"T_a7a67_row5_col14\" class=\"data row5 col14\" >228</td>\n",
       "      <td id=\"T_a7a67_row5_col15\" class=\"data row5 col15\" >252</td>\n",
       "      <td id=\"T_a7a67_row5_col16\" class=\"data row5 col16\" >113</td>\n",
       "      <td id=\"T_a7a67_row5_col17\" class=\"data row5 col17\" >0</td>\n",
       "    </tr>\n",
       "    <tr>\n",
       "      <th id=\"T_a7a67_level0_row6\" class=\"row_heading level0 row6\" >6</th>\n",
       "      <td id=\"T_a7a67_row6_col0\" class=\"data row6 col0\" >0</td>\n",
       "      <td id=\"T_a7a67_row6_col1\" class=\"data row6 col1\" >0</td>\n",
       "      <td id=\"T_a7a67_row6_col2\" class=\"data row6 col2\" >0</td>\n",
       "      <td id=\"T_a7a67_row6_col3\" class=\"data row6 col3\" >0</td>\n",
       "      <td id=\"T_a7a67_row6_col4\" class=\"data row6 col4\" >154</td>\n",
       "      <td id=\"T_a7a67_row6_col5\" class=\"data row6 col5\" >253</td>\n",
       "      <td id=\"T_a7a67_row6_col6\" class=\"data row6 col6\" >253</td>\n",
       "      <td id=\"T_a7a67_row6_col7\" class=\"data row6 col7\" >253</td>\n",
       "      <td id=\"T_a7a67_row6_col8\" class=\"data row6 col8\" >239</td>\n",
       "      <td id=\"T_a7a67_row6_col9\" class=\"data row6 col9\" >75</td>\n",
       "      <td id=\"T_a7a67_row6_col10\" class=\"data row6 col10\" >0</td>\n",
       "      <td id=\"T_a7a67_row6_col11\" class=\"data row6 col11\" >0</td>\n",
       "      <td id=\"T_a7a67_row6_col12\" class=\"data row6 col12\" >0</td>\n",
       "      <td id=\"T_a7a67_row6_col13\" class=\"data row6 col13\" >7</td>\n",
       "      <td id=\"T_a7a67_row6_col14\" class=\"data row6 col14\" >204</td>\n",
       "      <td id=\"T_a7a67_row6_col15\" class=\"data row6 col15\" >253</td>\n",
       "      <td id=\"T_a7a67_row6_col16\" class=\"data row6 col16\" >114</td>\n",
       "      <td id=\"T_a7a67_row6_col17\" class=\"data row6 col17\" >0</td>\n",
       "    </tr>\n",
       "    <tr>\n",
       "      <th id=\"T_a7a67_level0_row7\" class=\"row_heading level0 row7\" >7</th>\n",
       "      <td id=\"T_a7a67_row7_col0\" class=\"data row7 col0\" >0</td>\n",
       "      <td id=\"T_a7a67_row7_col1\" class=\"data row7 col1\" >0</td>\n",
       "      <td id=\"T_a7a67_row7_col2\" class=\"data row7 col2\" >0</td>\n",
       "      <td id=\"T_a7a67_row7_col3\" class=\"data row7 col3\" >76</td>\n",
       "      <td id=\"T_a7a67_row7_col4\" class=\"data row7 col4\" >253</td>\n",
       "      <td id=\"T_a7a67_row7_col5\" class=\"data row7 col5\" >252</td>\n",
       "      <td id=\"T_a7a67_row7_col6\" class=\"data row7 col6\" >252</td>\n",
       "      <td id=\"T_a7a67_row7_col7\" class=\"data row7 col7\" >227</td>\n",
       "      <td id=\"T_a7a67_row7_col8\" class=\"data row7 col8\" >88</td>\n",
       "      <td id=\"T_a7a67_row7_col9\" class=\"data row7 col9\" >0</td>\n",
       "      <td id=\"T_a7a67_row7_col10\" class=\"data row7 col10\" >0</td>\n",
       "      <td id=\"T_a7a67_row7_col11\" class=\"data row7 col11\" >0</td>\n",
       "      <td id=\"T_a7a67_row7_col12\" class=\"data row7 col12\" >0</td>\n",
       "      <td id=\"T_a7a67_row7_col13\" class=\"data row7 col13\" >57</td>\n",
       "      <td id=\"T_a7a67_row7_col14\" class=\"data row7 col14\" >252</td>\n",
       "      <td id=\"T_a7a67_row7_col15\" class=\"data row7 col15\" >252</td>\n",
       "      <td id=\"T_a7a67_row7_col16\" class=\"data row7 col16\" >113</td>\n",
       "      <td id=\"T_a7a67_row7_col17\" class=\"data row7 col17\" >0</td>\n",
       "    </tr>\n",
       "    <tr>\n",
       "      <th id=\"T_a7a67_level0_row8\" class=\"row_heading level0 row8\" >8</th>\n",
       "      <td id=\"T_a7a67_row8_col0\" class=\"data row8 col0\" >0</td>\n",
       "      <td id=\"T_a7a67_row8_col1\" class=\"data row8 col1\" >0</td>\n",
       "      <td id=\"T_a7a67_row8_col2\" class=\"data row8 col2\" >0</td>\n",
       "      <td id=\"T_a7a67_row8_col3\" class=\"data row8 col3\" >113</td>\n",
       "      <td id=\"T_a7a67_row8_col4\" class=\"data row8 col4\" >253</td>\n",
       "      <td id=\"T_a7a67_row8_col5\" class=\"data row8 col5\" >252</td>\n",
       "      <td id=\"T_a7a67_row8_col6\" class=\"data row8 col6\" >186</td>\n",
       "      <td id=\"T_a7a67_row8_col7\" class=\"data row8 col7\" >43</td>\n",
       "      <td id=\"T_a7a67_row8_col8\" class=\"data row8 col8\" >0</td>\n",
       "      <td id=\"T_a7a67_row8_col9\" class=\"data row8 col9\" >0</td>\n",
       "      <td id=\"T_a7a67_row8_col10\" class=\"data row8 col10\" >0</td>\n",
       "      <td id=\"T_a7a67_row8_col11\" class=\"data row8 col11\" >0</td>\n",
       "      <td id=\"T_a7a67_row8_col12\" class=\"data row8 col12\" >0</td>\n",
       "      <td id=\"T_a7a67_row8_col13\" class=\"data row8 col13\" >95</td>\n",
       "      <td id=\"T_a7a67_row8_col14\" class=\"data row8 col14\" >252</td>\n",
       "      <td id=\"T_a7a67_row8_col15\" class=\"data row8 col15\" >252</td>\n",
       "      <td id=\"T_a7a67_row8_col16\" class=\"data row8 col16\" >25</td>\n",
       "      <td id=\"T_a7a67_row8_col17\" class=\"data row8 col17\" >0</td>\n",
       "    </tr>\n",
       "    <tr>\n",
       "      <th id=\"T_a7a67_level0_row9\" class=\"row_heading level0 row9\" >9</th>\n",
       "      <td id=\"T_a7a67_row9_col0\" class=\"data row9 col0\" >0</td>\n",
       "      <td id=\"T_a7a67_row9_col1\" class=\"data row9 col1\" >0</td>\n",
       "      <td id=\"T_a7a67_row9_col2\" class=\"data row9 col2\" >0</td>\n",
       "      <td id=\"T_a7a67_row9_col3\" class=\"data row9 col3\" >13</td>\n",
       "      <td id=\"T_a7a67_row9_col4\" class=\"data row9 col4\" >140</td>\n",
       "      <td id=\"T_a7a67_row9_col5\" class=\"data row9 col5\" >115</td>\n",
       "      <td id=\"T_a7a67_row9_col6\" class=\"data row9 col6\" >6</td>\n",
       "      <td id=\"T_a7a67_row9_col7\" class=\"data row9 col7\" >0</td>\n",
       "      <td id=\"T_a7a67_row9_col8\" class=\"data row9 col8\" >0</td>\n",
       "      <td id=\"T_a7a67_row9_col9\" class=\"data row9 col9\" >0</td>\n",
       "      <td id=\"T_a7a67_row9_col10\" class=\"data row9 col10\" >0</td>\n",
       "      <td id=\"T_a7a67_row9_col11\" class=\"data row9 col11\" >0</td>\n",
       "      <td id=\"T_a7a67_row9_col12\" class=\"data row9 col12\" >13</td>\n",
       "      <td id=\"T_a7a67_row9_col13\" class=\"data row9 col13\" >206</td>\n",
       "      <td id=\"T_a7a67_row9_col14\" class=\"data row9 col14\" >252</td>\n",
       "      <td id=\"T_a7a67_row9_col15\" class=\"data row9 col15\" >102</td>\n",
       "      <td id=\"T_a7a67_row9_col16\" class=\"data row9 col16\" >0</td>\n",
       "      <td id=\"T_a7a67_row9_col17\" class=\"data row9 col17\" >0</td>\n",
       "    </tr>\n",
       "    <tr>\n",
       "      <th id=\"T_a7a67_level0_row10\" class=\"row_heading level0 row10\" >10</th>\n",
       "      <td id=\"T_a7a67_row10_col0\" class=\"data row10 col0\" >0</td>\n",
       "      <td id=\"T_a7a67_row10_col1\" class=\"data row10 col1\" >0</td>\n",
       "      <td id=\"T_a7a67_row10_col2\" class=\"data row10 col2\" >0</td>\n",
       "      <td id=\"T_a7a67_row10_col3\" class=\"data row10 col3\" >0</td>\n",
       "      <td id=\"T_a7a67_row10_col4\" class=\"data row10 col4\" >0</td>\n",
       "      <td id=\"T_a7a67_row10_col5\" class=\"data row10 col5\" >0</td>\n",
       "      <td id=\"T_a7a67_row10_col6\" class=\"data row10 col6\" >0</td>\n",
       "      <td id=\"T_a7a67_row10_col7\" class=\"data row10 col7\" >0</td>\n",
       "      <td id=\"T_a7a67_row10_col8\" class=\"data row10 col8\" >0</td>\n",
       "      <td id=\"T_a7a67_row10_col9\" class=\"data row10 col9\" >0</td>\n",
       "      <td id=\"T_a7a67_row10_col10\" class=\"data row10 col10\" >0</td>\n",
       "      <td id=\"T_a7a67_row10_col11\" class=\"data row10 col11\" >0</td>\n",
       "      <td id=\"T_a7a67_row10_col12\" class=\"data row10 col12\" >154</td>\n",
       "      <td id=\"T_a7a67_row10_col13\" class=\"data row10 col13\" >253</td>\n",
       "      <td id=\"T_a7a67_row10_col14\" class=\"data row10 col14\" >244</td>\n",
       "      <td id=\"T_a7a67_row10_col15\" class=\"data row10 col15\" >25</td>\n",
       "      <td id=\"T_a7a67_row10_col16\" class=\"data row10 col16\" >0</td>\n",
       "      <td id=\"T_a7a67_row10_col17\" class=\"data row10 col17\" >0</td>\n",
       "    </tr>\n",
       "  </tbody>\n",
       "</table>\n"
      ],
      "text/plain": [
       "<pandas.io.formats.style.Styler at 0x7f9b69551390>"
      ]
     },
     "execution_count": 11,
     "metadata": {},
     "output_type": "execute_result"
    }
   ],
   "source": [
    "im7_t = tensor(im7)\n",
    "df = pd.DataFrame(im7_t[4:15,4:22])\n",
    "df.style.set_properties(**{'font-size':'6pt'}).background_gradient('Greys')"
   ]
  },
  {
   "attachments": {},
   "cell_type": "markdown",
   "metadata": {},
   "source": [
    "Create list of single image tensors, check length"
   ]
  },
  {
   "cell_type": "code",
   "execution_count": 12,
   "metadata": {},
   "outputs": [
    {
     "data": {
      "text/plain": [
       "(6131, 6265)"
      ]
     },
     "execution_count": 12,
     "metadata": {},
     "output_type": "execute_result"
    }
   ],
   "source": [
    "seven_tensors = [tensor(Image.open(o)) for o in sevens]\n",
    "three_tensors = [tensor(Image.open(o)) for o in threes]\n",
    "len(three_tensors),len(seven_tensors)"
   ]
  },
  {
   "attachments": {},
   "cell_type": "markdown",
   "metadata": {},
   "source": [
    "Check an image to make sure it looks correct"
   ]
  },
  {
   "cell_type": "code",
   "execution_count": 13,
   "metadata": {},
   "outputs": [
    {
     "data": {
      "text/plain": [
       "<AxesSubplot: >"
      ]
     },
     "execution_count": 13,
     "metadata": {},
     "output_type": "execute_result"
    },
    {
     "data": {
      "image/png": "[encoded data removed]",
      "text/plain": [
       "<Figure size 100x100 with 1 Axes>"
      ]
     },
     "metadata": {},
     "output_type": "display_data"
    }
   ],
   "source": [
    "show_image(three_tensors[1])"
   ]
  },
  {
   "attachments": {},
   "cell_type": "markdown",
   "metadata": {},
   "source": [
    "Compute the average over all the images of the intensity at each pixel"
   ]
  },
  {
   "attachments": {},
   "cell_type": "markdown",
   "metadata": {},
   "source": [
    "To do this we have to combine or **stack** all the image in the list\n",
    "and create a *single 3 dimensional* tensor\n",
    "\n",
    "Common description of a 3 dimensional tensor is a *rank-3 tensor*\n",
    "\n",
    "This is a pretty common occurance, and pytorch has a function called\n",
    "*stack* to do this."
   ]
  },
  {
   "attachments": {},
   "cell_type": "markdown",
   "metadata": {},
   "source": [
    "Some operations like taking a mean require us to *cast* our integer types to float types.\n",
    "\n",
    "In pytorch there is a method *.float()* that can be called to do this\n",
    "\n",
    "Pixel values are expected to be between 0 and 1 so we can divide by 255 to get this value"
   ]
  },
  {
   "cell_type": "code",
   "execution_count": 14,
   "metadata": {},
   "outputs": [
    {
     "data": {
      "text/plain": [
       "torch.Size([6131, 28, 28])"
      ]
     },
     "execution_count": 14,
     "metadata": {},
     "output_type": "execute_result"
    }
   ],
   "source": [
    "stacked_sevens = torch.stack(seven_tensors).float()/255\n",
    "stacked_threes = torch.stack(three_tensors).float()/255\n",
    "stacked_threes.shape"
   ]
  },
  {
   "attachments": {},
   "cell_type": "markdown",
   "metadata": {},
   "source": [
    "*** "
   ]
  },
  {
   "attachments": {},
   "cell_type": "markdown",
   "metadata": {},
   "source": [
    "#### QUICK EXPERIMENT - Tensor Dimensions\n",
    "- Start with 2D List converted to tensor"
   ]
  },
  {
   "attachments": {},
   "cell_type": "markdown",
   "metadata": {},
   "source": [
    "*** "
   ]
  },
  {
   "cell_type": "code",
   "execution_count": 15,
   "metadata": {},
   "outputs": [
    {
     "name": "stdout",
     "output_type": "stream",
     "text": [
      "[[1, 2, 3, 4], [5, 6, 7, 8], [9, 8, 7, 6]]\n",
      "tensor([[1, 2, 3, 4],\n",
      "        [5, 6, 7, 8],\n",
      "        [9, 8, 7, 6]])\n"
     ]
    }
   ],
   "source": [
    "test_list = [[1, 2, 3, 4],\n",
    "             [5, 6, 7, 8],\n",
    "             [9, 8, 7, 6]]\n",
    "test_tensor = tensor(test_list)\n",
    "print(test_list)\n",
    "print(test_tensor)"
   ]
  },
  {
   "attachments": {},
   "cell_type": "markdown",
   "metadata": {},
   "source": [
    "create other tensors by multiplying by existing tensors. Multiplying by a number doesn't really work as it changes the dimensions"
   ]
  },
  {
   "cell_type": "code",
   "execution_count": 16,
   "metadata": {},
   "outputs": [
    {
     "name": "stdout",
     "output_type": "stream",
     "text": [
      "tensor([[1, 2, 3, 4],\n",
      "        [5, 6, 7, 8],\n",
      "        [9, 8, 7, 6]])\n",
      "tensor([[ 1,  4,  9, 16],\n",
      "        [25, 36, 49, 64],\n",
      "        [81, 64, 49, 36]])\n",
      "tensor([[  1,   8,  27,  64],\n",
      "        [125, 216, 343, 512],\n",
      "        [729, 512, 343, 216]])\n",
      "tensor([[   1,   16,   81,  256],\n",
      "        [ 625, 1296, 2401, 4096],\n",
      "        [6561, 4096, 2401, 1296]])\n",
      "tensor([[    1,    32,   243,  1024],\n",
      "        [ 3125,  7776, 16807, 32768],\n",
      "        [59049, 32768, 16807,  7776]])\n"
     ]
    }
   ],
   "source": [
    "print(test_tensor)\n",
    "test_tensor_2 = test_tensor * test_tensor\n",
    "print(test_tensor_2)\n",
    "test_tensor_3 = test_tensor * test_tensor_2\n",
    "print(test_tensor_3)\n",
    "test_tensor_4 = test_tensor * test_tensor_3\n",
    "print(test_tensor_4)\n",
    "test_tensor_5 = test_tensor * test_tensor_4\n",
    "print(test_tensor_5)\n"
   ]
  },
  {
   "attachments": {},
   "cell_type": "markdown",
   "metadata": {},
   "source": [
    "Get the shape of the tensors\n",
    "- *Update* - Notebooks will only output the latest call on shape"
   ]
  },
  {
   "cell_type": "code",
   "execution_count": 17,
   "metadata": {},
   "outputs": [
    {
     "data": {
      "text/plain": [
       "torch.Size([3, 4])"
      ]
     },
     "execution_count": 17,
     "metadata": {},
     "output_type": "execute_result"
    }
   ],
   "source": [
    "test_tensor.shape\n",
    "test_tensor_2.shape"
   ]
  },
  {
   "attachments": {},
   "cell_type": "markdown",
   "metadata": {},
   "source": [
    "Attempt to assing shape to variable so that it can be printed later\n",
    "- *Update* - This works"
   ]
  },
  {
   "cell_type": "code",
   "execution_count": 18,
   "metadata": {},
   "outputs": [
    {
     "name": "stdout",
     "output_type": "stream",
     "text": [
      "torch.Size([3, 4])\n",
      "torch.Size([3, 4])\n"
     ]
    }
   ],
   "source": [
    "shape_1 = test_tensor.shape\n",
    "print(shape_1)\n",
    "shape_2 = test_tensor_2.shape\n",
    "print(shape_2)"
   ]
  },
  {
   "attachments": {},
   "cell_type": "markdown",
   "metadata": {},
   "source": [
    "Stack the tensors\n",
    "- *Update* Tensors need to be in a tuple or a list to stack"
   ]
  },
  {
   "cell_type": "code",
   "execution_count": 19,
   "metadata": {},
   "outputs": [
    {
     "name": "stdout",
     "output_type": "stream",
     "text": [
      "tensor([[[    1,     2,     3,     4],\n",
      "         [    5,     6,     7,     8],\n",
      "         [    9,     8,     7,     6]],\n",
      "\n",
      "        [[    1,     4,     9,    16],\n",
      "         [   25,    36,    49,    64],\n",
      "         [   81,    64,    49,    36]],\n",
      "\n",
      "        [[    1,     8,    27,    64],\n",
      "         [  125,   216,   343,   512],\n",
      "         [  729,   512,   343,   216]],\n",
      "\n",
      "        [[    1,    16,    81,   256],\n",
      "         [  625,  1296,  2401,  4096],\n",
      "         [ 6561,  4096,  2401,  1296]],\n",
      "\n",
      "        [[    1,    32,   243,  1024],\n",
      "         [ 3125,  7776, 16807, 32768],\n",
      "         [59049, 32768, 16807,  7776]]])\n"
     ]
    }
   ],
   "source": [
    "test_tensor_list = [test_tensor, test_tensor_2, test_tensor_3, test_tensor_4, test_tensor_5]\n",
    "stacked_test_tensors = torch.stack(test_tensor_list)\n",
    "print(stacked_test_tensors)"
   ]
  },
  {
   "attachments": {},
   "cell_type": "markdown",
   "metadata": {},
   "source": [
    "Get stacked tensor shape\n",
    "- *Update* - Can be thought of for right now as indexing Z,X,Y"
   ]
  },
  {
   "cell_type": "code",
   "execution_count": 20,
   "metadata": {},
   "outputs": [
    {
     "name": "stdout",
     "output_type": "stream",
     "text": [
      "torch.Size([5, 3, 4])\n",
      "3\n"
     ]
    }
   ],
   "source": [
    "print(stacked_test_tensors.shape)\n",
    "print(len(stacked_test_tensors.shape))"
   ]
  },
  {
   "attachments": {},
   "cell_type": "markdown",
   "metadata": {},
   "source": [
    "Get all items in stack at row 0, axis 1\n"
   ]
  },
  {
   "cell_type": "code",
   "execution_count": 21,
   "metadata": {},
   "outputs": [
    {
     "name": "stdout",
     "output_type": "stream",
     "text": [
      "tensor([ 2,  4,  8, 16, 32])\n"
     ]
    }
   ],
   "source": [
    "row_index = 0\n",
    "axis_index = 1\n",
    "selected_row = stacked_test_tensors[:,row_index,axis_index]\n",
    "print(selected_row)"
   ]
  },
  {
   "attachments": {},
   "cell_type": "markdown",
   "metadata": {},
   "source": [
    "*** "
   ]
  },
  {
   "attachments": {},
   "cell_type": "markdown",
   "metadata": {},
   "source": [
    "#### RESUME"
   ]
  },
  {
   "attachments": {},
   "cell_type": "markdown",
   "metadata": {},
   "source": [
    "*** "
   ]
  },
  {
   "attachments": {},
   "cell_type": "markdown",
   "metadata": {},
   "source": [
    "*shape* is the most important attribute of a tensor. It tells you\n",
    "the length of each axis. The above is saying there are 6131 images, each of size 28x28 pixels\n",
    "\n",
    "nothing about the tensor specificallys says first is images, second is height in pixels, third is height in pixels. This is all up to us and how we construct it\n",
    "\n",
    "The *length* of the tensor shape is it's *rank*"
   ]
  },
  {
   "cell_type": "code",
   "execution_count": 22,
   "metadata": {},
   "outputs": [
    {
     "data": {
      "text/plain": [
       "3"
      ]
     },
     "execution_count": 22,
     "metadata": {},
     "output_type": "execute_result"
    }
   ],
   "source": [
    "len(stacked_sevens.shape)"
   ]
  },
  {
   "attachments": {},
   "cell_type": "markdown",
   "metadata": {},
   "source": [
    "**Important Terms to Memorize** <br>\n",
    "*Rank* - the number of axes or dimensions of a tensor<br>\n",
    "*Shape* - the size of each axis of a tensor<br>\n",
    "\n",
    "Dimension is used in a confusing way sometimes\n",
    "A \"3D\" physical position can be described with vectors, but to pytorch,\n",
    "the number of dimensions is == 1.\n",
    "\n",
    "This is because even though it's 3 items long, it's still only one axis\n",
    "Ex. \"3 Dimensional\"\n",
    "Sometimes dimension is used for *size of axis* [1,2,3]\n",
    "Sometimes it's used for *rank*  [1,2,3]\n",
    "                                [1,2,3]\n",
    "                                [1,2,3]\n",
    "\n",
    "Describing in terms of **rank, axis, and length** are unambiguous"
   ]
  },
  {
   "attachments": {},
   "cell_type": "markdown",
   "metadata": {},
   "source": [
    "A tensor's rank can be obtained with `ndim`"
   ]
  },
  {
   "cell_type": "code",
   "execution_count": 23,
   "metadata": {},
   "outputs": [
    {
     "data": {
      "text/plain": [
       "3"
      ]
     },
     "execution_count": 23,
     "metadata": {},
     "output_type": "execute_result"
    }
   ],
   "source": [
    "stacked_threes.ndim"
   ]
  },
  {
   "attachments": {},
   "cell_type": "markdown",
   "metadata": {},
   "source": [
    "Compute what *ideal* 3 looks like - \n",
    "- Calculate the mean of all image tensors\n",
    "    - Take the mean along dimension 0 of this stacked, rank-3 tensor\n",
    "    - So for every pixel position, compute the average of that pixel over all images\n",
    "    - Result is one value for every pixel position, == One Image"
   ]
  },
  {
   "attachments": {},
   "cell_type": "markdown",
   "metadata": {},
   "source": [
    "![title](../img/tensor_dims.jpeg)"
   ]
  },
  {
   "cell_type": "code",
   "execution_count": 24,
   "metadata": {},
   "outputs": [
    {
     "data": {
      "image/png": "[encoded data removed]",
      "text/plain": [
       "<Figure size 100x100 with 1 Axes>"
      ]
     },
     "metadata": {},
     "output_type": "display_data"
    }
   ],
   "source": [
    "mean3 = stacked_threes.mean(0)\n",
    "show_image(mean3);"
   ]
  },
  {
   "cell_type": "code",
   "execution_count": 25,
   "metadata": {},
   "outputs": [
    {
     "data": {
      "image/png": "[encoded data removed]",
      "text/plain": [
       "<Figure size 100x100 with 1 Axes>"
      ]
     },
     "metadata": {},
     "output_type": "display_data"
    }
   ],
   "source": [
    "mean7 = stacked_sevens.mean(0)\n",
    "show_image(mean7);"
   ]
  },
  {
   "cell_type": "code",
   "execution_count": 26,
   "metadata": {},
   "outputs": [
    {
     "data": {
      "image/png": "[encoded data removed]",
      "text/plain": [
       "<Figure size 100x100 with 1 Axes>"
      ]
     },
     "metadata": {},
     "output_type": "display_data"
    }
   ],
   "source": [
    "a_3 = stacked_threes[1]\n",
    "show_image(a_3);"
   ]
  },
  {
   "attachments": {},
   "cell_type": "markdown",
   "metadata": {},
   "source": [
    "2 Ways<br>\n",
    "Take the mean of the *absolute value* of differences\n",
    "- Called the *mean absolute difference* or *L1 norm*<br>\n",
    "Take the mean of the *square* of differences(which also makes positive)\n",
    "and then take the square root(to undo squaring)\n",
    "- Called the *root mean squared error* (RMSE) or *L2 Norm*"
   ]
  },
  {
   "attachments": {},
   "cell_type": "markdown",
   "metadata": {},
   "source": [
    "Try out both methods:"
   ]
  },
  {
   "cell_type": "code",
   "execution_count": 27,
   "metadata": {},
   "outputs": [
    {
     "data": {
      "text/plain": [
       "(tensor(0.1114), tensor(0.2021))"
      ]
     },
     "execution_count": 27,
     "metadata": {},
     "output_type": "execute_result"
    }
   ],
   "source": [
    "dist_3_abs = (a_3 - mean3).abs().mean()\n",
    "dist_3_sqr = ((a_3 - mean3)**2).mean().sqrt()\n",
    "dist_3_abs, dist_3_sqr"
   ]
  },
  {
   "cell_type": "code",
   "execution_count": 28,
   "metadata": {},
   "outputs": [
    {
     "data": {
      "text/plain": [
       "(tensor(0.1586), tensor(0.3021))"
      ]
     },
     "execution_count": 28,
     "metadata": {},
     "output_type": "execute_result"
    }
   ],
   "source": [
    "dist_7_abs = (a_3 - mean7).abs().mean()\n",
    "dist_7_sqr = ((a_3 - mean7)**2).mean().sqrt()\n",
    "dist_7_abs, dist_7_sqr"
   ]
  },
  {
   "attachments": {},
   "cell_type": "markdown",
   "metadata": {},
   "source": [
    "*** "
   ]
  },
  {
   "attachments": {},
   "cell_type": "markdown",
   "metadata": {},
   "source": [
    "Guessing Sidebar<br>\n",
    "What do each of the above mean?\n",
    "We have 2 types of differences, with the differences for both methods showing about a ~50% increase in difference when the example 3 image is measured against the 7 vs. itself.\n",
    "\n",
    "How are we going to apply these numbers? We have a tensor returned for each of the 4 operations(2 that are \"Ideal 3\" vs \"Test 3\", and 2 that are \"Ideal 7\" vs \"Test 3\")\n",
    "\n",
    "There is a difference, but are we just going to iterate over every pixel and test the difference?\n",
    "\n",
    "If so how do we aggregate results, if at all?"
   ]
  },
  {
   "attachments": {},
   "cell_type": "markdown",
   "metadata": {},
   "source": [
    "*** "
   ]
  },
  {
   "attachments": {},
   "cell_type": "markdown",
   "metadata": {},
   "source": [
    "#### Resume"
   ]
  },
  {
   "attachments": {},
   "cell_type": "markdown",
   "metadata": {},
   "source": [
    "Both methods show a shorter distance from our example 3 to ideal 3 than example 7 to ideal 3 \n",
    "\n",
    "So we can infer that our model will give the correct prediction"
   ]
  },
  {
   "attachments": {},
   "cell_type": "markdown",
   "metadata": {},
   "source": [
    "Pytorch provides both of these as *loss functions*\n",
    "They're in `torch.nn.functional`, which is recommended to import as \"F\"\n",
    "\n",
    "(Same as Pandas - import as \"PD\")\n",
    "\n",
    "Fastai already does this so it's available with F as the default name"
   ]
  },
  {
   "attachments": {},
   "cell_type": "markdown",
   "metadata": {},
   "source": [
    "Worth noting that we have to call the float method on a_3 here, and for `mse_loss` we have to add the square root\n",
    "as the mean squared error is just that - it's not the \"mean squared error squareroot\" - so, makes sense"
   ]
  },
  {
   "attachments": {},
   "cell_type": "markdown",
   "metadata": {},
   "source": [
    "Both of these take an input and a target, with the input being the item to be compared, and the target being the mean\n",
    "So need to remember that the target is what the input will be running against"
   ]
  },
  {
   "cell_type": "code",
   "execution_count": 29,
   "metadata": {},
   "outputs": [
    {
     "data": {
      "text/plain": [
       "(tensor(0.1586), tensor(0.3021))"
      ]
     },
     "execution_count": 29,
     "metadata": {},
     "output_type": "execute_result"
    }
   ],
   "source": [
    "F.l1_loss(a_3.float(),mean7), F.mse_loss(a_3.float(),mean7).sqrt()"
   ]
  },
  {
   "attachments": {},
   "cell_type": "markdown",
   "metadata": {},
   "source": [
    "Note: Difference between the L1 norm and MSE is that the MSE will penalize larger mistakes more harshly, as well as being more lenient on small mistakes - I'm going to sidebar to get a visual on this"
   ]
  },
  {
   "cell_type": "markdown",
   "metadata": {},
   "source": [
    "*** "
   ]
  },
  {
   "attachments": {},
   "cell_type": "markdown",
   "metadata": {},
   "source": [
    "#### QUICK EXPERIMENT <br>\n",
    "My dumbass trying to refamiliarize myself with basic math\n"
   ]
  },
  {
   "attachments": {},
   "cell_type": "markdown",
   "metadata": {},
   "source": [
    "Let's run through this real quick my stacked_test_tensors<br>\n",
    "So here's the state at the beginning"
   ]
  },
  {
   "cell_type": "code",
   "execution_count": 30,
   "metadata": {},
   "outputs": [
    {
     "name": "stdout",
     "output_type": "stream",
     "text": [
      "tensor([[[    1,     2,     3,     4],\n",
      "         [    5,     6,     7,     8],\n",
      "         [    9,     8,     7,     6]],\n",
      "\n",
      "        [[    1,     4,     9,    16],\n",
      "         [   25,    36,    49,    64],\n",
      "         [   81,    64,    49,    36]],\n",
      "\n",
      "        [[    1,     8,    27,    64],\n",
      "         [  125,   216,   343,   512],\n",
      "         [  729,   512,   343,   216]],\n",
      "\n",
      "        [[    1,    16,    81,   256],\n",
      "         [  625,  1296,  2401,  4096],\n",
      "         [ 6561,  4096,  2401,  1296]],\n",
      "\n",
      "        [[    1,    32,   243,  1024],\n",
      "         [ 3125,  7776, 16807, 32768],\n",
      "         [59049, 32768, 16807,  7776]]])\n"
     ]
    }
   ],
   "source": [
    "print(stacked_test_tensors)"
   ]
  },
  {
   "attachments": {},
   "cell_type": "markdown",
   "metadata": {},
   "source": [
    "Let's create another ndim tensor so that there's something to compare all this against"
   ]
  },
  {
   "cell_type": "code",
   "execution_count": 31,
   "metadata": {},
   "outputs": [
    {
     "name": "stdout",
     "output_type": "stream",
     "text": [
      "tensor([[[     4,      8,     12,     16],\n",
      "         [    20,     24,     28,     32],\n",
      "         [    36,     32,     28,     24]],\n",
      "\n",
      "        [[     4,     16,     36,     64],\n",
      "         [   100,    144,    196,    256],\n",
      "         [   324,    256,    196,    144]],\n",
      "\n",
      "        [[     4,     32,    108,    256],\n",
      "         [   500,    864,   1372,   2048],\n",
      "         [  2916,   2048,   1372,    864]],\n",
      "\n",
      "        [[     4,     64,    324,   1024],\n",
      "         [  2500,   5184,   9604,  16384],\n",
      "         [ 26244,  16384,   9604,   5184]],\n",
      "\n",
      "        [[     4,    128,    972,   4096],\n",
      "         [ 12500,  31104,  67228, 131072],\n",
      "         [236196, 131072,  67228,  31104]]])\n"
     ]
    }
   ],
   "source": [
    "stacked_test_tensors_2 = stacked_test_tensors * 4\n",
    "print(stacked_test_tensors_2)"
   ]
  },
  {
   "attachments": {},
   "cell_type": "markdown",
   "metadata": {},
   "source": [
    "**L1** Alright lets see how different this gets - First the absolute value of the difference"
   ]
  },
  {
   "cell_type": "code",
   "execution_count": 32,
   "metadata": {},
   "outputs": [
    {
     "name": "stdout",
     "output_type": "stream",
     "text": [
      "tensor([[[     3,      6,      9,     12],\n",
      "         [    15,     18,     21,     24],\n",
      "         [    27,     24,     21,     18]],\n",
      "\n",
      "        [[     3,     12,     27,     48],\n",
      "         [    75,    108,    147,    192],\n",
      "         [   243,    192,    147,    108]],\n",
      "\n",
      "        [[     3,     24,     81,    192],\n",
      "         [   375,    648,   1029,   1536],\n",
      "         [  2187,   1536,   1029,    648]],\n",
      "\n",
      "        [[     3,     48,    243,    768],\n",
      "         [  1875,   3888,   7203,  12288],\n",
      "         [ 19683,  12288,   7203,   3888]],\n",
      "\n",
      "        [[     3,     96,    729,   3072],\n",
      "         [  9375,  23328,  50421,  98304],\n",
      "         [177147,  98304,  50421,  23328]]])\n"
     ]
    }
   ],
   "source": [
    "stacked_test_diff = stacked_test_tensors_2 - stacked_test_tensors\n",
    "print(stacked_test_diff.abs())"
   ]
  },
  {
   "attachments": {},
   "cell_type": "markdown",
   "metadata": {},
   "source": [
    "**MSE** Now the mean square error"
   ]
  },
  {
   "cell_type": "code",
   "execution_count": 33,
   "metadata": {},
   "outputs": [
    {
     "name": "stdout",
     "output_type": "stream",
     "text": [
      "tensor([[[3.0000e+00, 6.0000e+00, 9.0000e+00, 1.2000e+01],\n",
      "         [1.5000e+01, 1.8000e+01, 2.1000e+01, 2.4000e+01],\n",
      "         [2.7000e+01, 2.4000e+01, 2.1000e+01, 1.8000e+01]],\n",
      "\n",
      "        [[3.0000e+00, 1.2000e+01, 2.7000e+01, 4.8000e+01],\n",
      "         [7.5000e+01, 1.0800e+02, 1.4700e+02, 1.9200e+02],\n",
      "         [2.4300e+02, 1.9200e+02, 1.4700e+02, 1.0800e+02]],\n",
      "\n",
      "        [[3.0000e+00, 2.4000e+01, 8.1000e+01, 1.9200e+02],\n",
      "         [3.7500e+02, 6.4800e+02, 1.0290e+03, 1.5360e+03],\n",
      "         [2.1870e+03, 1.5360e+03, 1.0290e+03, 6.4800e+02]],\n",
      "\n",
      "        [[3.0000e+00, 4.8000e+01, 2.4300e+02, 7.6800e+02],\n",
      "         [1.8750e+03, 3.8880e+03, 7.2030e+03, 1.2288e+04],\n",
      "         [1.9683e+04, 1.2288e+04, 7.2030e+03, 3.8880e+03]],\n",
      "\n",
      "        [[3.0000e+00, 9.6000e+01, 7.2900e+02, 3.0720e+03],\n",
      "         [9.3750e+03, 2.3328e+04, 5.0421e+04, 9.8304e+04],\n",
      "         [1.7715e+05, 9.8304e+04, 5.0421e+04, 2.3328e+04]]])\n",
      "hello\n"
     ]
    }
   ],
   "source": [
    "stacked_test_squared = ((stacked_test_tensors_2 - stacked_test_tensors)**2).sqrt()\n",
    "print(torch.round(stacked_test_squared, decimals=1))\n",
    "print('hello')"
   ]
  },
  {
   "attachments": {},
   "cell_type": "markdown",
   "metadata": {},
   "source": [
    "Alright not quite the output I was looking for, but I got the gist"
   ]
  },
  {
   "attachments": {},
   "cell_type": "markdown",
   "metadata": {},
   "source": [
    "*** "
   ]
  },
  {
   "attachments": {},
   "cell_type": "markdown",
   "metadata": {},
   "source": [
    "#### RESUME"
   ]
  },
  {
   "attachments": {},
   "cell_type": "markdown",
   "metadata": {},
   "source": [
    "*** "
   ]
  },
  {
   "attachments": {},
   "cell_type": "markdown",
   "metadata": {},
   "source": [
    "NumPy and PyTorch are similar in that they can both be much faster than most python because their data structures are written in optimized C. \n",
    "\n",
    "PyTorch has to use a single numeric type for all it's components\n",
    "\n",
    "It's tensors also can't be jagged(innermost arrays being different sizes)\n",
    "\n",
    "This is because of how the GPU takes matrix operations\n",
    "\n",
    "PyTorch can also automatically calculate derivatives of operations - which is required for deep learning\n",
    "\n"
   ]
  },
  {
   "cell_type": "markdown",
   "metadata": {},
   "source": [
    "#### Tensor Basics"
   ]
  },
  {
   "attachments": {},
   "cell_type": "markdown",
   "metadata": {},
   "source": [
    "To create an array/tensor, pass a list or list of lists to `array()` or `tensor()`"
   ]
  },
  {
   "cell_type": "code",
   "execution_count": 34,
   "metadata": {},
   "outputs": [],
   "source": [
    "data = [[2,4,6],[5,6,7]]\n",
    "arr = array(data)\n",
    "tns = tensor(data)"
   ]
  },
  {
   "cell_type": "code",
   "execution_count": 35,
   "metadata": {},
   "outputs": [
    {
     "data": {
      "text/plain": [
       "array([[2, 4, 6],\n",
       "       [5, 6, 7]])"
      ]
     },
     "execution_count": 35,
     "metadata": {},
     "output_type": "execute_result"
    }
   ],
   "source": [
    "#numpy\n",
    "arr"
   ]
  },
  {
   "cell_type": "code",
   "execution_count": 36,
   "metadata": {},
   "outputs": [
    {
     "data": {
      "text/plain": [
       "tensor([[2, 4, 6],\n",
       "        [5, 6, 7]])"
      ]
     },
     "execution_count": 36,
     "metadata": {},
     "output_type": "execute_result"
    }
   ],
   "source": [
    "#pytorch\n",
    "tns"
   ]
  },
  {
   "attachments": {},
   "cell_type": "markdown",
   "metadata": {},
   "source": [
    "select row"
   ]
  },
  {
   "cell_type": "code",
   "execution_count": 37,
   "metadata": {},
   "outputs": [
    {
     "data": {
      "text/plain": [
       "tensor([5, 6, 7])"
      ]
     },
     "execution_count": 37,
     "metadata": {},
     "output_type": "execute_result"
    }
   ],
   "source": [
    "tns[1,:]"
   ]
  },
  {
   "cell_type": "code",
   "execution_count": 38,
   "metadata": {},
   "outputs": [
    {
     "data": {
      "text/plain": [
       "tensor([5, 6, 7])"
      ]
     },
     "execution_count": 38,
     "metadata": {},
     "output_type": "execute_result"
    }
   ],
   "source": [
    "#same\n",
    "tns[1]"
   ]
  },
  {
   "cell_type": "code",
   "execution_count": 39,
   "metadata": {},
   "outputs": [
    {
     "data": {
      "text/plain": [
       "tensor([4, 6])"
      ]
     },
     "execution_count": 39,
     "metadata": {},
     "output_type": "execute_result"
    }
   ],
   "source": [
    "tns[:,1]"
   ]
  },
  {
   "cell_type": "code",
   "execution_count": 40,
   "metadata": {},
   "outputs": [
    {
     "data": {
      "text/plain": [
       "tensor([6, 7])"
      ]
     },
     "execution_count": 40,
     "metadata": {},
     "output_type": "execute_result"
    }
   ],
   "source": [
    "tns[1,1:3]"
   ]
  },
  {
   "cell_type": "code",
   "execution_count": 41,
   "metadata": {},
   "outputs": [
    {
     "data": {
      "text/plain": [
       "tensor([[3, 5, 7],\n",
       "        [6, 7, 8]])"
      ]
     },
     "execution_count": 41,
     "metadata": {},
     "output_type": "execute_result"
    }
   ],
   "source": [
    "tns+1"
   ]
  },
  {
   "cell_type": "code",
   "execution_count": 42,
   "metadata": {},
   "outputs": [
    {
     "data": {
      "text/plain": [
       "'torch.LongTensor'"
      ]
     },
     "execution_count": 42,
     "metadata": {},
     "output_type": "execute_result"
    }
   ],
   "source": [
    "tns.type()"
   ]
  },
  {
   "cell_type": "code",
   "execution_count": 43,
   "metadata": {},
   "outputs": [
    {
     "data": {
      "text/plain": [
       "tensor([[ 3.0000,  6.0000,  9.0000],\n",
       "        [ 7.5000,  9.0000, 10.5000]])"
      ]
     },
     "execution_count": 43,
     "metadata": {},
     "output_type": "execute_result"
    }
   ],
   "source": [
    "tns*1.5"
   ]
  },
  {
   "attachments": {},
   "cell_type": "markdown",
   "metadata": {},
   "source": [
    "*** "
   ]
  },
  {
   "attachments": {},
   "cell_type": "markdown",
   "metadata": {},
   "source": [
    "## Computing Metrics Using Broadcasting"
   ]
  },
  {
   "attachments": {},
   "cell_type": "markdown",
   "metadata": {},
   "source": [
    "*** "
   ]
  },
  {
   "attachments": {},
   "cell_type": "markdown",
   "metadata": {},
   "source": [
    "In practice use *accuracy* as the metric for classification models"
   ]
  },
  {
   "attachments": {},
   "cell_type": "markdown",
   "metadata": {},
   "source": [
    "Calculate *accuracy* metric over a *validation set* to prevent overfitting\n",
    "\n",
    "Not a huge risk here, but going to use a validation set to follow normal practices and to be ready for second try"
   ]
  },
  {
   "attachments": {},
   "cell_type": "markdown",
   "metadata": {},
   "source": [
    "**Below**<br>\n",
    "- iterate over and open all images in the validation set directories\n",
    "- stack tensors\n",
    "- convert to float between 0 and 1 and reassign\n",
    "- output shape of resulting tensors"
   ]
  },
  {
   "cell_type": "code",
   "execution_count": 44,
   "metadata": {},
   "outputs": [
    {
     "data": {
      "text/plain": [
       "(torch.Size([1010, 28, 28]), torch.Size([1028, 28, 28]))"
      ]
     },
     "execution_count": 44,
     "metadata": {},
     "output_type": "execute_result"
    }
   ],
   "source": [
    "valid_3_tens = torch.stack([tensor(Image.open(o))\n",
    "                            for o in (path/'valid'/'3').ls()])\n",
    "valid_3_tens = valid_3_tens.float()/255\n",
    "\n",
    "valid_7_tens = torch.stack([tensor(Image.open(o))\n",
    "                            for o in (path/'valid'/'7').ls()])\n",
    "valid_7_tens = valid_7_tens.float()/255\n",
    "\n",
    "valid_3_tens.shape, valid_7_tens.shape"
   ]
  },
  {
   "attachments": {},
   "cell_type": "markdown",
   "metadata": {},
   "source": [
    "You should be checking shapes as you go"
   ]
  },
  {
   "attachments": {},
   "cell_type": "markdown",
   "metadata": {},
   "source": [
    "We want to create a function called `is_3` that will decide if an image is a 3 or a 7.\n",
    "\n",
    "It will decide which of the two ideal digits the image is closer to\n",
    "\n",
    "We need to define distance and calculate it"
   ]
  },
  {
   "attachments": {},
   "cell_type": "markdown",
   "metadata": {},
   "source": [
    "Calc mean abs error below\n",
    "- define function that takes 2 parameters\n",
    "- return average of absolute values of parameter difference\n",
    "- pass `a_3` sample image and `mean3` ideal image to function"
   ]
  },
  {
   "cell_type": "code",
   "execution_count": 46,
   "metadata": {},
   "outputs": [
    {
     "data": {
      "text/plain": [
       "tensor(0.1114)"
      ]
     },
     "execution_count": 46,
     "metadata": {},
     "output_type": "execute_result"
    }
   ],
   "source": [
    "def mnist_distance(a,b): return (a-b).abs().mean((-1,-2))\n",
    "mnist_distance(a_3, mean3)"
   ]
  },
  {
   "attachments": {},
   "cell_type": "markdown",
   "metadata": {},
   "source": [
    "Both are single image tensors with a shape of `[28x28]`"
   ]
  },
  {
   "attachments": {},
   "cell_type": "markdown",
   "metadata": {},
   "source": [
    "To calculate overall accuracy, we need to extrapolate to calculate the distance for *every* image in the validation set\n",
    "\n",
    "A loop could be used to go through every single-image tensor that are stacked in the validation set `valid_3_tens`, which is 1010 images, but that's not as efficient "
   ]
  },
  {
   "attachments": {},
   "cell_type": "markdown",
   "metadata": {},
   "source": [
    "When we take the distance function used for comparing single images but pass it our whole validation(`valid_3_tens`) set tensor stack:"
   ]
  },
  {
   "cell_type": "code",
   "execution_count": 47,
   "metadata": {},
   "outputs": [
    {
     "data": {
      "text/plain": [
       "(tensor([0.1488, 0.1145, 0.1158,  ..., 0.1129, 0.1419, 0.1669]),\n",
       " torch.Size([1010]))"
      ]
     },
     "execution_count": 47,
     "metadata": {},
     "output_type": "execute_result"
    }
   ],
   "source": [
    "valid_3_dist = mnist_distance(valid_3_tens, mean3)\n",
    "valid_3_dist, valid_3_dist.shape"
   ]
  },
  {
   "attachments": {},
   "cell_type": "markdown",
   "metadata": {},
   "source": [
    "Even though the shapes don't match, it returns the distance of every single image as a vector(rank-1 tensor)"
   ]
  },
  {
   "attachments": {},
   "cell_type": "markdown",
   "metadata": {},
   "source": [
    "How does it do this?\n",
    "- When pytorch tries to perform a simple subtraction between two tensors of different ranks, it uses **broadcasting**\n",
    "- That is, it automatically expands the tensor with the smaller rank to have the same size as the one with the larger rank\n",
    "- This makes tensor code much easier to write"
   ]
  },
  {
   "attachments": {},
   "cell_type": "markdown",
   "metadata": {},
   "source": [
    "After broadcasting, pytorch applies usual logic to tensors of the same rank"
   ]
  },
  {
   "cell_type": "code",
   "execution_count": 48,
   "metadata": {},
   "outputs": [
    {
     "data": {
      "text/plain": [
       "tensor([4, 5, 8])"
      ]
     },
     "execution_count": 48,
     "metadata": {},
     "output_type": "execute_result"
    }
   ],
   "source": [
    "tensor([3,4,7]) + tensor(1)"
   ]
  },
  {
   "cell_type": "code",
   "execution_count": 49,
   "metadata": {},
   "outputs": [
    {
     "data": {
      "text/plain": [
       "tensor([4, 5, 8])"
      ]
     },
     "execution_count": 49,
     "metadata": {},
     "output_type": "execute_result"
    }
   ],
   "source": [
    "tensor([3,4,7]) + tensor([1])"
   ]
  },
  {
   "attachments": {},
   "cell_type": "markdown",
   "metadata": {},
   "source": [
    "So pytorch treats `mean3`, a rank-2 tensor of a single image as 1010 copies of itself, then subtracts each from the validation set"
   ]
  },
  {
   "attachments": {},
   "cell_type": "markdown",
   "metadata": {},
   "source": [
    "*** \n"
   ]
  },
  {
   "attachments": {},
   "cell_type": "markdown",
   "metadata": {},
   "source": [
    "#### QUESTION<br>\n",
    "What shape would we expect the above `mean3` tensor to have?\n",
    "- Well, what shape is `mean3`?\n"
   ]
  },
  {
   "cell_type": "code",
   "execution_count": 50,
   "metadata": {},
   "outputs": [
    {
     "data": {
      "text/plain": [
       "torch.Size([28, 28])"
      ]
     },
     "execution_count": 50,
     "metadata": {},
     "output_type": "execute_result"
    }
   ],
   "source": [
    "mean3.shape"
   ]
  },
  {
   "attachments": {},
   "cell_type": "markdown",
   "metadata": {},
   "source": [
    "It would have to be the same shape as the target to work. What is the target?"
   ]
  },
  {
   "cell_type": "code",
   "execution_count": 51,
   "metadata": {},
   "outputs": [
    {
     "data": {
      "text/plain": [
       "torch.Size([1010, 28, 28])"
      ]
     },
     "execution_count": 51,
     "metadata": {},
     "output_type": "execute_result"
    }
   ],
   "source": [
    "valid_3_tens.shape"
   ]
  },
  {
   "attachments": {},
   "cell_type": "markdown",
   "metadata": {},
   "source": [
    "Ok so guessing they're the same at [1010, 28, 28]"
   ]
  },
  {
   "attachments": {},
   "cell_type": "markdown",
   "metadata": {},
   "source": [
    "Correct!"
   ]
  },
  {
   "cell_type": "markdown",
   "metadata": {},
   "source": [
    "***"
   ]
  },
  {
   "cell_type": "code",
   "execution_count": 52,
   "metadata": {},
   "outputs": [
    {
     "data": {
      "text/plain": [
       "torch.Size([1010, 28, 28])"
      ]
     },
     "execution_count": 52,
     "metadata": {},
     "output_type": "execute_result"
    }
   ],
   "source": [
    "(valid_3_tens-mean3).shape"
   ]
  },
  {
   "attachments": {},
   "cell_type": "markdown",
   "metadata": {},
   "source": [
    "Worth noting - \n",
    "- Pytorch doesn't actually copy `mean3` 1010 times, it pretends it were a tensor of that shape but doesn't allocate extra memory\n",
    "- Does the whole calculation in C on the GPU, thousands to millions of times faster than pure python(upper is GPU)\n"
   ]
  },
  {
   "attachments": {},
   "cell_type": "markdown",
   "metadata": {},
   "source": [
    "This is true for **ALL BROADCASTING AND ELEMENTWISE OPERATIONS AND FUNCTIONS DONE IN PYTORCH** \n",
    "#### IT'S THE MOST IMPORTANT TECHNIQUE FOR YOU TO KNOW TO CREATE EFFICIENT PYTORCH CODE"
   ]
  },
  {
   "attachments": {},
   "cell_type": "markdown",
   "metadata": {},
   "source": [
    "Our function is applying `abs()` elementwise - that is to each element in the tensor stack\n",
    "\n",
    "So it returns 1010 matrices of abs values"
   ]
  },
  {
   "attachments": {},
   "cell_type": "markdown",
   "metadata": {},
   "source": [
    "The `mean((-1,-2))` - -1,-2 represents a range of axes\n",
    "- -1 being the last element\n",
    "- -2 refers to the second to last\n",
    "- So in this case we're getting the last two axes of the tensor\n"
   ]
  },
  {
   "attachments": {},
   "cell_type": "markdown",
   "metadata": {},
   "source": [
    "Why?"
   ]
  },
  {
   "cell_type": "code",
   "execution_count": 55,
   "metadata": {},
   "outputs": [
    {
     "data": {
      "text/plain": [
       "torch.Size([1010, 28, 28])"
      ]
     },
     "execution_count": 55,
     "metadata": {},
     "output_type": "execute_result"
    }
   ],
   "source": [
    "valid_3_tens.shape"
   ]
  },
  {
   "attachments": {},
   "cell_type": "markdown",
   "metadata": {},
   "source": [
    "If we look at the shape above, the last element and second to last elements are the ones we want, the \"x & y\" of this basically\n",
    "\n",
    "If we averaged the number of pics - it probably wouldn't work out so well\n",
    "\n",
    "After taking the mean we're leftover with just [1010] as our final size \n",
    "\n",
    "For every image we averaged the intensity of all the pixels in that image"
   ]
  },
  {
   "attachments": {},
   "cell_type": "markdown",
   "metadata": {},
   "source": [
    "We're going to use our function below to\n",
    "- pass a variable(x)\n",
    "- check that the distance between (x and mean3) is less than (x and mean 7)\n",
    "- so returning a boolean based on whether that condition passes for each x"
   ]
  },
  {
   "cell_type": "code",
   "execution_count": 56,
   "metadata": {},
   "outputs": [],
   "source": [
    "def is_3(x): return mnist_distance(x, mean3) < mnist_distance(x, mean7)"
   ]
  },
  {
   "attachments": {},
   "cell_type": "markdown",
   "metadata": {},
   "source": [
    "Testing on example case"
   ]
  },
  {
   "cell_type": "code",
   "execution_count": 57,
   "metadata": {},
   "outputs": [
    {
     "name": "stdout",
     "output_type": "stream",
     "text": [
      "tensor(True)\n"
     ]
    }
   ],
   "source": [
    "print(is_3(a_3))"
   ]
  },
  {
   "attachments": {},
   "cell_type": "markdown",
   "metadata": {},
   "source": [
    "Interesting - it returns `True` in a tensor"
   ]
  },
  {
   "cell_type": "code",
   "execution_count": 59,
   "metadata": {},
   "outputs": [
    {
     "data": {
      "text/plain": [
       "(tensor(True), tensor(1.))"
      ]
     },
     "execution_count": 59,
     "metadata": {},
     "output_type": "execute_result"
    }
   ],
   "source": [
    "is_3(a_3), is_3(a_3).float()"
   ]
  },
  {
   "attachments": {},
   "cell_type": "markdown",
   "metadata": {},
   "source": [
    "Ah ok, there we go, True and False as binary 1 and 0"
   ]
  },
  {
   "cell_type": "code",
   "execution_count": null,
   "metadata": {},
   "outputs": [],
   "source": []
  }
 ],
 "metadata": {
  "kernelspec": {
   "display_name": "base",
   "language": "python",
   "name": "python3"
  },
  "language_info": {
   "codemirror_mode": {
    "name": "ipython",
    "version": 3
   },
   "file_extension": ".py",
   "mimetype": "text/x-python",
   "name": "python",
   "nbconvert_exporter": "python",
   "pygments_lexer": "ipython3",
   "version": "3.10.6"
  },
  "orig_nbformat": 4,
  "vscode": {
   "interpreter": {
    "hash": "f4702a165a03ade35e40e0221d250a3a44a346cfc16a49ce6d051d1595069b46"
   }
  }
 },
 "nbformat": 4,
 "nbformat_minor": 2
}
